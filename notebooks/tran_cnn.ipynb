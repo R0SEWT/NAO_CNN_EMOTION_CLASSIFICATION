{
 "cells": [
  {
   "cell_type": "code",
   "execution_count": 1,
   "id": "b9f626b8",
   "metadata": {},
   "outputs": [
    {
     "data": {
      "text/plain": [
       "'/home/exodia/NAO'"
      ]
     },
     "execution_count": 1,
     "metadata": {},
     "output_type": "execute_result"
    }
   ],
   "source": [
    "import sys\n",
    "from pathlib import Path\n",
    "\n",
    "entry_path =  str(Path().resolve().parents[0])\n",
    "entry_path"
   ]
  },
  {
   "cell_type": "code",
   "execution_count": 10,
   "id": "5ae6d627",
   "metadata": {},
   "outputs": [
    {
     "name": "stdout",
     "output_type": "stream",
     "text": [
      "Requirement already satisfied: optuna in /home/exodia/miniconda3/envs/nao_sv/lib/python3.9/site-packages (4.4.0)\n",
      "Requirement already satisfied: optunahub in /home/exodia/miniconda3/envs/nao_sv/lib/python3.9/site-packages (0.3.0)\n",
      "Requirement already satisfied: cmaes in /home/exodia/miniconda3/envs/nao_sv/lib/python3.9/site-packages (0.11.1)\n",
      "Collecting scipy\n",
      "  Downloading scipy-1.13.1-cp39-cp39-manylinux_2_17_x86_64.manylinux2014_x86_64.whl.metadata (60 kB)\n",
      "Requirement already satisfied: alembic>=1.5.0 in /home/exodia/miniconda3/envs/nao_sv/lib/python3.9/site-packages (from optuna) (1.16.2)\n",
      "Requirement already satisfied: colorlog in /home/exodia/miniconda3/envs/nao_sv/lib/python3.9/site-packages (from optuna) (6.9.0)\n",
      "Requirement already satisfied: numpy in /home/exodia/miniconda3/envs/nao_sv/lib/python3.9/site-packages (from optuna) (2.0.2)\n",
      "Requirement already satisfied: packaging>=20.0 in /home/exodia/miniconda3/envs/nao_sv/lib/python3.9/site-packages (from optuna) (25.0)\n",
      "Requirement already satisfied: sqlalchemy>=1.4.2 in /home/exodia/miniconda3/envs/nao_sv/lib/python3.9/site-packages (from optuna) (2.0.41)\n",
      "Requirement already satisfied: tqdm in /home/exodia/miniconda3/envs/nao_sv/lib/python3.9/site-packages (from optuna) (4.67.1)\n",
      "Requirement already satisfied: PyYAML in /home/exodia/miniconda3/envs/nao_sv/lib/python3.9/site-packages (from optuna) (6.0.2)\n",
      "Requirement already satisfied: GitPython in /home/exodia/miniconda3/envs/nao_sv/lib/python3.9/site-packages (from optunahub) (3.1.44)\n",
      "Requirement already satisfied: PyGithub>=1.59 in /home/exodia/miniconda3/envs/nao_sv/lib/python3.9/site-packages (from optunahub) (2.6.1)\n",
      "Requirement already satisfied: Mako in /home/exodia/miniconda3/envs/nao_sv/lib/python3.9/site-packages (from alembic>=1.5.0->optuna) (1.3.10)\n",
      "Requirement already satisfied: typing-extensions>=4.12 in /home/exodia/miniconda3/envs/nao_sv/lib/python3.9/site-packages (from alembic>=1.5.0->optuna) (4.14.0)\n",
      "Requirement already satisfied: tomli in /home/exodia/miniconda3/envs/nao_sv/lib/python3.9/site-packages (from alembic>=1.5.0->optuna) (2.2.1)\n",
      "Requirement already satisfied: pynacl>=1.4.0 in /home/exodia/miniconda3/envs/nao_sv/lib/python3.9/site-packages (from PyGithub>=1.59->optunahub) (1.5.0)\n",
      "Requirement already satisfied: requests>=2.14.0 in /home/exodia/miniconda3/envs/nao_sv/lib/python3.9/site-packages (from PyGithub>=1.59->optunahub) (2.32.4)\n",
      "Requirement already satisfied: pyjwt>=2.4.0 in /home/exodia/miniconda3/envs/nao_sv/lib/python3.9/site-packages (from pyjwt[crypto]>=2.4.0->PyGithub>=1.59->optunahub) (2.10.1)\n",
      "Requirement already satisfied: urllib3>=1.26.0 in /home/exodia/miniconda3/envs/nao_sv/lib/python3.9/site-packages (from PyGithub>=1.59->optunahub) (2.4.0)\n",
      "Requirement already satisfied: Deprecated in /home/exodia/miniconda3/envs/nao_sv/lib/python3.9/site-packages (from PyGithub>=1.59->optunahub) (1.2.18)\n",
      "Requirement already satisfied: cryptography>=3.4.0 in /home/exodia/miniconda3/envs/nao_sv/lib/python3.9/site-packages (from pyjwt[crypto]>=2.4.0->PyGithub>=1.59->optunahub) (45.0.4)\n",
      "Requirement already satisfied: cffi>=1.14 in /home/exodia/miniconda3/envs/nao_sv/lib/python3.9/site-packages (from cryptography>=3.4.0->pyjwt[crypto]>=2.4.0->PyGithub>=1.59->optunahub) (1.17.1)\n",
      "Requirement already satisfied: pycparser in /home/exodia/miniconda3/envs/nao_sv/lib/python3.9/site-packages (from cffi>=1.14->cryptography>=3.4.0->pyjwt[crypto]>=2.4.0->PyGithub>=1.59->optunahub) (2.22)\n",
      "Requirement already satisfied: charset_normalizer<4,>=2 in /home/exodia/miniconda3/envs/nao_sv/lib/python3.9/site-packages (from requests>=2.14.0->PyGithub>=1.59->optunahub) (3.4.2)\n",
      "Requirement already satisfied: idna<4,>=2.5 in /home/exodia/miniconda3/envs/nao_sv/lib/python3.9/site-packages (from requests>=2.14.0->PyGithub>=1.59->optunahub) (3.10)\n",
      "Requirement already satisfied: certifi>=2017.4.17 in /home/exodia/miniconda3/envs/nao_sv/lib/python3.9/site-packages (from requests>=2.14.0->PyGithub>=1.59->optunahub) (2025.4.26)\n",
      "Requirement already satisfied: greenlet>=1 in /home/exodia/miniconda3/envs/nao_sv/lib/python3.9/site-packages (from sqlalchemy>=1.4.2->optuna) (3.2.3)\n",
      "Requirement already satisfied: wrapt<2,>=1.10 in /home/exodia/miniconda3/envs/nao_sv/lib/python3.9/site-packages (from Deprecated->PyGithub>=1.59->optunahub) (1.17.2)\n",
      "Requirement already satisfied: gitdb<5,>=4.0.1 in /home/exodia/miniconda3/envs/nao_sv/lib/python3.9/site-packages (from GitPython->optunahub) (4.0.12)\n",
      "Requirement already satisfied: smmap<6,>=3.0.1 in /home/exodia/miniconda3/envs/nao_sv/lib/python3.9/site-packages (from gitdb<5,>=4.0.1->GitPython->optunahub) (5.0.2)\n",
      "Requirement already satisfied: MarkupSafe>=0.9.2 in /home/exodia/miniconda3/envs/nao_sv/lib/python3.9/site-packages (from Mako->alembic>=1.5.0->optuna) (3.0.2)\n",
      "Downloading scipy-1.13.1-cp39-cp39-manylinux_2_17_x86_64.manylinux2014_x86_64.whl (38.6 MB)\n",
      "\u001b[2K   \u001b[90m━━━━━━━━━━━━━━━━━━━━━━━━━━━━━━━━━━━━━━━━\u001b[0m \u001b[32m38.6/38.6 MB\u001b[0m \u001b[31m37.4 MB/s\u001b[0m eta \u001b[36m0:00:00\u001b[0m00:01\u001b[0m00:01\u001b[0m\n",
      "\u001b[?25hInstalling collected packages: scipy\n",
      "Successfully installed scipy-1.13.1\n"
     ]
    }
   ],
   "source": [
    "!pip install optuna optunahub cmaes scipy"
   ]
  },
  {
   "cell_type": "code",
   "execution_count": 2,
   "id": "8c40c9a5",
   "metadata": {},
   "outputs": [
    {
     "name": "stderr",
     "output_type": "stream",
     "text": [
      "/home/exodia/miniconda3/envs/nao_sv/lib/python3.9/site-packages/tqdm/auto.py:21: TqdmWarning: IProgress not found. Please update jupyter and ipywidgets. See https://ipywidgets.readthedocs.io/en/stable/user_install.html\n",
      "  from .autonotebook import tqdm as notebook_tqdm\n"
     ]
    }
   ],
   "source": [
    "import sys\n",
    "import optuna\n",
    "import optunahub\n",
    "from pathlib import Path\n",
    "\n",
    "\n",
    "\n",
    "sys.path.append(entry_path)\n",
    "\n",
    "\n",
    "from scripts.train.train_cnn import main  \n",
    "import matplotlib.pyplot as plt\n",
    "import itertools\n",
    "import pandas as pd\n",
    "\n",
    "param_grid = {\n",
    "    'model': ['mobilenet', 'vgg19'],\n",
    "    'batch_size': [16, 32],\n",
    "    'lr': [1e-3, 1e-4],\n",
    "    'epochs': [10],\n",
    "}\n",
    "\n",
    "model = 'mobilenet'\n",
    "\n",
    "data_path = entry_path+'/data/kers2013_sample_500_val20/' \n"
   ]
  },
  {
   "cell_type": "code",
   "execution_count": 3,
   "id": "1c7d78fd",
   "metadata": {},
   "outputs": [
    {
     "name": "stderr",
     "output_type": "stream",
     "text": [
      "2025-06-21 00:01:21,141 - 📁 Training log created for model: mobilenet\n",
      "2025-06-21 00:01:21,141 - 📄 Logs will be saved to logs/train/mobilenet/20250621_000121.log\n",
      "2025-06-21 00:01:21,141 - 📄 CSV will be saved to logs/train/mobilenet/20250621_000121.csv\n",
      "/home/exodia/miniconda3/envs/nao_sv/lib/python3.9/site-packages/torchvision/models/_utils.py:208: UserWarning: The parameter 'pretrained' is deprecated since 0.13 and may be removed in the future, please use 'weights' instead.\n",
      "  warnings.warn(\n",
      "/home/exodia/miniconda3/envs/nao_sv/lib/python3.9/site-packages/torchvision/models/_utils.py:223: UserWarning: Arguments other than a weight enum or `None` for 'weights' are deprecated since 0.13 and may be removed in the future. The current behavior is equivalent to passing `weights=MobileNet_V2_Weights.IMAGENET1K_V1`. You can also use `weights=MobileNet_V2_Weights.DEFAULT` to get the most up-to-date weights.\n",
      "  warnings.warn(msg)\n",
      "2025-06-21 00:01:23,810 - Epoch 1/1 | Train Loss: 11.0681 | Val Loss: 2.5899 | Val Acc: 0.1429 | Time: 2.40s\n",
      "2025-06-21 00:01:23,834 - Entrenamiento completo. Guardando modelo final...\n",
      "2025-06-21 00:01:23,835 - ✅ Logging finalizado.\n"
     ]
    },
    {
     "name": "stdout",
     "output_type": "stream",
     "text": [
      "Epoch 1/1 | Train Loss: 11.0681 | Val Loss: 2.5899 | Val Acc: 0.1429 | Time: 2.40s\n"
     ]
    }
   ],
   "source": [
    "batch_size, epochs, lr = 4, 1, 0.3\n",
    "val_acc = main(model, batch_size, epochs, lr, data_path)\n"
   ]
  },
  {
   "cell_type": "code",
   "execution_count": 4,
   "id": "61029f8a",
   "metadata": {},
   "outputs": [
    {
     "name": "stderr",
     "output_type": "stream",
     "text": [
      "[I 2025-06-21 00:01:31,117] A new study created in memory with name: no-name-020a7f1c-14c8-4e32-9fa5-594f59477e89\n",
      "2025-06-21 00:01:31,119 - 📁 Training log created for model: mobilenet\n",
      "2025-06-21 00:01:31,120 - 📄 Logs will be saved to logs/train/mobilenet/20250621_000131.log\n",
      "2025-06-21 00:01:31,120 - 📄 CSV will be saved to logs/train/mobilenet/20250621_000131.csv\n",
      "/home/exodia/miniconda3/envs/nao_sv/lib/python3.9/site-packages/torchvision/models/_utils.py:208: UserWarning: The parameter 'pretrained' is deprecated since 0.13 and may be removed in the future, please use 'weights' instead.\n",
      "  warnings.warn(\n",
      "/home/exodia/miniconda3/envs/nao_sv/lib/python3.9/site-packages/torchvision/models/_utils.py:223: UserWarning: Arguments other than a weight enum or `None` for 'weights' are deprecated since 0.13 and may be removed in the future. The current behavior is equivalent to passing `weights=MobileNet_V2_Weights.IMAGENET1K_V1`. You can also use `weights=MobileNet_V2_Weights.DEFAULT` to get the most up-to-date weights.\n",
      "  warnings.warn(msg)\n",
      "2025-06-21 00:01:33,071 - Epoch 1/3 | Train Loss: 2.0310 | Val Loss: 2.1068 | Val Acc: 0.2446 | Time: 1.90s\n"
     ]
    },
    {
     "name": "stdout",
     "output_type": "stream",
     "text": [
      "Epoch 1/3 | Train Loss: 2.0310 | Val Loss: 2.1068 | Val Acc: 0.2446 | Time: 1.90s\n"
     ]
    },
    {
     "name": "stderr",
     "output_type": "stream",
     "text": [
      "2025-06-21 00:01:34,706 - Epoch 2/3 | Train Loss: 1.6027 | Val Loss: 1.9509 | Val Acc: 0.3172 | Time: 1.63s\n"
     ]
    },
    {
     "name": "stdout",
     "output_type": "stream",
     "text": [
      "Epoch 2/3 | Train Loss: 1.6027 | Val Loss: 1.9509 | Val Acc: 0.3172 | Time: 1.63s\n"
     ]
    },
    {
     "name": "stderr",
     "output_type": "stream",
     "text": [
      "2025-06-21 00:01:36,357 - Epoch 3/3 | Train Loss: 1.4508 | Val Loss: 2.3085 | Val Acc: 0.3680 | Time: 1.65s\n",
      "2025-06-21 00:01:36,380 - Entrenamiento completo. Guardando modelo final...\n",
      "2025-06-21 00:01:36,381 - ✅ Logging finalizado.\n",
      "[I 2025-06-21 00:01:36,382] Trial 0 finished with value: 0.36803874092009686 and parameters: {'batch_size': 16, 'lr': 0.0009217123809787236, 'epochs': 3}. Best is trial 0 with value: 0.36803874092009686.\n",
      "/home/exodia/miniconda3/envs/nao_sv/lib/python3.9/site-packages/optuna/_experimental.py:32: ExperimentalWarning: Argument ``multivariate`` is an experimental feature. The interface can change in the future.\n",
      "  warnings.warn(\n",
      "/home/exodia/miniconda3/envs/nao_sv/lib/python3.9/site-packages/optuna/_experimental.py:32: ExperimentalWarning: Argument ``constant_liar`` is an experimental feature. The interface can change in the future.\n",
      "  warnings.warn(\n",
      "2025-06-21 00:01:36,384 - 📁 Training log created for model: mobilenet\n",
      "2025-06-21 00:01:36,384 - 📄 Logs will be saved to logs/train/mobilenet/20250621_000136.log\n",
      "2025-06-21 00:01:36,385 - 📄 CSV will be saved to logs/train/mobilenet/20250621_000136.csv\n"
     ]
    },
    {
     "name": "stdout",
     "output_type": "stream",
     "text": [
      "Epoch 3/3 | Train Loss: 1.4508 | Val Loss: 2.3085 | Val Acc: 0.3680 | Time: 1.65s\n"
     ]
    },
    {
     "name": "stderr",
     "output_type": "stream",
     "text": [
      "2025-06-21 00:01:38,092 - Epoch 1/4 | Train Loss: 1.8819 | Val Loss: 2.0225 | Val Acc: 0.2663 | Time: 1.67s\n"
     ]
    },
    {
     "name": "stdout",
     "output_type": "stream",
     "text": [
      "Epoch 1/4 | Train Loss: 1.8819 | Val Loss: 2.0225 | Val Acc: 0.2663 | Time: 1.67s\n"
     ]
    },
    {
     "name": "stderr",
     "output_type": "stream",
     "text": [
      "2025-06-21 00:01:39,750 - Epoch 2/4 | Train Loss: 1.1855 | Val Loss: 2.2998 | Val Acc: 0.3051 | Time: 1.66s\n"
     ]
    },
    {
     "name": "stdout",
     "output_type": "stream",
     "text": [
      "Epoch 2/4 | Train Loss: 1.1855 | Val Loss: 2.2998 | Val Acc: 0.3051 | Time: 1.66s\n"
     ]
    },
    {
     "name": "stderr",
     "output_type": "stream",
     "text": [
      "2025-06-21 00:01:41,384 - Epoch 3/4 | Train Loss: 0.6430 | Val Loss: 2.0930 | Val Acc: 0.3511 | Time: 1.63s\n"
     ]
    },
    {
     "name": "stdout",
     "output_type": "stream",
     "text": [
      "Epoch 3/4 | Train Loss: 0.6430 | Val Loss: 2.0930 | Val Acc: 0.3511 | Time: 1.63s\n"
     ]
    },
    {
     "name": "stderr",
     "output_type": "stream",
     "text": [
      "2025-06-21 00:01:43,022 - Epoch 4/4 | Train Loss: 0.3296 | Val Loss: 2.3151 | Val Acc: 0.3438 | Time: 1.63s\n",
      "2025-06-21 00:01:43,044 - Entrenamiento completo. Guardando modelo final...\n",
      "2025-06-21 00:01:43,044 - ✅ Logging finalizado.\n",
      "[I 2025-06-21 00:01:43,046] Trial 1 finished with value: 0.3438256658595642 and parameters: {'batch_size': 16, 'lr': 0.0005185956790038767, 'epochs': 4}. Best is trial 1 with value: 0.3438256658595642.\n",
      "2025-06-21 00:01:43,047 - 📁 Training log created for model: mobilenet\n",
      "2025-06-21 00:01:43,047 - 📄 Logs will be saved to logs/train/mobilenet/20250621_000143.log\n",
      "2025-06-21 00:01:43,047 - 📄 CSV will be saved to logs/train/mobilenet/20250621_000143.csv\n"
     ]
    },
    {
     "name": "stdout",
     "output_type": "stream",
     "text": [
      "Epoch 4/4 | Train Loss: 0.3296 | Val Loss: 2.3151 | Val Acc: 0.3438 | Time: 1.63s\n"
     ]
    },
    {
     "name": "stderr",
     "output_type": "stream",
     "text": [
      "2025-06-21 00:01:44,755 - Epoch 1/3 | Train Loss: 1.8503 | Val Loss: 1.8736 | Val Acc: 0.2857 | Time: 1.67s\n"
     ]
    },
    {
     "name": "stdout",
     "output_type": "stream",
     "text": [
      "Epoch 1/3 | Train Loss: 1.8503 | Val Loss: 1.8736 | Val Acc: 0.2857 | Time: 1.67s\n"
     ]
    },
    {
     "name": "stderr",
     "output_type": "stream",
     "text": [
      "2025-06-21 00:01:46,404 - Epoch 2/3 | Train Loss: 1.0834 | Val Loss: 2.1791 | Val Acc: 0.3027 | Time: 1.65s\n"
     ]
    },
    {
     "name": "stdout",
     "output_type": "stream",
     "text": [
      "Epoch 2/3 | Train Loss: 1.0834 | Val Loss: 2.1791 | Val Acc: 0.3027 | Time: 1.65s\n"
     ]
    },
    {
     "name": "stderr",
     "output_type": "stream",
     "text": [
      "2025-06-21 00:01:48,088 - Epoch 3/3 | Train Loss: 0.4947 | Val Loss: 2.1391 | Val Acc: 0.3341 | Time: 1.68s\n",
      "2025-06-21 00:01:48,115 - Entrenamiento completo. Guardando modelo final...\n",
      "2025-06-21 00:01:48,116 - ✅ Logging finalizado.\n",
      "[I 2025-06-21 00:01:48,117] Trial 2 finished with value: 0.3341404358353511 and parameters: {'batch_size': 24, 'lr': 0.00045566216053489204, 'epochs': 3}. Best is trial 2 with value: 0.3341404358353511.\n",
      "2025-06-21 00:01:48,118 - 📁 Training log created for model: mobilenet\n",
      "2025-06-21 00:01:48,119 - 📄 Logs will be saved to logs/train/mobilenet/20250621_000148.log\n",
      "2025-06-21 00:01:48,119 - 📄 CSV will be saved to logs/train/mobilenet/20250621_000148.csv\n"
     ]
    },
    {
     "name": "stdout",
     "output_type": "stream",
     "text": [
      "Epoch 3/3 | Train Loss: 0.4947 | Val Loss: 2.1391 | Val Acc: 0.3341 | Time: 1.68s\n"
     ]
    },
    {
     "name": "stderr",
     "output_type": "stream",
     "text": [
      "2025-06-21 00:01:49,829 - Epoch 1/3 | Train Loss: 1.8679 | Val Loss: 2.0480 | Val Acc: 0.2760 | Time: 1.67s\n"
     ]
    },
    {
     "name": "stdout",
     "output_type": "stream",
     "text": [
      "Epoch 1/3 | Train Loss: 1.8679 | Val Loss: 2.0480 | Val Acc: 0.2760 | Time: 1.67s\n"
     ]
    },
    {
     "name": "stderr",
     "output_type": "stream",
     "text": [
      "2025-06-21 00:01:51,523 - Epoch 2/3 | Train Loss: 1.1251 | Val Loss: 1.8354 | Val Acc: 0.3535 | Time: 1.69s\n"
     ]
    },
    {
     "name": "stdout",
     "output_type": "stream",
     "text": [
      "Epoch 2/3 | Train Loss: 1.1251 | Val Loss: 1.8354 | Val Acc: 0.3535 | Time: 1.69s\n"
     ]
    },
    {
     "name": "stderr",
     "output_type": "stream",
     "text": [
      "2025-06-21 00:01:53,147 - Epoch 3/3 | Train Loss: 0.5316 | Val Loss: 2.1141 | Val Acc: 0.3559 | Time: 1.62s\n",
      "2025-06-21 00:01:53,177 - Entrenamiento completo. Guardando modelo final...\n",
      "2025-06-21 00:01:53,177 - ✅ Logging finalizado.\n",
      "[I 2025-06-21 00:01:53,179] Trial 3 finished with value: 0.3559322033898305 and parameters: {'batch_size': 24, 'lr': 0.00047651634228962006, 'epochs': 3}. Best is trial 2 with value: 0.3341404358353511.\n",
      "2025-06-21 00:01:53,180 - 📁 Training log created for model: mobilenet\n",
      "2025-06-21 00:01:53,180 - 📄 Logs will be saved to logs/train/mobilenet/20250621_000153.log\n",
      "2025-06-21 00:01:53,180 - 📄 CSV will be saved to logs/train/mobilenet/20250621_000153.csv\n"
     ]
    },
    {
     "name": "stdout",
     "output_type": "stream",
     "text": [
      "Epoch 3/3 | Train Loss: 0.5316 | Val Loss: 2.1141 | Val Acc: 0.3559 | Time: 1.62s\n"
     ]
    },
    {
     "name": "stderr",
     "output_type": "stream",
     "text": [
      "2025-06-21 00:01:54,866 - Epoch 1/4 | Train Loss: 1.9459 | Val Loss: 1.6637 | Val Acc: 0.3801 | Time: 1.64s\n"
     ]
    },
    {
     "name": "stdout",
     "output_type": "stream",
     "text": [
      "Epoch 1/4 | Train Loss: 1.9459 | Val Loss: 1.6637 | Val Acc: 0.3801 | Time: 1.64s\n"
     ]
    },
    {
     "name": "stderr",
     "output_type": "stream",
     "text": [
      "2025-06-21 00:01:56,647 - Epoch 2/4 | Train Loss: 1.2343 | Val Loss: 1.9741 | Val Acc: 0.3801 | Time: 1.78s\n"
     ]
    },
    {
     "name": "stdout",
     "output_type": "stream",
     "text": [
      "Epoch 2/4 | Train Loss: 1.2343 | Val Loss: 1.9741 | Val Acc: 0.3801 | Time: 1.78s\n"
     ]
    },
    {
     "name": "stderr",
     "output_type": "stream",
     "text": [
      "2025-06-21 00:01:58,305 - Epoch 3/4 | Train Loss: 0.5753 | Val Loss: 2.1414 | Val Acc: 0.3462 | Time: 1.66s\n"
     ]
    },
    {
     "name": "stdout",
     "output_type": "stream",
     "text": [
      "Epoch 3/4 | Train Loss: 0.5753 | Val Loss: 2.1414 | Val Acc: 0.3462 | Time: 1.66s\n"
     ]
    },
    {
     "name": "stderr",
     "output_type": "stream",
     "text": [
      "2025-06-21 00:01:59,984 - Epoch 4/4 | Train Loss: 0.4181 | Val Loss: 2.7248 | Val Acc: 0.3826 | Time: 1.68s\n",
      "2025-06-21 00:02:00,009 - Entrenamiento completo. Guardando modelo final...\n",
      "2025-06-21 00:02:00,010 - ✅ Logging finalizado.\n",
      "[I 2025-06-21 00:02:00,011] Trial 4 finished with value: 0.38256658595641646 and parameters: {'batch_size': 24, 'lr': 0.0006396696838903166, 'epochs': 4}. Best is trial 2 with value: 0.3341404358353511.\n",
      "2025-06-21 00:02:00,012 - 📁 Training log created for model: mobilenet\n",
      "2025-06-21 00:02:00,012 - 📄 Logs will be saved to logs/train/mobilenet/20250621_000200.log\n",
      "2025-06-21 00:02:00,012 - 📄 CSV will be saved to logs/train/mobilenet/20250621_000200.csv\n"
     ]
    },
    {
     "name": "stdout",
     "output_type": "stream",
     "text": [
      "Epoch 4/4 | Train Loss: 0.4181 | Val Loss: 2.7248 | Val Acc: 0.3826 | Time: 1.68s\n"
     ]
    },
    {
     "name": "stderr",
     "output_type": "stream",
     "text": [
      "2025-06-21 00:02:01,721 - Epoch 1/3 | Train Loss: 2.0549 | Val Loss: 1.9049 | Val Acc: 0.2760 | Time: 1.67s\n"
     ]
    },
    {
     "name": "stdout",
     "output_type": "stream",
     "text": [
      "Epoch 1/3 | Train Loss: 2.0549 | Val Loss: 1.9049 | Val Acc: 0.2760 | Time: 1.67s\n"
     ]
    },
    {
     "name": "stderr",
     "output_type": "stream",
     "text": [
      "2025-06-21 00:02:03,365 - Epoch 2/3 | Train Loss: 1.5589 | Val Loss: 2.2006 | Val Acc: 0.3099 | Time: 1.64s\n"
     ]
    },
    {
     "name": "stdout",
     "output_type": "stream",
     "text": [
      "Epoch 2/3 | Train Loss: 1.5589 | Val Loss: 2.2006 | Val Acc: 0.3099 | Time: 1.64s\n"
     ]
    },
    {
     "name": "stderr",
     "output_type": "stream",
     "text": [
      "2025-06-21 00:02:04,989 - Epoch 3/3 | Train Loss: 1.1006 | Val Loss: 2.2992 | Val Acc: 0.3414 | Time: 1.62s\n",
      "2025-06-21 00:02:05,012 - Entrenamiento completo. Guardando modelo final...\n",
      "2025-06-21 00:02:05,013 - ✅ Logging finalizado.\n",
      "[I 2025-06-21 00:02:05,014] Trial 5 finished with value: 0.3414043583535109 and parameters: {'batch_size': 16, 'lr': 0.0009451722331623079, 'epochs': 3}. Best is trial 2 with value: 0.3341404358353511.\n",
      "2025-06-21 00:02:05,015 - 📁 Training log created for model: mobilenet\n",
      "2025-06-21 00:02:05,015 - 📄 Logs will be saved to logs/train/mobilenet/20250621_000205.log\n",
      "2025-06-21 00:02:05,016 - 📄 CSV will be saved to logs/train/mobilenet/20250621_000205.csv\n"
     ]
    },
    {
     "name": "stdout",
     "output_type": "stream",
     "text": [
      "Epoch 3/3 | Train Loss: 1.1006 | Val Loss: 2.2992 | Val Acc: 0.3414 | Time: 1.62s\n"
     ]
    },
    {
     "name": "stderr",
     "output_type": "stream",
     "text": [
      "2025-06-21 00:02:06,680 - Epoch 1/4 | Train Loss: 2.0859 | Val Loss: 2.6871 | Val Acc: 0.2276 | Time: 1.62s\n"
     ]
    },
    {
     "name": "stdout",
     "output_type": "stream",
     "text": [
      "Epoch 1/4 | Train Loss: 2.0859 | Val Loss: 2.6871 | Val Acc: 0.2276 | Time: 1.62s\n"
     ]
    },
    {
     "name": "stderr",
     "output_type": "stream",
     "text": [
      "2025-06-21 00:02:08,316 - Epoch 2/4 | Train Loss: 1.5642 | Val Loss: 1.9359 | Val Acc: 0.3366 | Time: 1.64s\n"
     ]
    },
    {
     "name": "stdout",
     "output_type": "stream",
     "text": [
      "Epoch 2/4 | Train Loss: 1.5642 | Val Loss: 1.9359 | Val Acc: 0.3366 | Time: 1.64s\n"
     ]
    },
    {
     "name": "stderr",
     "output_type": "stream",
     "text": [
      "2025-06-21 00:02:09,952 - Epoch 3/4 | Train Loss: 1.1793 | Val Loss: 2.5278 | Val Acc: 0.2857 | Time: 1.64s\n"
     ]
    },
    {
     "name": "stdout",
     "output_type": "stream",
     "text": [
      "Epoch 3/4 | Train Loss: 1.1793 | Val Loss: 2.5278 | Val Acc: 0.2857 | Time: 1.64s\n"
     ]
    },
    {
     "name": "stderr",
     "output_type": "stream",
     "text": [
      "2025-06-21 00:02:11,787 - Epoch 4/4 | Train Loss: 1.1256 | Val Loss: 1.9016 | Val Acc: 0.3584 | Time: 1.83s\n",
      "2025-06-21 00:02:11,815 - Entrenamiento completo. Guardando modelo final...\n",
      "2025-06-21 00:02:11,815 - ✅ Logging finalizado.\n",
      "[I 2025-06-21 00:02:11,817] Trial 6 finished with value: 0.3583535108958838 and parameters: {'batch_size': 16, 'lr': 0.0009617747195938404, 'epochs': 4}. Best is trial 2 with value: 0.3341404358353511.\n",
      "2025-06-21 00:02:11,818 - 📁 Training log created for model: mobilenet\n",
      "2025-06-21 00:02:11,818 - 📄 Logs will be saved to logs/train/mobilenet/20250621_000211.log\n",
      "2025-06-21 00:02:11,818 - 📄 CSV will be saved to logs/train/mobilenet/20250621_000211.csv\n"
     ]
    },
    {
     "name": "stdout",
     "output_type": "stream",
     "text": [
      "Epoch 4/4 | Train Loss: 1.1256 | Val Loss: 1.9016 | Val Acc: 0.3584 | Time: 1.83s\n"
     ]
    },
    {
     "name": "stderr",
     "output_type": "stream",
     "text": [
      "2025-06-21 00:02:13,539 - Epoch 1/3 | Train Loss: 1.9939 | Val Loss: 1.8953 | Val Acc: 0.2930 | Time: 1.67s\n"
     ]
    },
    {
     "name": "stdout",
     "output_type": "stream",
     "text": [
      "Epoch 1/3 | Train Loss: 1.9939 | Val Loss: 1.8953 | Val Acc: 0.2930 | Time: 1.67s\n"
     ]
    },
    {
     "name": "stderr",
     "output_type": "stream",
     "text": [
      "2025-06-21 00:02:15,177 - Epoch 2/3 | Train Loss: 1.4956 | Val Loss: 2.0057 | Val Acc: 0.3390 | Time: 1.64s\n"
     ]
    },
    {
     "name": "stdout",
     "output_type": "stream",
     "text": [
      "Epoch 2/3 | Train Loss: 1.4956 | Val Loss: 2.0057 | Val Acc: 0.3390 | Time: 1.64s\n"
     ]
    },
    {
     "name": "stderr",
     "output_type": "stream",
     "text": [
      "2025-06-21 00:02:16,840 - Epoch 3/3 | Train Loss: 0.9682 | Val Loss: 2.1471 | Val Acc: 0.3027 | Time: 1.66s\n",
      "2025-06-21 00:02:16,866 - Entrenamiento completo. Guardando modelo final...\n",
      "2025-06-21 00:02:16,866 - ✅ Logging finalizado.\n",
      "[I 2025-06-21 00:02:16,868] Trial 7 finished with value: 0.3026634382566586 and parameters: {'batch_size': 24, 'lr': 0.0008184077486800197, 'epochs': 3}. Best is trial 7 with value: 0.3026634382566586.\n",
      "2025-06-21 00:02:16,869 - 📁 Training log created for model: mobilenet\n",
      "2025-06-21 00:02:16,869 - 📄 Logs will be saved to logs/train/mobilenet/20250621_000216.log\n",
      "2025-06-21 00:02:16,869 - 📄 CSV will be saved to logs/train/mobilenet/20250621_000216.csv\n"
     ]
    },
    {
     "name": "stdout",
     "output_type": "stream",
     "text": [
      "Epoch 3/3 | Train Loss: 0.9682 | Val Loss: 2.1471 | Val Acc: 0.3027 | Time: 1.66s\n"
     ]
    },
    {
     "name": "stderr",
     "output_type": "stream",
     "text": [
      "2025-06-21 00:02:18,607 - Epoch 1/4 | Train Loss: 1.8767 | Val Loss: 1.8279 | Val Acc: 0.2857 | Time: 1.69s\n"
     ]
    },
    {
     "name": "stdout",
     "output_type": "stream",
     "text": [
      "Epoch 1/4 | Train Loss: 1.8767 | Val Loss: 1.8279 | Val Acc: 0.2857 | Time: 1.69s\n"
     ]
    },
    {
     "name": "stderr",
     "output_type": "stream",
     "text": [
      "2025-06-21 00:02:20,308 - Epoch 2/4 | Train Loss: 1.2745 | Val Loss: 1.5989 | Val Acc: 0.4044 | Time: 1.70s\n"
     ]
    },
    {
     "name": "stdout",
     "output_type": "stream",
     "text": [
      "Epoch 2/4 | Train Loss: 1.2745 | Val Loss: 1.5989 | Val Acc: 0.4044 | Time: 1.70s\n"
     ]
    },
    {
     "name": "stderr",
     "output_type": "stream",
     "text": [
      "2025-06-21 00:02:21,978 - Epoch 3/4 | Train Loss: 0.7877 | Val Loss: 1.5720 | Val Acc: 0.4213 | Time: 1.67s\n"
     ]
    },
    {
     "name": "stdout",
     "output_type": "stream",
     "text": [
      "Epoch 3/4 | Train Loss: 0.7877 | Val Loss: 1.5720 | Val Acc: 0.4213 | Time: 1.67s\n"
     ]
    },
    {
     "name": "stderr",
     "output_type": "stream",
     "text": [
      "2025-06-21 00:02:23,869 - Epoch 4/4 | Train Loss: 0.4094 | Val Loss: 1.6170 | Val Acc: 0.4019 | Time: 1.89s\n",
      "2025-06-21 00:02:23,893 - Entrenamiento completo. Guardando modelo final...\n",
      "2025-06-21 00:02:23,893 - ✅ Logging finalizado.\n",
      "[I 2025-06-21 00:02:23,895] Trial 8 finished with value: 0.40193704600484265 and parameters: {'batch_size': 16, 'lr': 0.00012779882153894143, 'epochs': 4}. Best is trial 7 with value: 0.3026634382566586.\n",
      "2025-06-21 00:02:23,896 - 📁 Training log created for model: mobilenet\n",
      "2025-06-21 00:02:23,896 - 📄 Logs will be saved to logs/train/mobilenet/20250621_000223.log\n",
      "2025-06-21 00:02:23,896 - 📄 CSV will be saved to logs/train/mobilenet/20250621_000223.csv\n"
     ]
    },
    {
     "name": "stdout",
     "output_type": "stream",
     "text": [
      "Epoch 4/4 | Train Loss: 0.4094 | Val Loss: 1.6170 | Val Acc: 0.4019 | Time: 1.89s\n"
     ]
    },
    {
     "name": "stderr",
     "output_type": "stream",
     "text": [
      "2025-06-21 00:02:25,646 - Epoch 1/3 | Train Loss: 1.8608 | Val Loss: 1.9349 | Val Acc: 0.2421 | Time: 1.71s\n"
     ]
    },
    {
     "name": "stdout",
     "output_type": "stream",
     "text": [
      "Epoch 1/3 | Train Loss: 1.8608 | Val Loss: 1.9349 | Val Acc: 0.2421 | Time: 1.71s\n"
     ]
    },
    {
     "name": "stderr",
     "output_type": "stream",
     "text": [
      "2025-06-21 00:02:27,338 - Epoch 2/3 | Train Loss: 1.0041 | Val Loss: 2.5013 | Val Acc: 0.2857 | Time: 1.69s\n"
     ]
    },
    {
     "name": "stdout",
     "output_type": "stream",
     "text": [
      "Epoch 2/3 | Train Loss: 1.0041 | Val Loss: 2.5013 | Val Acc: 0.2857 | Time: 1.69s\n"
     ]
    },
    {
     "name": "stderr",
     "output_type": "stream",
     "text": [
      "2025-06-21 00:02:29,017 - Epoch 3/3 | Train Loss: 0.4899 | Val Loss: 2.3064 | Val Acc: 0.3680 | Time: 1.68s\n",
      "2025-06-21 00:02:29,041 - Entrenamiento completo. Guardando modelo final...\n",
      "2025-06-21 00:02:29,041 - ✅ Logging finalizado.\n",
      "[I 2025-06-21 00:02:29,043] Trial 9 finished with value: 0.36803874092009686 and parameters: {'batch_size': 24, 'lr': 0.0005537191430184787, 'epochs': 3}. Best is trial 7 with value: 0.3026634382566586.\n",
      "2025-06-21 00:02:29,048 - 📁 Training log created for model: mobilenet\n",
      "2025-06-21 00:02:29,048 - 📄 Logs will be saved to logs/train/mobilenet/20250621_000229.log\n",
      "2025-06-21 00:02:29,048 - 📄 CSV will be saved to logs/train/mobilenet/20250621_000229.csv\n"
     ]
    },
    {
     "name": "stdout",
     "output_type": "stream",
     "text": [
      "Epoch 3/3 | Train Loss: 0.4899 | Val Loss: 2.3064 | Val Acc: 0.3680 | Time: 1.68s\n"
     ]
    },
    {
     "name": "stderr",
     "output_type": "stream",
     "text": [
      "2025-06-21 00:02:30,733 - Epoch 1/3 | Train Loss: 1.9868 | Val Loss: 2.3678 | Val Acc: 0.2809 | Time: 1.64s\n"
     ]
    },
    {
     "name": "stdout",
     "output_type": "stream",
     "text": [
      "Epoch 1/3 | Train Loss: 1.9868 | Val Loss: 2.3678 | Val Acc: 0.2809 | Time: 1.64s\n"
     ]
    },
    {
     "name": "stderr",
     "output_type": "stream",
     "text": [
      "2025-06-21 00:02:32,988 - Epoch 2/3 | Train Loss: 1.4008 | Val Loss: 2.1247 | Val Acc: 0.3172 | Time: 2.25s\n"
     ]
    },
    {
     "name": "stdout",
     "output_type": "stream",
     "text": [
      "Epoch 2/3 | Train Loss: 1.4008 | Val Loss: 2.1247 | Val Acc: 0.3172 | Time: 2.25s\n"
     ]
    },
    {
     "name": "stderr",
     "output_type": "stream",
     "text": [
      "2025-06-21 00:02:34,656 - Epoch 3/3 | Train Loss: 0.8337 | Val Loss: 2.3961 | Val Acc: 0.3511 | Time: 1.67s\n",
      "2025-06-21 00:02:34,675 - Entrenamiento completo. Guardando modelo final...\n",
      "2025-06-21 00:02:34,676 - ✅ Logging finalizado.\n",
      "[I 2025-06-21 00:02:34,677] Trial 10 finished with value: 0.35108958837772397 and parameters: {'batch_size': 24, 'lr': 0.0009337165035796516, 'epochs': 3}. Best is trial 7 with value: 0.3026634382566586.\n",
      "2025-06-21 00:02:34,682 - 📁 Training log created for model: mobilenet\n",
      "2025-06-21 00:02:34,682 - 📄 Logs will be saved to logs/train/mobilenet/20250621_000234.log\n",
      "2025-06-21 00:02:34,682 - 📄 CSV will be saved to logs/train/mobilenet/20250621_000234.csv\n"
     ]
    },
    {
     "name": "stdout",
     "output_type": "stream",
     "text": [
      "Epoch 3/3 | Train Loss: 0.8337 | Val Loss: 2.3961 | Val Acc: 0.3511 | Time: 1.67s\n"
     ]
    },
    {
     "name": "stderr",
     "output_type": "stream",
     "text": [
      "2025-06-21 00:02:36,397 - Epoch 1/3 | Train Loss: 1.8825 | Val Loss: 1.9153 | Val Acc: 0.2736 | Time: 1.68s\n"
     ]
    },
    {
     "name": "stdout",
     "output_type": "stream",
     "text": [
      "Epoch 1/3 | Train Loss: 1.8825 | Val Loss: 1.9153 | Val Acc: 0.2736 | Time: 1.68s\n"
     ]
    },
    {
     "name": "stderr",
     "output_type": "stream",
     "text": [
      "2025-06-21 00:02:38,070 - Epoch 2/3 | Train Loss: 1.2035 | Val Loss: 1.7534 | Val Acc: 0.3245 | Time: 1.67s\n"
     ]
    },
    {
     "name": "stdout",
     "output_type": "stream",
     "text": [
      "Epoch 2/3 | Train Loss: 1.2035 | Val Loss: 1.7534 | Val Acc: 0.3245 | Time: 1.67s\n"
     ]
    },
    {
     "name": "stderr",
     "output_type": "stream",
     "text": [
      "2025-06-21 00:02:39,728 - Epoch 3/3 | Train Loss: 0.6934 | Val Loss: 1.8062 | Val Acc: 0.3535 | Time: 1.66s\n",
      "2025-06-21 00:02:39,751 - Entrenamiento completo. Guardando modelo final...\n",
      "2025-06-21 00:02:39,752 - ✅ Logging finalizado.\n",
      "[I 2025-06-21 00:02:39,753] Trial 11 finished with value: 0.35351089588377727 and parameters: {'batch_size': 24, 'lr': 0.0001864546018690146, 'epochs': 3}. Best is trial 7 with value: 0.3026634382566586.\n",
      "2025-06-21 00:02:39,758 - 📁 Training log created for model: mobilenet\n",
      "2025-06-21 00:02:39,758 - 📄 Logs will be saved to logs/train/mobilenet/20250621_000239.log\n",
      "2025-06-21 00:02:39,758 - 📄 CSV will be saved to logs/train/mobilenet/20250621_000239.csv\n"
     ]
    },
    {
     "name": "stdout",
     "output_type": "stream",
     "text": [
      "Epoch 3/3 | Train Loss: 0.6934 | Val Loss: 1.8062 | Val Acc: 0.3535 | Time: 1.66s\n"
     ]
    },
    {
     "name": "stderr",
     "output_type": "stream",
     "text": [
      "2025-06-21 00:02:41,437 - Epoch 1/3 | Train Loss: 1.9507 | Val Loss: 2.2502 | Val Acc: 0.2107 | Time: 1.64s\n"
     ]
    },
    {
     "name": "stdout",
     "output_type": "stream",
     "text": [
      "Epoch 1/3 | Train Loss: 1.9507 | Val Loss: 2.2502 | Val Acc: 0.2107 | Time: 1.64s\n"
     ]
    },
    {
     "name": "stderr",
     "output_type": "stream",
     "text": [
      "2025-06-21 00:02:43,102 - Epoch 2/3 | Train Loss: 1.3658 | Val Loss: 2.1493 | Val Acc: 0.2954 | Time: 1.66s\n"
     ]
    },
    {
     "name": "stdout",
     "output_type": "stream",
     "text": [
      "Epoch 2/3 | Train Loss: 1.3658 | Val Loss: 2.1493 | Val Acc: 0.2954 | Time: 1.66s\n"
     ]
    },
    {
     "name": "stderr",
     "output_type": "stream",
     "text": [
      "2025-06-21 00:02:44,721 - Epoch 3/3 | Train Loss: 0.8053 | Val Loss: 2.2981 | Val Acc: 0.3414 | Time: 1.62s\n",
      "2025-06-21 00:02:44,742 - Entrenamiento completo. Guardando modelo final...\n",
      "2025-06-21 00:02:44,742 - ✅ Logging finalizado.\n",
      "[I 2025-06-21 00:02:44,744] Trial 12 finished with value: 0.3414043583535109 and parameters: {'batch_size': 16, 'lr': 0.0005665125552516973, 'epochs': 3}. Best is trial 7 with value: 0.3026634382566586.\n",
      "2025-06-21 00:02:44,748 - 📁 Training log created for model: mobilenet\n",
      "2025-06-21 00:02:44,749 - 📄 Logs will be saved to logs/train/mobilenet/20250621_000244.log\n",
      "2025-06-21 00:02:44,749 - 📄 CSV will be saved to logs/train/mobilenet/20250621_000244.csv\n"
     ]
    },
    {
     "name": "stdout",
     "output_type": "stream",
     "text": [
      "Epoch 3/3 | Train Loss: 0.8053 | Val Loss: 2.2981 | Val Acc: 0.3414 | Time: 1.62s\n"
     ]
    },
    {
     "name": "stderr",
     "output_type": "stream",
     "text": [
      "2025-06-21 00:02:46,465 - Epoch 1/4 | Train Loss: 1.8453 | Val Loss: 2.2143 | Val Acc: 0.2373 | Time: 1.67s\n"
     ]
    },
    {
     "name": "stdout",
     "output_type": "stream",
     "text": [
      "Epoch 1/4 | Train Loss: 1.8453 | Val Loss: 2.2143 | Val Acc: 0.2373 | Time: 1.67s\n"
     ]
    },
    {
     "name": "stderr",
     "output_type": "stream",
     "text": [
      "2025-06-21 00:02:48,128 - Epoch 2/4 | Train Loss: 1.1111 | Val Loss: 1.7907 | Val Acc: 0.3269 | Time: 1.66s\n"
     ]
    },
    {
     "name": "stdout",
     "output_type": "stream",
     "text": [
      "Epoch 2/4 | Train Loss: 1.1111 | Val Loss: 1.7907 | Val Acc: 0.3269 | Time: 1.66s\n"
     ]
    },
    {
     "name": "stderr",
     "output_type": "stream",
     "text": [
      "2025-06-21 00:02:49,799 - Epoch 3/4 | Train Loss: 0.5017 | Val Loss: 1.8147 | Val Acc: 0.3438 | Time: 1.67s\n"
     ]
    },
    {
     "name": "stdout",
     "output_type": "stream",
     "text": [
      "Epoch 3/4 | Train Loss: 0.5017 | Val Loss: 1.8147 | Val Acc: 0.3438 | Time: 1.67s\n"
     ]
    },
    {
     "name": "stderr",
     "output_type": "stream",
     "text": [
      "2025-06-21 00:02:51,459 - Epoch 4/4 | Train Loss: 0.1808 | Val Loss: 1.8436 | Val Acc: 0.3777 | Time: 1.66s\n",
      "2025-06-21 00:02:51,487 - Entrenamiento completo. Guardando modelo final...\n",
      "2025-06-21 00:02:51,488 - ✅ Logging finalizado.\n",
      "[I 2025-06-21 00:02:51,489] Trial 13 finished with value: 0.37772397094430993 and parameters: {'batch_size': 24, 'lr': 0.0003256477084447203, 'epochs': 4}. Best is trial 7 with value: 0.3026634382566586.\n",
      "2025-06-21 00:02:51,494 - 📁 Training log created for model: mobilenet\n",
      "2025-06-21 00:02:51,494 - 📄 Logs will be saved to logs/train/mobilenet/20250621_000251.log\n",
      "2025-06-21 00:02:51,494 - 📄 CSV will be saved to logs/train/mobilenet/20250621_000251.csv\n"
     ]
    },
    {
     "name": "stdout",
     "output_type": "stream",
     "text": [
      "Epoch 4/4 | Train Loss: 0.1808 | Val Loss: 1.8436 | Val Acc: 0.3777 | Time: 1.66s\n"
     ]
    },
    {
     "name": "stderr",
     "output_type": "stream",
     "text": [
      "2025-06-21 00:02:53,208 - Epoch 1/3 | Train Loss: 1.8714 | Val Loss: 1.9453 | Val Acc: 0.2906 | Time: 1.67s\n"
     ]
    },
    {
     "name": "stdout",
     "output_type": "stream",
     "text": [
      "Epoch 1/3 | Train Loss: 1.8714 | Val Loss: 1.9453 | Val Acc: 0.2906 | Time: 1.67s\n"
     ]
    },
    {
     "name": "stderr",
     "output_type": "stream",
     "text": [
      "2025-06-21 00:02:54,868 - Epoch 2/3 | Train Loss: 1.3871 | Val Loss: 2.4804 | Val Acc: 0.2809 | Time: 1.66s\n"
     ]
    },
    {
     "name": "stdout",
     "output_type": "stream",
     "text": [
      "Epoch 2/3 | Train Loss: 1.3871 | Val Loss: 2.4804 | Val Acc: 0.2809 | Time: 1.66s\n"
     ]
    },
    {
     "name": "stderr",
     "output_type": "stream",
     "text": [
      "2025-06-21 00:02:56,545 - Epoch 3/3 | Train Loss: 0.9777 | Val Loss: 2.1680 | Val Acc: 0.3995 | Time: 1.68s\n",
      "2025-06-21 00:02:56,569 - Entrenamiento completo. Guardando modelo final...\n",
      "2025-06-21 00:02:56,570 - ✅ Logging finalizado.\n",
      "[I 2025-06-21 00:02:56,571] Trial 14 finished with value: 0.39951573849878935 and parameters: {'batch_size': 24, 'lr': 0.0007667007020749923, 'epochs': 3}. Best is trial 7 with value: 0.3026634382566586.\n",
      "2025-06-21 00:02:56,575 - 📁 Training log created for model: mobilenet\n",
      "2025-06-21 00:02:56,576 - 📄 Logs will be saved to logs/train/mobilenet/20250621_000256.log\n",
      "2025-06-21 00:02:56,576 - 📄 CSV will be saved to logs/train/mobilenet/20250621_000256.csv\n"
     ]
    },
    {
     "name": "stdout",
     "output_type": "stream",
     "text": [
      "Epoch 3/3 | Train Loss: 0.9777 | Val Loss: 2.1680 | Val Acc: 0.3995 | Time: 1.68s\n"
     ]
    },
    {
     "name": "stderr",
     "output_type": "stream",
     "text": [
      "2025-06-21 00:02:58,274 - Epoch 1/3 | Train Loss: 1.8515 | Val Loss: 1.7615 | Val Acc: 0.3438 | Time: 1.66s\n"
     ]
    },
    {
     "name": "stdout",
     "output_type": "stream",
     "text": [
      "Epoch 1/3 | Train Loss: 1.8515 | Val Loss: 1.7615 | Val Acc: 0.3438 | Time: 1.66s\n"
     ]
    },
    {
     "name": "stderr",
     "output_type": "stream",
     "text": [
      "2025-06-21 00:02:59,906 - Epoch 2/3 | Train Loss: 1.0678 | Val Loss: 1.9272 | Val Acc: 0.3293 | Time: 1.63s\n"
     ]
    },
    {
     "name": "stdout",
     "output_type": "stream",
     "text": [
      "Epoch 2/3 | Train Loss: 1.0678 | Val Loss: 1.9272 | Val Acc: 0.3293 | Time: 1.63s\n"
     ]
    },
    {
     "name": "stderr",
     "output_type": "stream",
     "text": [
      "2025-06-21 00:03:01,561 - Epoch 3/3 | Train Loss: 0.4509 | Val Loss: 2.1140 | Val Acc: 0.3438 | Time: 1.65s\n",
      "2025-06-21 00:03:01,585 - Entrenamiento completo. Guardando modelo final...\n",
      "2025-06-21 00:03:01,586 - ✅ Logging finalizado.\n",
      "[I 2025-06-21 00:03:01,587] Trial 15 finished with value: 0.3438256658595642 and parameters: {'batch_size': 16, 'lr': 0.00033655981827925653, 'epochs': 3}. Best is trial 7 with value: 0.3026634382566586.\n",
      "2025-06-21 00:03:01,591 - 📁 Training log created for model: mobilenet\n",
      "2025-06-21 00:03:01,592 - 📄 Logs will be saved to logs/train/mobilenet/20250621_000301.log\n",
      "2025-06-21 00:03:01,592 - 📄 CSV will be saved to logs/train/mobilenet/20250621_000301.csv\n"
     ]
    },
    {
     "name": "stdout",
     "output_type": "stream",
     "text": [
      "Epoch 3/3 | Train Loss: 0.4509 | Val Loss: 2.1140 | Val Acc: 0.3438 | Time: 1.65s\n"
     ]
    },
    {
     "name": "stderr",
     "output_type": "stream",
     "text": [
      "2025-06-21 00:03:03,315 - Epoch 1/4 | Train Loss: 1.9577 | Val Loss: 2.3207 | Val Acc: 0.2518 | Time: 1.68s\n"
     ]
    },
    {
     "name": "stdout",
     "output_type": "stream",
     "text": [
      "Epoch 1/4 | Train Loss: 1.9577 | Val Loss: 2.3207 | Val Acc: 0.2518 | Time: 1.68s\n"
     ]
    },
    {
     "name": "stderr",
     "output_type": "stream",
     "text": [
      "2025-06-21 00:03:04,994 - Epoch 2/4 | Train Loss: 1.4412 | Val Loss: 1.7910 | Val Acc: 0.3438 | Time: 1.68s\n"
     ]
    },
    {
     "name": "stdout",
     "output_type": "stream",
     "text": [
      "Epoch 2/4 | Train Loss: 1.4412 | Val Loss: 1.7910 | Val Acc: 0.3438 | Time: 1.68s\n"
     ]
    },
    {
     "name": "stderr",
     "output_type": "stream",
     "text": [
      "2025-06-21 00:03:06,653 - Epoch 3/4 | Train Loss: 0.9862 | Val Loss: 2.4900 | Val Acc: 0.2760 | Time: 1.66s\n"
     ]
    },
    {
     "name": "stdout",
     "output_type": "stream",
     "text": [
      "Epoch 3/4 | Train Loss: 0.9862 | Val Loss: 2.4900 | Val Acc: 0.2760 | Time: 1.66s\n"
     ]
    },
    {
     "name": "stderr",
     "output_type": "stream",
     "text": [
      "2025-06-21 00:03:08,355 - Epoch 4/4 | Train Loss: 0.6974 | Val Loss: 2.0419 | Val Acc: 0.3559 | Time: 1.70s\n",
      "2025-06-21 00:03:08,378 - Entrenamiento completo. Guardando modelo final...\n",
      "2025-06-21 00:03:08,379 - ✅ Logging finalizado.\n",
      "[I 2025-06-21 00:03:08,380] Trial 16 finished with value: 0.3559322033898305 and parameters: {'batch_size': 24, 'lr': 0.0009063673377459908, 'epochs': 4}. Best is trial 7 with value: 0.3026634382566586.\n",
      "2025-06-21 00:03:08,384 - 📁 Training log created for model: mobilenet\n",
      "2025-06-21 00:03:08,385 - 📄 Logs will be saved to logs/train/mobilenet/20250621_000308.log\n",
      "2025-06-21 00:03:08,385 - 📄 CSV will be saved to logs/train/mobilenet/20250621_000308.csv\n"
     ]
    },
    {
     "name": "stdout",
     "output_type": "stream",
     "text": [
      "Epoch 4/4 | Train Loss: 0.6974 | Val Loss: 2.0419 | Val Acc: 0.3559 | Time: 1.70s\n"
     ]
    },
    {
     "name": "stderr",
     "output_type": "stream",
     "text": [
      "2025-06-21 00:03:10,155 - Epoch 1/3 | Train Loss: 1.9391 | Val Loss: 2.5762 | Val Acc: 0.1937 | Time: 1.73s\n"
     ]
    },
    {
     "name": "stdout",
     "output_type": "stream",
     "text": [
      "Epoch 1/3 | Train Loss: 1.9391 | Val Loss: 2.5762 | Val Acc: 0.1937 | Time: 1.73s\n"
     ]
    },
    {
     "name": "stderr",
     "output_type": "stream",
     "text": [
      "2025-06-21 00:03:11,811 - Epoch 2/3 | Train Loss: 1.2978 | Val Loss: 2.0279 | Val Acc: 0.2881 | Time: 1.66s\n"
     ]
    },
    {
     "name": "stdout",
     "output_type": "stream",
     "text": [
      "Epoch 2/3 | Train Loss: 1.2978 | Val Loss: 2.0279 | Val Acc: 0.2881 | Time: 1.66s\n"
     ]
    },
    {
     "name": "stderr",
     "output_type": "stream",
     "text": [
      "2025-06-21 00:03:13,500 - Epoch 3/3 | Train Loss: 0.6654 | Val Loss: 2.3161 | Val Acc: 0.3051 | Time: 1.69s\n",
      "2025-06-21 00:03:13,524 - Entrenamiento completo. Guardando modelo final...\n",
      "2025-06-21 00:03:13,524 - ✅ Logging finalizado.\n",
      "[I 2025-06-21 00:03:13,526] Trial 17 finished with value: 0.3050847457627119 and parameters: {'batch_size': 24, 'lr': 0.0007007610585716912, 'epochs': 3}. Best is trial 7 with value: 0.3026634382566586.\n",
      "2025-06-21 00:03:13,530 - 📁 Training log created for model: mobilenet\n",
      "2025-06-21 00:03:13,530 - 📄 Logs will be saved to logs/train/mobilenet/20250621_000313.log\n",
      "2025-06-21 00:03:13,531 - 📄 CSV will be saved to logs/train/mobilenet/20250621_000313.csv\n"
     ]
    },
    {
     "name": "stdout",
     "output_type": "stream",
     "text": [
      "Epoch 3/3 | Train Loss: 0.6654 | Val Loss: 2.3161 | Val Acc: 0.3051 | Time: 1.69s\n"
     ]
    },
    {
     "name": "stderr",
     "output_type": "stream",
     "text": [
      "2025-06-21 00:03:15,217 - Epoch 1/3 | Train Loss: 1.9382 | Val Loss: 2.1192 | Val Acc: 0.1961 | Time: 1.64s\n"
     ]
    },
    {
     "name": "stdout",
     "output_type": "stream",
     "text": [
      "Epoch 1/3 | Train Loss: 1.9382 | Val Loss: 2.1192 | Val Acc: 0.1961 | Time: 1.64s\n"
     ]
    },
    {
     "name": "stderr",
     "output_type": "stream",
     "text": [
      "2025-06-21 00:03:16,874 - Epoch 2/3 | Train Loss: 1.2896 | Val Loss: 2.1378 | Val Acc: 0.3172 | Time: 1.66s\n"
     ]
    },
    {
     "name": "stdout",
     "output_type": "stream",
     "text": [
      "Epoch 2/3 | Train Loss: 1.2896 | Val Loss: 2.1378 | Val Acc: 0.3172 | Time: 1.66s\n"
     ]
    },
    {
     "name": "stderr",
     "output_type": "stream",
     "text": [
      "2025-06-21 00:03:18,574 - Epoch 3/3 | Train Loss: 0.7904 | Val Loss: 2.1564 | Val Acc: 0.3535 | Time: 1.70s\n",
      "2025-06-21 00:03:18,599 - Entrenamiento completo. Guardando modelo final...\n",
      "2025-06-21 00:03:18,599 - ✅ Logging finalizado.\n",
      "[I 2025-06-21 00:03:18,601] Trial 18 finished with value: 0.35351089588377727 and parameters: {'batch_size': 24, 'lr': 0.0007498662408572995, 'epochs': 3}. Best is trial 7 with value: 0.3026634382566586.\n",
      "2025-06-21 00:03:18,605 - 📁 Training log created for model: mobilenet\n",
      "2025-06-21 00:03:18,605 - 📄 Logs will be saved to logs/train/mobilenet/20250621_000318.log\n",
      "2025-06-21 00:03:18,606 - 📄 CSV will be saved to logs/train/mobilenet/20250621_000318.csv\n"
     ]
    },
    {
     "name": "stdout",
     "output_type": "stream",
     "text": [
      "Epoch 3/3 | Train Loss: 0.7904 | Val Loss: 2.1564 | Val Acc: 0.3535 | Time: 1.70s\n"
     ]
    },
    {
     "name": "stderr",
     "output_type": "stream",
     "text": [
      "2025-06-21 00:03:20,306 - Epoch 1/3 | Train Loss: 2.0008 | Val Loss: 2.4385 | Val Acc: 0.2324 | Time: 1.66s\n"
     ]
    },
    {
     "name": "stdout",
     "output_type": "stream",
     "text": [
      "Epoch 1/3 | Train Loss: 2.0008 | Val Loss: 2.4385 | Val Acc: 0.2324 | Time: 1.66s\n"
     ]
    },
    {
     "name": "stderr",
     "output_type": "stream",
     "text": [
      "2025-06-21 00:03:21,958 - Epoch 2/3 | Train Loss: 1.5779 | Val Loss: 2.0141 | Val Acc: 0.3148 | Time: 1.65s\n"
     ]
    },
    {
     "name": "stdout",
     "output_type": "stream",
     "text": [
      "Epoch 2/3 | Train Loss: 1.5779 | Val Loss: 2.0141 | Val Acc: 0.3148 | Time: 1.65s\n"
     ]
    },
    {
     "name": "stderr",
     "output_type": "stream",
     "text": [
      "2025-06-21 00:03:23,632 - Epoch 3/3 | Train Loss: 1.0362 | Val Loss: 2.3002 | Val Acc: 0.3172 | Time: 1.67s\n",
      "2025-06-21 00:03:23,657 - Entrenamiento completo. Guardando modelo final...\n",
      "2025-06-21 00:03:23,657 - ✅ Logging finalizado.\n",
      "[I 2025-06-21 00:03:23,658] Trial 19 finished with value: 0.31719128329297824 and parameters: {'batch_size': 24, 'lr': 0.0009537345026060584, 'epochs': 3}. Best is trial 7 with value: 0.3026634382566586.\n",
      "2025-06-21 00:03:23,663 - 📁 Training log created for model: mobilenet\n",
      "2025-06-21 00:03:23,663 - 📄 Logs will be saved to logs/train/mobilenet/20250621_000323.log\n",
      "2025-06-21 00:03:23,663 - 📄 CSV will be saved to logs/train/mobilenet/20250621_000323.csv\n"
     ]
    },
    {
     "name": "stdout",
     "output_type": "stream",
     "text": [
      "Epoch 3/3 | Train Loss: 1.0362 | Val Loss: 2.3002 | Val Acc: 0.3172 | Time: 1.67s\n"
     ]
    },
    {
     "name": "stderr",
     "output_type": "stream",
     "text": [
      "2025-06-21 00:03:25,395 - Epoch 1/3 | Train Loss: 1.9264 | Val Loss: 1.8637 | Val Acc: 0.2760 | Time: 1.69s\n"
     ]
    },
    {
     "name": "stdout",
     "output_type": "stream",
     "text": [
      "Epoch 1/3 | Train Loss: 1.9264 | Val Loss: 1.8637 | Val Acc: 0.2760 | Time: 1.69s\n"
     ]
    },
    {
     "name": "stderr",
     "output_type": "stream",
     "text": [
      "2025-06-21 00:03:27,040 - Epoch 2/3 | Train Loss: 1.3566 | Val Loss: 2.0776 | Val Acc: 0.3341 | Time: 1.64s\n"
     ]
    },
    {
     "name": "stdout",
     "output_type": "stream",
     "text": [
      "Epoch 2/3 | Train Loss: 1.3566 | Val Loss: 2.0776 | Val Acc: 0.3341 | Time: 1.64s\n"
     ]
    },
    {
     "name": "stderr",
     "output_type": "stream",
     "text": [
      "2025-06-21 00:03:28,706 - Epoch 3/3 | Train Loss: 0.6790 | Val Loss: 2.1493 | Val Acc: 0.3269 | Time: 1.66s\n",
      "2025-06-21 00:03:28,736 - Entrenamiento completo. Guardando modelo final...\n",
      "2025-06-21 00:03:28,737 - ✅ Logging finalizado.\n",
      "[I 2025-06-21 00:03:28,738] Trial 20 finished with value: 0.3268765133171913 and parameters: {'batch_size': 24, 'lr': 0.0006742749299521518, 'epochs': 3}. Best is trial 7 with value: 0.3026634382566586.\n",
      "2025-06-21 00:03:28,743 - 📁 Training log created for model: mobilenet\n",
      "2025-06-21 00:03:28,743 - 📄 Logs will be saved to logs/train/mobilenet/20250621_000328.log\n",
      "2025-06-21 00:03:28,744 - 📄 CSV will be saved to logs/train/mobilenet/20250621_000328.csv\n"
     ]
    },
    {
     "name": "stdout",
     "output_type": "stream",
     "text": [
      "Epoch 3/3 | Train Loss: 0.6790 | Val Loss: 2.1493 | Val Acc: 0.3269 | Time: 1.66s\n"
     ]
    },
    {
     "name": "stderr",
     "output_type": "stream",
     "text": [
      "2025-06-21 00:03:30,438 - Epoch 1/3 | Train Loss: 1.9644 | Val Loss: 2.2016 | Val Acc: 0.2615 | Time: 1.65s\n"
     ]
    },
    {
     "name": "stdout",
     "output_type": "stream",
     "text": [
      "Epoch 1/3 | Train Loss: 1.9644 | Val Loss: 2.2016 | Val Acc: 0.2615 | Time: 1.65s\n"
     ]
    },
    {
     "name": "stderr",
     "output_type": "stream",
     "text": [
      "2025-06-21 00:03:32,092 - Epoch 2/3 | Train Loss: 1.3820 | Val Loss: 1.9695 | Val Acc: 0.3027 | Time: 1.65s\n"
     ]
    },
    {
     "name": "stdout",
     "output_type": "stream",
     "text": [
      "Epoch 2/3 | Train Loss: 1.3820 | Val Loss: 1.9695 | Val Acc: 0.3027 | Time: 1.65s\n"
     ]
    },
    {
     "name": "stderr",
     "output_type": "stream",
     "text": [
      "2025-06-21 00:03:33,868 - Epoch 3/3 | Train Loss: 0.9202 | Val Loss: 2.3734 | Val Acc: 0.3390 | Time: 1.77s\n",
      "2025-06-21 00:03:33,892 - Entrenamiento completo. Guardando modelo final...\n",
      "2025-06-21 00:03:33,893 - ✅ Logging finalizado.\n",
      "[I 2025-06-21 00:03:33,894] Trial 21 finished with value: 0.33898305084745767 and parameters: {'batch_size': 24, 'lr': 0.000928261121021329, 'epochs': 3}. Best is trial 7 with value: 0.3026634382566586.\n",
      "2025-06-21 00:03:33,899 - 📁 Training log created for model: mobilenet\n",
      "2025-06-21 00:03:33,899 - 📄 Logs will be saved to logs/train/mobilenet/20250621_000333.log\n",
      "2025-06-21 00:03:33,899 - 📄 CSV will be saved to logs/train/mobilenet/20250621_000333.csv\n"
     ]
    },
    {
     "name": "stdout",
     "output_type": "stream",
     "text": [
      "Epoch 3/3 | Train Loss: 0.9202 | Val Loss: 2.3734 | Val Acc: 0.3390 | Time: 1.77s\n"
     ]
    },
    {
     "name": "stderr",
     "output_type": "stream",
     "text": [
      "2025-06-21 00:03:35,601 - Epoch 1/3 | Train Loss: 1.9835 | Val Loss: 2.4347 | Val Acc: 0.2179 | Time: 1.66s\n"
     ]
    },
    {
     "name": "stdout",
     "output_type": "stream",
     "text": [
      "Epoch 1/3 | Train Loss: 1.9835 | Val Loss: 2.4347 | Val Acc: 0.2179 | Time: 1.66s\n"
     ]
    },
    {
     "name": "stderr",
     "output_type": "stream",
     "text": [
      "2025-06-21 00:03:37,253 - Epoch 2/3 | Train Loss: 1.4499 | Val Loss: 1.9617 | Val Acc: 0.3995 | Time: 1.65s\n"
     ]
    },
    {
     "name": "stdout",
     "output_type": "stream",
     "text": [
      "Epoch 2/3 | Train Loss: 1.4499 | Val Loss: 1.9617 | Val Acc: 0.3995 | Time: 1.65s\n"
     ]
    },
    {
     "name": "stderr",
     "output_type": "stream",
     "text": [
      "2025-06-21 00:03:38,952 - Epoch 3/3 | Train Loss: 0.8510 | Val Loss: 2.7938 | Val Acc: 0.2615 | Time: 1.70s\n",
      "2025-06-21 00:03:38,975 - Entrenamiento completo. Guardando modelo final...\n",
      "2025-06-21 00:03:38,975 - ✅ Logging finalizado.\n",
      "[I 2025-06-21 00:03:38,977] Trial 22 finished with value: 0.26150121065375304 and parameters: {'batch_size': 24, 'lr': 0.0009826520514803463, 'epochs': 3}. Best is trial 22 with value: 0.26150121065375304.\n",
      "2025-06-21 00:03:38,981 - 📁 Training log created for model: mobilenet\n",
      "2025-06-21 00:03:38,981 - 📄 Logs will be saved to logs/train/mobilenet/20250621_000338.log\n",
      "2025-06-21 00:03:38,982 - 📄 CSV will be saved to logs/train/mobilenet/20250621_000338.csv\n"
     ]
    },
    {
     "name": "stdout",
     "output_type": "stream",
     "text": [
      "Epoch 3/3 | Train Loss: 0.8510 | Val Loss: 2.7938 | Val Acc: 0.2615 | Time: 1.70s\n"
     ]
    },
    {
     "name": "stderr",
     "output_type": "stream",
     "text": [
      "2025-06-21 00:03:40,783 - Epoch 1/3 | Train Loss: 1.9483 | Val Loss: 2.7941 | Val Acc: 0.2446 | Time: 1.67s\n"
     ]
    },
    {
     "name": "stdout",
     "output_type": "stream",
     "text": [
      "Epoch 1/3 | Train Loss: 1.9483 | Val Loss: 2.7941 | Val Acc: 0.2446 | Time: 1.67s\n"
     ]
    },
    {
     "name": "stderr",
     "output_type": "stream",
     "text": [
      "2025-06-21 00:03:42,442 - Epoch 2/3 | Train Loss: 1.4249 | Val Loss: 2.4715 | Val Acc: 0.2809 | Time: 1.66s\n"
     ]
    },
    {
     "name": "stdout",
     "output_type": "stream",
     "text": [
      "Epoch 2/3 | Train Loss: 1.4249 | Val Loss: 2.4715 | Val Acc: 0.2809 | Time: 1.66s\n"
     ]
    },
    {
     "name": "stderr",
     "output_type": "stream",
     "text": [
      "2025-06-21 00:03:44,101 - Epoch 3/3 | Train Loss: 0.9324 | Val Loss: 2.6967 | Val Acc: 0.3341 | Time: 1.66s\n",
      "2025-06-21 00:03:44,123 - Entrenamiento completo. Guardando modelo final...\n",
      "2025-06-21 00:03:44,123 - ✅ Logging finalizado.\n",
      "[I 2025-06-21 00:03:44,124] Trial 23 finished with value: 0.3341404358353511 and parameters: {'batch_size': 24, 'lr': 0.0009852957231497091, 'epochs': 3}. Best is trial 22 with value: 0.26150121065375304.\n",
      "2025-06-21 00:03:44,129 - 📁 Training log created for model: mobilenet\n",
      "2025-06-21 00:03:44,129 - 📄 Logs will be saved to logs/train/mobilenet/20250621_000344.log\n",
      "2025-06-21 00:03:44,129 - 📄 CSV will be saved to logs/train/mobilenet/20250621_000344.csv\n"
     ]
    },
    {
     "name": "stdout",
     "output_type": "stream",
     "text": [
      "Epoch 3/3 | Train Loss: 0.9324 | Val Loss: 2.6967 | Val Acc: 0.3341 | Time: 1.66s\n"
     ]
    },
    {
     "name": "stderr",
     "output_type": "stream",
     "text": [
      "2025-06-21 00:03:45,815 - Epoch 1/3 | Train Loss: 1.9158 | Val Loss: 2.2210 | Val Acc: 0.2058 | Time: 1.64s\n"
     ]
    },
    {
     "name": "stdout",
     "output_type": "stream",
     "text": [
      "Epoch 1/3 | Train Loss: 1.9158 | Val Loss: 2.2210 | Val Acc: 0.2058 | Time: 1.64s\n"
     ]
    },
    {
     "name": "stderr",
     "output_type": "stream",
     "text": [
      "2025-06-21 00:03:47,561 - Epoch 2/3 | Train Loss: 1.4017 | Val Loss: 1.8335 | Val Acc: 0.3584 | Time: 1.74s\n"
     ]
    },
    {
     "name": "stdout",
     "output_type": "stream",
     "text": [
      "Epoch 2/3 | Train Loss: 1.4017 | Val Loss: 1.8335 | Val Acc: 0.3584 | Time: 1.74s\n"
     ]
    },
    {
     "name": "stderr",
     "output_type": "stream",
     "text": [
      "2025-06-21 00:03:49,279 - Epoch 3/3 | Train Loss: 0.8758 | Val Loss: 2.0631 | Val Acc: 0.3680 | Time: 1.72s\n",
      "2025-06-21 00:03:49,305 - Entrenamiento completo. Guardando modelo final...\n",
      "2025-06-21 00:03:49,305 - ✅ Logging finalizado.\n",
      "[I 2025-06-21 00:03:49,307] Trial 24 finished with value: 0.36803874092009686 and parameters: {'batch_size': 24, 'lr': 0.0007514441318930729, 'epochs': 3}. Best is trial 22 with value: 0.26150121065375304.\n",
      "2025-06-21 00:03:49,311 - 📁 Training log created for model: mobilenet\n",
      "2025-06-21 00:03:49,311 - 📄 Logs will be saved to logs/train/mobilenet/20250621_000349.log\n",
      "2025-06-21 00:03:49,311 - 📄 CSV will be saved to logs/train/mobilenet/20250621_000349.csv\n"
     ]
    },
    {
     "name": "stdout",
     "output_type": "stream",
     "text": [
      "Epoch 3/3 | Train Loss: 0.8758 | Val Loss: 2.0631 | Val Acc: 0.3680 | Time: 1.72s\n"
     ]
    },
    {
     "name": "stderr",
     "output_type": "stream",
     "text": [
      "2025-06-21 00:03:51,027 - Epoch 1/3 | Train Loss: 1.9085 | Val Loss: 2.1423 | Val Acc: 0.2712 | Time: 1.67s\n"
     ]
    },
    {
     "name": "stdout",
     "output_type": "stream",
     "text": [
      "Epoch 1/3 | Train Loss: 1.9085 | Val Loss: 2.1423 | Val Acc: 0.2712 | Time: 1.67s\n"
     ]
    },
    {
     "name": "stderr",
     "output_type": "stream",
     "text": [
      "2025-06-21 00:03:52,712 - Epoch 2/3 | Train Loss: 1.2506 | Val Loss: 2.0955 | Val Acc: 0.2954 | Time: 1.68s\n"
     ]
    },
    {
     "name": "stdout",
     "output_type": "stream",
     "text": [
      "Epoch 2/3 | Train Loss: 1.2506 | Val Loss: 2.0955 | Val Acc: 0.2954 | Time: 1.68s\n"
     ]
    },
    {
     "name": "stderr",
     "output_type": "stream",
     "text": [
      "2025-06-21 00:03:54,356 - Epoch 3/3 | Train Loss: 0.7952 | Val Loss: 2.5029 | Val Acc: 0.3245 | Time: 1.64s\n",
      "2025-06-21 00:03:54,381 - Entrenamiento completo. Guardando modelo final...\n",
      "2025-06-21 00:03:54,382 - ✅ Logging finalizado.\n",
      "[I 2025-06-21 00:03:54,383] Trial 25 finished with value: 0.324455205811138 and parameters: {'batch_size': 24, 'lr': 0.0007607661360938972, 'epochs': 3}. Best is trial 22 with value: 0.26150121065375304.\n",
      "2025-06-21 00:03:54,387 - 📁 Training log created for model: mobilenet\n",
      "2025-06-21 00:03:54,388 - 📄 Logs will be saved to logs/train/mobilenet/20250621_000354.log\n",
      "2025-06-21 00:03:54,388 - 📄 CSV will be saved to logs/train/mobilenet/20250621_000354.csv\n"
     ]
    },
    {
     "name": "stdout",
     "output_type": "stream",
     "text": [
      "Epoch 3/3 | Train Loss: 0.7952 | Val Loss: 2.5029 | Val Acc: 0.3245 | Time: 1.64s\n"
     ]
    },
    {
     "name": "stderr",
     "output_type": "stream",
     "text": [
      "2025-06-21 00:03:56,115 - Epoch 1/3 | Train Loss: 1.9177 | Val Loss: 1.8598 | Val Acc: 0.3051 | Time: 1.68s\n"
     ]
    },
    {
     "name": "stdout",
     "output_type": "stream",
     "text": [
      "Epoch 1/3 | Train Loss: 1.9177 | Val Loss: 1.8598 | Val Acc: 0.3051 | Time: 1.68s\n"
     ]
    },
    {
     "name": "stderr",
     "output_type": "stream",
     "text": [
      "2025-06-21 00:03:57,778 - Epoch 2/3 | Train Loss: 1.3679 | Val Loss: 2.1058 | Val Acc: 0.3123 | Time: 1.66s\n"
     ]
    },
    {
     "name": "stdout",
     "output_type": "stream",
     "text": [
      "Epoch 2/3 | Train Loss: 1.3679 | Val Loss: 2.1058 | Val Acc: 0.3123 | Time: 1.66s\n"
     ]
    },
    {
     "name": "stderr",
     "output_type": "stream",
     "text": [
      "2025-06-21 00:03:59,475 - Epoch 3/3 | Train Loss: 1.1017 | Val Loss: 2.4004 | Val Acc: 0.3220 | Time: 1.70s\n",
      "2025-06-21 00:03:59,499 - Entrenamiento completo. Guardando modelo final...\n",
      "2025-06-21 00:03:59,499 - ✅ Logging finalizado.\n",
      "[I 2025-06-21 00:03:59,500] Trial 26 finished with value: 0.3220338983050848 and parameters: {'batch_size': 24, 'lr': 0.0007748563397677491, 'epochs': 3}. Best is trial 22 with value: 0.26150121065375304.\n",
      "2025-06-21 00:03:59,505 - 📁 Training log created for model: mobilenet\n",
      "2025-06-21 00:03:59,505 - 📄 Logs will be saved to logs/train/mobilenet/20250621_000359.log\n",
      "2025-06-21 00:03:59,506 - 📄 CSV will be saved to logs/train/mobilenet/20250621_000359.csv\n"
     ]
    },
    {
     "name": "stdout",
     "output_type": "stream",
     "text": [
      "Epoch 3/3 | Train Loss: 1.1017 | Val Loss: 2.4004 | Val Acc: 0.3220 | Time: 1.70s\n"
     ]
    },
    {
     "name": "stderr",
     "output_type": "stream",
     "text": [
      "2025-06-21 00:04:01,175 - Epoch 1/3 | Train Loss: 1.9031 | Val Loss: 2.1331 | Val Acc: 0.2518 | Time: 1.63s\n"
     ]
    },
    {
     "name": "stdout",
     "output_type": "stream",
     "text": [
      "Epoch 1/3 | Train Loss: 1.9031 | Val Loss: 2.1331 | Val Acc: 0.2518 | Time: 1.63s\n"
     ]
    },
    {
     "name": "stderr",
     "output_type": "stream",
     "text": [
      "2025-06-21 00:04:02,814 - Epoch 2/3 | Train Loss: 1.2737 | Val Loss: 1.8613 | Val Acc: 0.3850 | Time: 1.64s\n"
     ]
    },
    {
     "name": "stdout",
     "output_type": "stream",
     "text": [
      "Epoch 2/3 | Train Loss: 1.2737 | Val Loss: 1.8613 | Val Acc: 0.3850 | Time: 1.64s\n"
     ]
    },
    {
     "name": "stderr",
     "output_type": "stream",
     "text": [
      "2025-06-21 00:04:04,485 - Epoch 3/3 | Train Loss: 0.7761 | Val Loss: 2.3853 | Val Acc: 0.3777 | Time: 1.67s\n",
      "2025-06-21 00:04:04,521 - Entrenamiento completo. Guardando modelo final...\n",
      "2025-06-21 00:04:04,522 - ✅ Logging finalizado.\n",
      "[I 2025-06-21 00:04:04,524] Trial 27 finished with value: 0.37772397094430993 and parameters: {'batch_size': 16, 'lr': 0.0006459452126496459, 'epochs': 3}. Best is trial 22 with value: 0.26150121065375304.\n",
      "2025-06-21 00:04:04,528 - 📁 Training log created for model: mobilenet\n",
      "2025-06-21 00:04:04,528 - 📄 Logs will be saved to logs/train/mobilenet/20250621_000404.log\n",
      "2025-06-21 00:04:04,529 - 📄 CSV will be saved to logs/train/mobilenet/20250621_000404.csv\n"
     ]
    },
    {
     "name": "stdout",
     "output_type": "stream",
     "text": [
      "Epoch 3/3 | Train Loss: 0.7761 | Val Loss: 2.3853 | Val Acc: 0.3777 | Time: 1.67s\n"
     ]
    },
    {
     "name": "stderr",
     "output_type": "stream",
     "text": [
      "2025-06-21 00:04:06,349 - Epoch 1/3 | Train Loss: 1.9962 | Val Loss: 3.5796 | Val Acc: 0.2107 | Time: 1.78s\n"
     ]
    },
    {
     "name": "stdout",
     "output_type": "stream",
     "text": [
      "Epoch 1/3 | Train Loss: 1.9962 | Val Loss: 3.5796 | Val Acc: 0.2107 | Time: 1.78s\n"
     ]
    },
    {
     "name": "stderr",
     "output_type": "stream",
     "text": [
      "2025-06-21 00:04:08,027 - Epoch 2/3 | Train Loss: 1.5884 | Val Loss: 2.0154 | Val Acc: 0.3632 | Time: 1.68s\n"
     ]
    },
    {
     "name": "stdout",
     "output_type": "stream",
     "text": [
      "Epoch 2/3 | Train Loss: 1.5884 | Val Loss: 2.0154 | Val Acc: 0.3632 | Time: 1.68s\n"
     ]
    },
    {
     "name": "stderr",
     "output_type": "stream",
     "text": [
      "2025-06-21 00:04:09,704 - Epoch 3/3 | Train Loss: 1.0750 | Val Loss: 2.2226 | Val Acc: 0.3511 | Time: 1.68s\n",
      "2025-06-21 00:04:09,731 - Entrenamiento completo. Guardando modelo final...\n",
      "2025-06-21 00:04:09,731 - ✅ Logging finalizado.\n",
      "[I 2025-06-21 00:04:09,733] Trial 28 finished with value: 0.35108958837772397 and parameters: {'batch_size': 24, 'lr': 0.0009936050985316879, 'epochs': 3}. Best is trial 22 with value: 0.26150121065375304.\n",
      "2025-06-21 00:04:09,737 - 📁 Training log created for model: mobilenet\n",
      "2025-06-21 00:04:09,737 - 📄 Logs will be saved to logs/train/mobilenet/20250621_000409.log\n",
      "2025-06-21 00:04:09,738 - 📄 CSV will be saved to logs/train/mobilenet/20250621_000409.csv\n"
     ]
    },
    {
     "name": "stdout",
     "output_type": "stream",
     "text": [
      "Epoch 3/3 | Train Loss: 1.0750 | Val Loss: 2.2226 | Val Acc: 0.3511 | Time: 1.68s\n"
     ]
    },
    {
     "name": "stderr",
     "output_type": "stream",
     "text": [
      "2025-06-21 00:04:11,453 - Epoch 1/3 | Train Loss: 2.0126 | Val Loss: 2.1741 | Val Acc: 0.2203 | Time: 1.67s\n"
     ]
    },
    {
     "name": "stdout",
     "output_type": "stream",
     "text": [
      "Epoch 1/3 | Train Loss: 2.0126 | Val Loss: 2.1741 | Val Acc: 0.2203 | Time: 1.67s\n"
     ]
    },
    {
     "name": "stderr",
     "output_type": "stream",
     "text": [
      "2025-06-21 00:04:13,127 - Epoch 2/3 | Train Loss: 1.5570 | Val Loss: 1.8513 | Val Acc: 0.3172 | Time: 1.67s\n"
     ]
    },
    {
     "name": "stdout",
     "output_type": "stream",
     "text": [
      "Epoch 2/3 | Train Loss: 1.5570 | Val Loss: 1.8513 | Val Acc: 0.3172 | Time: 1.67s\n"
     ]
    },
    {
     "name": "stderr",
     "output_type": "stream",
     "text": [
      "2025-06-21 00:04:14,784 - Epoch 3/3 | Train Loss: 1.0319 | Val Loss: 2.5460 | Val Acc: 0.2760 | Time: 1.66s\n",
      "2025-06-21 00:04:14,810 - Entrenamiento completo. Guardando modelo final...\n",
      "2025-06-21 00:04:14,811 - ✅ Logging finalizado.\n",
      "[I 2025-06-21 00:04:14,812] Trial 29 finished with value: 0.27602905569007263 and parameters: {'batch_size': 16, 'lr': 0.0008184017809212364, 'epochs': 3}. Best is trial 22 with value: 0.26150121065375304.\n",
      "2025-06-21 00:04:14,817 - 📁 Training log created for model: mobilenet\n",
      "2025-06-21 00:04:14,817 - 📄 Logs will be saved to logs/train/mobilenet/20250621_000414.log\n",
      "2025-06-21 00:04:14,817 - 📄 CSV will be saved to logs/train/mobilenet/20250621_000414.csv\n"
     ]
    },
    {
     "name": "stdout",
     "output_type": "stream",
     "text": [
      "Epoch 3/3 | Train Loss: 1.0319 | Val Loss: 2.5460 | Val Acc: 0.2760 | Time: 1.66s\n"
     ]
    },
    {
     "name": "stderr",
     "output_type": "stream",
     "text": [
      "2025-06-21 00:04:16,487 - Epoch 1/3 | Train Loss: 1.9749 | Val Loss: 2.0348 | Val Acc: 0.2736 | Time: 1.63s\n"
     ]
    },
    {
     "name": "stdout",
     "output_type": "stream",
     "text": [
      "Epoch 1/3 | Train Loss: 1.9749 | Val Loss: 2.0348 | Val Acc: 0.2736 | Time: 1.63s\n"
     ]
    },
    {
     "name": "stderr",
     "output_type": "stream",
     "text": [
      "2025-06-21 00:04:18,108 - Epoch 2/3 | Train Loss: 1.5110 | Val Loss: 2.1999 | Val Acc: 0.3245 | Time: 1.62s\n"
     ]
    },
    {
     "name": "stdout",
     "output_type": "stream",
     "text": [
      "Epoch 2/3 | Train Loss: 1.5110 | Val Loss: 2.1999 | Val Acc: 0.3245 | Time: 1.62s\n"
     ]
    },
    {
     "name": "stderr",
     "output_type": "stream",
     "text": [
      "2025-06-21 00:04:19,904 - Epoch 3/3 | Train Loss: 0.9996 | Val Loss: 2.3259 | Val Acc: 0.3245 | Time: 1.80s\n",
      "2025-06-21 00:04:19,926 - Entrenamiento completo. Guardando modelo final...\n",
      "2025-06-21 00:04:19,926 - ✅ Logging finalizado.\n",
      "[I 2025-06-21 00:04:19,927] Trial 30 finished with value: 0.324455205811138 and parameters: {'batch_size': 16, 'lr': 0.0007938877090358223, 'epochs': 3}. Best is trial 22 with value: 0.26150121065375304.\n",
      "2025-06-21 00:04:19,932 - 📁 Training log created for model: mobilenet\n",
      "2025-06-21 00:04:19,932 - 📄 Logs will be saved to logs/train/mobilenet/20250621_000419.log\n",
      "2025-06-21 00:04:19,933 - 📄 CSV will be saved to logs/train/mobilenet/20250621_000419.csv\n"
     ]
    },
    {
     "name": "stdout",
     "output_type": "stream",
     "text": [
      "Epoch 3/3 | Train Loss: 0.9996 | Val Loss: 2.3259 | Val Acc: 0.3245 | Time: 1.80s\n"
     ]
    },
    {
     "name": "stderr",
     "output_type": "stream",
     "text": [
      "2025-06-21 00:04:21,629 - Epoch 1/3 | Train Loss: 1.9911 | Val Loss: 2.5052 | Val Acc: 0.2397 | Time: 1.65s\n"
     ]
    },
    {
     "name": "stdout",
     "output_type": "stream",
     "text": [
      "Epoch 1/3 | Train Loss: 1.9911 | Val Loss: 2.5052 | Val Acc: 0.2397 | Time: 1.65s\n"
     ]
    },
    {
     "name": "stderr",
     "output_type": "stream",
     "text": [
      "2025-06-21 00:04:23,254 - Epoch 2/3 | Train Loss: 1.4895 | Val Loss: 2.0462 | Val Acc: 0.3680 | Time: 1.62s\n"
     ]
    },
    {
     "name": "stdout",
     "output_type": "stream",
     "text": [
      "Epoch 2/3 | Train Loss: 1.4895 | Val Loss: 2.0462 | Val Acc: 0.3680 | Time: 1.62s\n"
     ]
    },
    {
     "name": "stderr",
     "output_type": "stream",
     "text": [
      "2025-06-21 00:04:24,891 - Epoch 3/3 | Train Loss: 0.9003 | Val Loss: 2.1143 | Val Acc: 0.3511 | Time: 1.64s\n",
      "2025-06-21 00:04:24,913 - Entrenamiento completo. Guardando modelo final...\n",
      "2025-06-21 00:04:24,913 - ✅ Logging finalizado.\n",
      "[I 2025-06-21 00:04:24,915] Trial 31 finished with value: 0.35108958837772397 and parameters: {'batch_size': 16, 'lr': 0.0008162418301529453, 'epochs': 3}. Best is trial 22 with value: 0.26150121065375304.\n",
      "2025-06-21 00:04:24,919 - 📁 Training log created for model: mobilenet\n",
      "2025-06-21 00:04:24,920 - 📄 Logs will be saved to logs/train/mobilenet/20250621_000424.log\n",
      "2025-06-21 00:04:24,920 - 📄 CSV will be saved to logs/train/mobilenet/20250621_000424.csv\n"
     ]
    },
    {
     "name": "stdout",
     "output_type": "stream",
     "text": [
      "Epoch 3/3 | Train Loss: 0.9003 | Val Loss: 2.1143 | Val Acc: 0.3511 | Time: 1.64s\n"
     ]
    },
    {
     "name": "stderr",
     "output_type": "stream",
     "text": [
      "2025-06-21 00:04:26,582 - Epoch 1/3 | Train Loss: 2.0379 | Val Loss: 1.8552 | Val Acc: 0.3269 | Time: 1.62s\n"
     ]
    },
    {
     "name": "stdout",
     "output_type": "stream",
     "text": [
      "Epoch 1/3 | Train Loss: 2.0379 | Val Loss: 1.8552 | Val Acc: 0.3269 | Time: 1.62s\n"
     ]
    },
    {
     "name": "stderr",
     "output_type": "stream",
     "text": [
      "2025-06-21 00:04:28,220 - Epoch 2/3 | Train Loss: 1.4675 | Val Loss: 2.2361 | Val Acc: 0.3414 | Time: 1.64s\n"
     ]
    },
    {
     "name": "stdout",
     "output_type": "stream",
     "text": [
      "Epoch 2/3 | Train Loss: 1.4675 | Val Loss: 2.2361 | Val Acc: 0.3414 | Time: 1.64s\n"
     ]
    },
    {
     "name": "stderr",
     "output_type": "stream",
     "text": [
      "2025-06-21 00:04:29,852 - Epoch 3/3 | Train Loss: 1.1229 | Val Loss: 2.3884 | Val Acc: 0.2833 | Time: 1.63s\n",
      "2025-06-21 00:04:29,884 - Entrenamiento completo. Guardando modelo final...\n",
      "2025-06-21 00:04:29,885 - ✅ Logging finalizado.\n",
      "[I 2025-06-21 00:04:29,886] Trial 32 finished with value: 0.28329297820823246 and parameters: {'batch_size': 16, 'lr': 0.0008637213426281342, 'epochs': 3}. Best is trial 22 with value: 0.26150121065375304.\n",
      "2025-06-21 00:04:29,890 - 📁 Training log created for model: mobilenet\n",
      "2025-06-21 00:04:29,891 - 📄 Logs will be saved to logs/train/mobilenet/20250621_000429.log\n",
      "2025-06-21 00:04:29,891 - 📄 CSV will be saved to logs/train/mobilenet/20250621_000429.csv\n"
     ]
    },
    {
     "name": "stdout",
     "output_type": "stream",
     "text": [
      "Epoch 3/3 | Train Loss: 1.1229 | Val Loss: 2.3884 | Val Acc: 0.2833 | Time: 1.63s\n"
     ]
    },
    {
     "name": "stderr",
     "output_type": "stream",
     "text": [
      "2025-06-21 00:04:31,550 - Epoch 1/3 | Train Loss: 2.0192 | Val Loss: 1.8270 | Val Acc: 0.2785 | Time: 1.62s\n"
     ]
    },
    {
     "name": "stdout",
     "output_type": "stream",
     "text": [
      "Epoch 1/3 | Train Loss: 2.0192 | Val Loss: 1.8270 | Val Acc: 0.2785 | Time: 1.62s\n"
     ]
    },
    {
     "name": "stderr",
     "output_type": "stream",
     "text": [
      "2025-06-21 00:04:33,187 - Epoch 2/3 | Train Loss: 1.5188 | Val Loss: 2.4759 | Val Acc: 0.2785 | Time: 1.64s\n"
     ]
    },
    {
     "name": "stdout",
     "output_type": "stream",
     "text": [
      "Epoch 2/3 | Train Loss: 1.5188 | Val Loss: 2.4759 | Val Acc: 0.2785 | Time: 1.64s\n"
     ]
    },
    {
     "name": "stderr",
     "output_type": "stream",
     "text": [
      "2025-06-21 00:04:34,862 - Epoch 3/3 | Train Loss: 1.0738 | Val Loss: 2.2325 | Val Acc: 0.2906 | Time: 1.67s\n",
      "2025-06-21 00:04:34,886 - Entrenamiento completo. Guardando modelo final...\n",
      "2025-06-21 00:04:34,887 - ✅ Logging finalizado.\n",
      "[I 2025-06-21 00:04:34,888] Trial 33 finished with value: 0.2905569007263923 and parameters: {'batch_size': 16, 'lr': 0.000892477957067062, 'epochs': 3}. Best is trial 22 with value: 0.26150121065375304.\n",
      "2025-06-21 00:04:34,893 - 📁 Training log created for model: mobilenet\n",
      "2025-06-21 00:04:34,893 - 📄 Logs will be saved to logs/train/mobilenet/20250621_000434.log\n",
      "2025-06-21 00:04:34,893 - 📄 CSV will be saved to logs/train/mobilenet/20250621_000434.csv\n"
     ]
    },
    {
     "name": "stdout",
     "output_type": "stream",
     "text": [
      "Epoch 3/3 | Train Loss: 1.0738 | Val Loss: 2.2325 | Val Acc: 0.2906 | Time: 1.67s\n"
     ]
    },
    {
     "name": "stderr",
     "output_type": "stream",
     "text": [
      "2025-06-21 00:04:36,580 - Epoch 1/3 | Train Loss: 2.1085 | Val Loss: 2.0090 | Val Acc: 0.2736 | Time: 1.64s\n"
     ]
    },
    {
     "name": "stdout",
     "output_type": "stream",
     "text": [
      "Epoch 1/3 | Train Loss: 2.1085 | Val Loss: 2.0090 | Val Acc: 0.2736 | Time: 1.64s\n"
     ]
    },
    {
     "name": "stderr",
     "output_type": "stream",
     "text": [
      "2025-06-21 00:04:38,215 - Epoch 2/3 | Train Loss: 1.7354 | Val Loss: 1.9788 | Val Acc: 0.3123 | Time: 1.63s\n"
     ]
    },
    {
     "name": "stdout",
     "output_type": "stream",
     "text": [
      "Epoch 2/3 | Train Loss: 1.7354 | Val Loss: 1.9788 | Val Acc: 0.3123 | Time: 1.63s\n"
     ]
    },
    {
     "name": "stderr",
     "output_type": "stream",
     "text": [
      "2025-06-21 00:04:39,857 - Epoch 3/3 | Train Loss: 1.1654 | Val Loss: 2.7402 | Val Acc: 0.2542 | Time: 1.64s\n",
      "2025-06-21 00:04:39,881 - Entrenamiento completo. Guardando modelo final...\n",
      "2025-06-21 00:04:39,881 - ✅ Logging finalizado.\n",
      "[I 2025-06-21 00:04:39,883] Trial 34 finished with value: 0.2542372881355932 and parameters: {'batch_size': 16, 'lr': 0.0009921316899695002, 'epochs': 3}. Best is trial 34 with value: 0.2542372881355932.\n",
      "2025-06-21 00:04:39,887 - 📁 Training log created for model: mobilenet\n",
      "2025-06-21 00:04:39,888 - 📄 Logs will be saved to logs/train/mobilenet/20250621_000439.log\n",
      "2025-06-21 00:04:39,888 - 📄 CSV will be saved to logs/train/mobilenet/20250621_000439.csv\n"
     ]
    },
    {
     "name": "stdout",
     "output_type": "stream",
     "text": [
      "Epoch 3/3 | Train Loss: 1.1654 | Val Loss: 2.7402 | Val Acc: 0.2542 | Time: 1.64s\n"
     ]
    },
    {
     "name": "stderr",
     "output_type": "stream",
     "text": [
      "2025-06-21 00:04:41,718 - Epoch 1/3 | Train Loss: 2.0094 | Val Loss: 1.9068 | Val Acc: 0.2857 | Time: 1.79s\n"
     ]
    },
    {
     "name": "stdout",
     "output_type": "stream",
     "text": [
      "Epoch 1/3 | Train Loss: 2.0094 | Val Loss: 1.9068 | Val Acc: 0.2857 | Time: 1.79s\n"
     ]
    },
    {
     "name": "stderr",
     "output_type": "stream",
     "text": [
      "2025-06-21 00:04:43,349 - Epoch 2/3 | Train Loss: 1.6038 | Val Loss: 1.9559 | Val Acc: 0.3317 | Time: 1.63s\n"
     ]
    },
    {
     "name": "stdout",
     "output_type": "stream",
     "text": [
      "Epoch 2/3 | Train Loss: 1.6038 | Val Loss: 1.9559 | Val Acc: 0.3317 | Time: 1.63s\n"
     ]
    },
    {
     "name": "stderr",
     "output_type": "stream",
     "text": [
      "2025-06-21 00:04:44,993 - Epoch 3/3 | Train Loss: 1.1939 | Val Loss: 2.1983 | Val Acc: 0.3584 | Time: 1.64s\n",
      "2025-06-21 00:04:45,021 - Entrenamiento completo. Guardando modelo final...\n",
      "2025-06-21 00:04:45,021 - ✅ Logging finalizado.\n",
      "[I 2025-06-21 00:04:45,023] Trial 35 finished with value: 0.3583535108958838 and parameters: {'batch_size': 16, 'lr': 0.0009253442769455686, 'epochs': 3}. Best is trial 34 with value: 0.2542372881355932.\n",
      "2025-06-21 00:04:45,027 - 📁 Training log created for model: mobilenet\n",
      "2025-06-21 00:04:45,028 - 📄 Logs will be saved to logs/train/mobilenet/20250621_000445.log\n",
      "2025-06-21 00:04:45,028 - 📄 CSV will be saved to logs/train/mobilenet/20250621_000445.csv\n"
     ]
    },
    {
     "name": "stdout",
     "output_type": "stream",
     "text": [
      "Epoch 3/3 | Train Loss: 1.1939 | Val Loss: 2.1983 | Val Acc: 0.3584 | Time: 1.64s\n"
     ]
    },
    {
     "name": "stderr",
     "output_type": "stream",
     "text": [
      "2025-06-21 00:04:46,719 - Epoch 1/3 | Train Loss: 2.1026 | Val Loss: 1.8922 | Val Acc: 0.3002 | Time: 1.65s\n"
     ]
    },
    {
     "name": "stdout",
     "output_type": "stream",
     "text": [
      "Epoch 1/3 | Train Loss: 2.1026 | Val Loss: 1.8922 | Val Acc: 0.3002 | Time: 1.65s\n"
     ]
    },
    {
     "name": "stderr",
     "output_type": "stream",
     "text": [
      "2025-06-21 00:04:48,362 - Epoch 2/3 | Train Loss: 1.5588 | Val Loss: 1.6968 | Val Acc: 0.3826 | Time: 1.64s\n"
     ]
    },
    {
     "name": "stdout",
     "output_type": "stream",
     "text": [
      "Epoch 2/3 | Train Loss: 1.5588 | Val Loss: 1.6968 | Val Acc: 0.3826 | Time: 1.64s\n"
     ]
    },
    {
     "name": "stderr",
     "output_type": "stream",
     "text": [
      "2025-06-21 00:04:49,993 - Epoch 3/3 | Train Loss: 1.1627 | Val Loss: 2.1215 | Val Acc: 0.3438 | Time: 1.63s\n",
      "2025-06-21 00:04:50,024 - Entrenamiento completo. Guardando modelo final...\n",
      "2025-06-21 00:04:50,025 - ✅ Logging finalizado.\n",
      "[I 2025-06-21 00:04:50,026] Trial 36 finished with value: 0.3438256658595642 and parameters: {'batch_size': 16, 'lr': 0.000980692995161808, 'epochs': 3}. Best is trial 34 with value: 0.2542372881355932.\n",
      "2025-06-21 00:04:50,031 - 📁 Training log created for model: mobilenet\n",
      "2025-06-21 00:04:50,031 - 📄 Logs will be saved to logs/train/mobilenet/20250621_000450.log\n",
      "2025-06-21 00:04:50,032 - 📄 CSV will be saved to logs/train/mobilenet/20250621_000450.csv\n"
     ]
    },
    {
     "name": "stdout",
     "output_type": "stream",
     "text": [
      "Epoch 3/3 | Train Loss: 1.1627 | Val Loss: 2.1215 | Val Acc: 0.3438 | Time: 1.63s\n"
     ]
    },
    {
     "name": "stderr",
     "output_type": "stream",
     "text": [
      "2025-06-21 00:04:51,770 - Epoch 1/3 | Train Loss: 1.9517 | Val Loss: 3.3157 | Val Acc: 0.2688 | Time: 1.70s\n"
     ]
    },
    {
     "name": "stdout",
     "output_type": "stream",
     "text": [
      "Epoch 1/3 | Train Loss: 1.9517 | Val Loss: 3.3157 | Val Acc: 0.2688 | Time: 1.70s\n"
     ]
    },
    {
     "name": "stderr",
     "output_type": "stream",
     "text": [
      "2025-06-21 00:04:53,427 - Epoch 2/3 | Train Loss: 1.5893 | Val Loss: 2.0455 | Val Acc: 0.3172 | Time: 1.66s\n"
     ]
    },
    {
     "name": "stdout",
     "output_type": "stream",
     "text": [
      "Epoch 2/3 | Train Loss: 1.5893 | Val Loss: 2.0455 | Val Acc: 0.3172 | Time: 1.66s\n"
     ]
    },
    {
     "name": "stderr",
     "output_type": "stream",
     "text": [
      "2025-06-21 00:04:55,087 - Epoch 3/3 | Train Loss: 1.1007 | Val Loss: 2.2771 | Val Acc: 0.3148 | Time: 1.66s\n",
      "2025-06-21 00:04:55,109 - Entrenamiento completo. Guardando modelo final...\n",
      "2025-06-21 00:04:55,110 - ✅ Logging finalizado.\n",
      "[I 2025-06-21 00:04:55,112] Trial 37 finished with value: 0.31476997578692495 and parameters: {'batch_size': 16, 'lr': 0.0007911816319726492, 'epochs': 3}. Best is trial 34 with value: 0.2542372881355932.\n",
      "2025-06-21 00:04:55,116 - 📁 Training log created for model: mobilenet\n",
      "2025-06-21 00:04:55,116 - 📄 Logs will be saved to logs/train/mobilenet/20250621_000455.log\n",
      "2025-06-21 00:04:55,117 - 📄 CSV will be saved to logs/train/mobilenet/20250621_000455.csv\n"
     ]
    },
    {
     "name": "stdout",
     "output_type": "stream",
     "text": [
      "Epoch 3/3 | Train Loss: 1.1007 | Val Loss: 2.2771 | Val Acc: 0.3148 | Time: 1.66s\n"
     ]
    },
    {
     "name": "stderr",
     "output_type": "stream",
     "text": [
      "2025-06-21 00:04:57,030 - Epoch 1/4 | Train Loss: 2.0118 | Val Loss: 1.9367 | Val Acc: 0.3293 | Time: 1.87s\n"
     ]
    },
    {
     "name": "stdout",
     "output_type": "stream",
     "text": [
      "Epoch 1/4 | Train Loss: 2.0118 | Val Loss: 1.9367 | Val Acc: 0.3293 | Time: 1.87s\n"
     ]
    },
    {
     "name": "stderr",
     "output_type": "stream",
     "text": [
      "2025-06-21 00:04:58,816 - Epoch 2/4 | Train Loss: 1.3940 | Val Loss: 1.9117 | Val Acc: 0.3535 | Time: 1.78s\n"
     ]
    },
    {
     "name": "stdout",
     "output_type": "stream",
     "text": [
      "Epoch 2/4 | Train Loss: 1.3940 | Val Loss: 1.9117 | Val Acc: 0.3535 | Time: 1.78s\n"
     ]
    },
    {
     "name": "stderr",
     "output_type": "stream",
     "text": [
      "2025-06-21 00:05:00,498 - Epoch 3/4 | Train Loss: 0.8338 | Val Loss: 2.6974 | Val Acc: 0.3075 | Time: 1.68s\n"
     ]
    },
    {
     "name": "stdout",
     "output_type": "stream",
     "text": [
      "Epoch 3/4 | Train Loss: 0.8338 | Val Loss: 2.6974 | Val Acc: 0.3075 | Time: 1.68s\n"
     ]
    },
    {
     "name": "stderr",
     "output_type": "stream",
     "text": [
      "2025-06-21 00:05:02,260 - Epoch 4/4 | Train Loss: 0.6198 | Val Loss: 3.0221 | Val Acc: 0.3220 | Time: 1.76s\n",
      "2025-06-21 00:05:02,284 - Entrenamiento completo. Guardando modelo final...\n",
      "2025-06-21 00:05:02,284 - ✅ Logging finalizado.\n",
      "[I 2025-06-21 00:05:02,285] Trial 38 finished with value: 0.3220338983050848 and parameters: {'batch_size': 16, 'lr': 0.0007686402880181914, 'epochs': 4}. Best is trial 34 with value: 0.2542372881355932.\n",
      "2025-06-21 00:05:02,290 - 📁 Training log created for model: mobilenet\n",
      "2025-06-21 00:05:02,290 - 📄 Logs will be saved to logs/train/mobilenet/20250621_000502.log\n",
      "2025-06-21 00:05:02,290 - 📄 CSV will be saved to logs/train/mobilenet/20250621_000502.csv\n"
     ]
    },
    {
     "name": "stdout",
     "output_type": "stream",
     "text": [
      "Epoch 4/4 | Train Loss: 0.6198 | Val Loss: 3.0221 | Val Acc: 0.3220 | Time: 1.76s\n"
     ]
    },
    {
     "name": "stderr",
     "output_type": "stream",
     "text": [
      "2025-06-21 00:05:03,989 - Epoch 1/3 | Train Loss: 1.9572 | Val Loss: 3.2041 | Val Acc: 0.2785 | Time: 1.66s\n"
     ]
    },
    {
     "name": "stdout",
     "output_type": "stream",
     "text": [
      "Epoch 1/3 | Train Loss: 1.9572 | Val Loss: 3.2041 | Val Acc: 0.2785 | Time: 1.66s\n"
     ]
    },
    {
     "name": "stderr",
     "output_type": "stream",
     "text": [
      "2025-06-21 00:05:05,641 - Epoch 2/3 | Train Loss: 1.5364 | Val Loss: 1.9483 | Val Acc: 0.3341 | Time: 1.65s\n"
     ]
    },
    {
     "name": "stdout",
     "output_type": "stream",
     "text": [
      "Epoch 2/3 | Train Loss: 1.5364 | Val Loss: 1.9483 | Val Acc: 0.3341 | Time: 1.65s\n"
     ]
    },
    {
     "name": "stderr",
     "output_type": "stream",
     "text": [
      "2025-06-21 00:05:07,461 - Epoch 3/3 | Train Loss: 1.1429 | Val Loss: 2.5175 | Val Acc: 0.3414 | Time: 1.82s\n",
      "2025-06-21 00:05:07,489 - Entrenamiento completo. Guardando modelo final...\n",
      "2025-06-21 00:05:07,489 - ✅ Logging finalizado.\n",
      "[I 2025-06-21 00:05:07,490] Trial 39 finished with value: 0.3414043583535109 and parameters: {'batch_size': 16, 'lr': 0.0009981007998040082, 'epochs': 3}. Best is trial 34 with value: 0.2542372881355932.\n",
      "2025-06-21 00:05:07,495 - 📁 Training log created for model: mobilenet\n",
      "2025-06-21 00:05:07,495 - 📄 Logs will be saved to logs/train/mobilenet/20250621_000507.log\n",
      "2025-06-21 00:05:07,496 - 📄 CSV will be saved to logs/train/mobilenet/20250621_000507.csv\n"
     ]
    },
    {
     "name": "stdout",
     "output_type": "stream",
     "text": [
      "Epoch 3/3 | Train Loss: 1.1429 | Val Loss: 2.5175 | Val Acc: 0.3414 | Time: 1.82s\n"
     ]
    },
    {
     "name": "stderr",
     "output_type": "stream",
     "text": [
      "2025-06-21 00:05:09,191 - Epoch 1/3 | Train Loss: 1.9941 | Val Loss: 1.8832 | Val Acc: 0.3438 | Time: 1.65s\n"
     ]
    },
    {
     "name": "stdout",
     "output_type": "stream",
     "text": [
      "Epoch 1/3 | Train Loss: 1.9941 | Val Loss: 1.8832 | Val Acc: 0.3438 | Time: 1.65s\n"
     ]
    },
    {
     "name": "stderr",
     "output_type": "stream",
     "text": [
      "2025-06-21 00:05:10,873 - Epoch 2/3 | Train Loss: 1.5228 | Val Loss: 2.1841 | Val Acc: 0.3051 | Time: 1.68s\n"
     ]
    },
    {
     "name": "stdout",
     "output_type": "stream",
     "text": [
      "Epoch 2/3 | Train Loss: 1.5228 | Val Loss: 2.1841 | Val Acc: 0.3051 | Time: 1.68s\n"
     ]
    },
    {
     "name": "stderr",
     "output_type": "stream",
     "text": [
      "2025-06-21 00:05:12,486 - Epoch 3/3 | Train Loss: 1.0356 | Val Loss: 2.3405 | Val Acc: 0.3051 | Time: 1.61s\n",
      "2025-06-21 00:05:12,514 - Entrenamiento completo. Guardando modelo final...\n",
      "2025-06-21 00:05:12,514 - ✅ Logging finalizado.\n",
      "[I 2025-06-21 00:05:12,515] Trial 40 finished with value: 0.3050847457627119 and parameters: {'batch_size': 16, 'lr': 0.0008065589452605952, 'epochs': 3}. Best is trial 34 with value: 0.2542372881355932.\n",
      "2025-06-21 00:05:12,520 - 📁 Training log created for model: mobilenet\n",
      "2025-06-21 00:05:12,520 - 📄 Logs will be saved to logs/train/mobilenet/20250621_000512.log\n",
      "2025-06-21 00:05:12,521 - 📄 CSV will be saved to logs/train/mobilenet/20250621_000512.csv\n"
     ]
    },
    {
     "name": "stdout",
     "output_type": "stream",
     "text": [
      "Epoch 3/3 | Train Loss: 1.0356 | Val Loss: 2.3405 | Val Acc: 0.3051 | Time: 1.61s\n"
     ]
    },
    {
     "name": "stderr",
     "output_type": "stream",
     "text": [
      "2025-06-21 00:05:14,208 - Epoch 1/3 | Train Loss: 1.9986 | Val Loss: 2.1706 | Val Acc: 0.2712 | Time: 1.65s\n"
     ]
    },
    {
     "name": "stdout",
     "output_type": "stream",
     "text": [
      "Epoch 1/3 | Train Loss: 1.9986 | Val Loss: 2.1706 | Val Acc: 0.2712 | Time: 1.65s\n"
     ]
    },
    {
     "name": "stderr",
     "output_type": "stream",
     "text": [
      "2025-06-21 00:05:15,841 - Epoch 2/3 | Train Loss: 1.5354 | Val Loss: 1.9066 | Val Acc: 0.3511 | Time: 1.63s\n"
     ]
    },
    {
     "name": "stdout",
     "output_type": "stream",
     "text": [
      "Epoch 2/3 | Train Loss: 1.5354 | Val Loss: 1.9066 | Val Acc: 0.3511 | Time: 1.63s\n"
     ]
    },
    {
     "name": "stderr",
     "output_type": "stream",
     "text": [
      "2025-06-21 00:05:17,478 - Epoch 3/3 | Train Loss: 1.1753 | Val Loss: 2.0634 | Val Acc: 0.3414 | Time: 1.64s\n",
      "2025-06-21 00:05:17,503 - Entrenamiento completo. Guardando modelo final...\n",
      "2025-06-21 00:05:17,504 - ✅ Logging finalizado.\n",
      "[I 2025-06-21 00:05:17,505] Trial 41 finished with value: 0.3414043583535109 and parameters: {'batch_size': 16, 'lr': 0.0009821773155666365, 'epochs': 3}. Best is trial 34 with value: 0.2542372881355932.\n",
      "2025-06-21 00:05:17,510 - 📁 Training log created for model: mobilenet\n",
      "2025-06-21 00:05:17,510 - 📄 Logs will be saved to logs/train/mobilenet/20250621_000517.log\n",
      "2025-06-21 00:05:17,510 - 📄 CSV will be saved to logs/train/mobilenet/20250621_000517.csv\n"
     ]
    },
    {
     "name": "stdout",
     "output_type": "stream",
     "text": [
      "Epoch 3/3 | Train Loss: 1.1753 | Val Loss: 2.0634 | Val Acc: 0.3414 | Time: 1.64s\n"
     ]
    },
    {
     "name": "stderr",
     "output_type": "stream",
     "text": [
      "2025-06-21 00:05:19,352 - Epoch 1/3 | Train Loss: 1.9847 | Val Loss: 2.0634 | Val Acc: 0.2567 | Time: 1.80s\n"
     ]
    },
    {
     "name": "stdout",
     "output_type": "stream",
     "text": [
      "Epoch 1/3 | Train Loss: 1.9847 | Val Loss: 2.0634 | Val Acc: 0.2567 | Time: 1.80s\n"
     ]
    },
    {
     "name": "stderr",
     "output_type": "stream",
     "text": [
      "2025-06-21 00:05:21,148 - Epoch 2/3 | Train Loss: 1.4503 | Val Loss: 1.9866 | Val Acc: 0.3245 | Time: 1.79s\n"
     ]
    },
    {
     "name": "stdout",
     "output_type": "stream",
     "text": [
      "Epoch 2/3 | Train Loss: 1.4503 | Val Loss: 1.9866 | Val Acc: 0.3245 | Time: 1.79s\n"
     ]
    },
    {
     "name": "stderr",
     "output_type": "stream",
     "text": [
      "2025-06-21 00:05:22,778 - Epoch 3/3 | Train Loss: 1.2264 | Val Loss: 2.2479 | Val Acc: 0.3608 | Time: 1.63s\n",
      "2025-06-21 00:05:22,803 - Entrenamiento completo. Guardando modelo final...\n",
      "2025-06-21 00:05:22,804 - ✅ Logging finalizado.\n",
      "[I 2025-06-21 00:05:22,805] Trial 42 finished with value: 0.36077481840193704 and parameters: {'batch_size': 16, 'lr': 0.0008302230694072953, 'epochs': 3}. Best is trial 34 with value: 0.2542372881355932.\n",
      "2025-06-21 00:05:22,810 - 📁 Training log created for model: mobilenet\n",
      "2025-06-21 00:05:22,810 - 📄 Logs will be saved to logs/train/mobilenet/20250621_000522.log\n",
      "2025-06-21 00:05:22,811 - 📄 CSV will be saved to logs/train/mobilenet/20250621_000522.csv\n"
     ]
    },
    {
     "name": "stdout",
     "output_type": "stream",
     "text": [
      "Epoch 3/3 | Train Loss: 1.2264 | Val Loss: 2.2479 | Val Acc: 0.3608 | Time: 1.63s\n"
     ]
    },
    {
     "name": "stderr",
     "output_type": "stream",
     "text": [
      "2025-06-21 00:05:24,470 - Epoch 1/3 | Train Loss: 2.0053 | Val Loss: 2.4503 | Val Acc: 0.2082 | Time: 1.62s\n"
     ]
    },
    {
     "name": "stdout",
     "output_type": "stream",
     "text": [
      "Epoch 1/3 | Train Loss: 2.0053 | Val Loss: 2.4503 | Val Acc: 0.2082 | Time: 1.62s\n"
     ]
    },
    {
     "name": "stderr",
     "output_type": "stream",
     "text": [
      "2025-06-21 00:05:26,144 - Epoch 2/3 | Train Loss: 1.4898 | Val Loss: 1.7841 | Val Acc: 0.3898 | Time: 1.67s\n"
     ]
    },
    {
     "name": "stdout",
     "output_type": "stream",
     "text": [
      "Epoch 2/3 | Train Loss: 1.4898 | Val Loss: 1.7841 | Val Acc: 0.3898 | Time: 1.67s\n"
     ]
    },
    {
     "name": "stderr",
     "output_type": "stream",
     "text": [
      "2025-06-21 00:05:27,770 - Epoch 3/3 | Train Loss: 1.1529 | Val Loss: 2.2147 | Val Acc: 0.3220 | Time: 1.62s\n",
      "2025-06-21 00:05:27,799 - Entrenamiento completo. Guardando modelo final...\n",
      "2025-06-21 00:05:27,800 - ✅ Logging finalizado.\n",
      "[I 2025-06-21 00:05:27,801] Trial 43 finished with value: 0.3220338983050848 and parameters: {'batch_size': 16, 'lr': 0.000867863324928875, 'epochs': 3}. Best is trial 34 with value: 0.2542372881355932.\n",
      "2025-06-21 00:05:27,806 - 📁 Training log created for model: mobilenet\n",
      "2025-06-21 00:05:27,806 - 📄 Logs will be saved to logs/train/mobilenet/20250621_000527.log\n",
      "2025-06-21 00:05:27,807 - 📄 CSV will be saved to logs/train/mobilenet/20250621_000527.csv\n"
     ]
    },
    {
     "name": "stdout",
     "output_type": "stream",
     "text": [
      "Epoch 3/3 | Train Loss: 1.1529 | Val Loss: 2.2147 | Val Acc: 0.3220 | Time: 1.62s\n"
     ]
    },
    {
     "name": "stderr",
     "output_type": "stream",
     "text": [
      "2025-06-21 00:05:29,527 - Epoch 1/4 | Train Loss: 1.8691 | Val Loss: 1.8964 | Val Acc: 0.2857 | Time: 1.68s\n"
     ]
    },
    {
     "name": "stdout",
     "output_type": "stream",
     "text": [
      "Epoch 1/4 | Train Loss: 1.8691 | Val Loss: 1.8964 | Val Acc: 0.2857 | Time: 1.68s\n"
     ]
    },
    {
     "name": "stderr",
     "output_type": "stream",
     "text": [
      "2025-06-21 00:05:31,199 - Epoch 2/4 | Train Loss: 1.1776 | Val Loss: 1.7911 | Val Acc: 0.3777 | Time: 1.67s\n"
     ]
    },
    {
     "name": "stdout",
     "output_type": "stream",
     "text": [
      "Epoch 2/4 | Train Loss: 1.1776 | Val Loss: 1.7911 | Val Acc: 0.3777 | Time: 1.67s\n"
     ]
    },
    {
     "name": "stderr",
     "output_type": "stream",
     "text": [
      "2025-06-21 00:05:32,844 - Epoch 3/4 | Train Loss: 0.5268 | Val Loss: 1.9916 | Val Acc: 0.3632 | Time: 1.64s\n"
     ]
    },
    {
     "name": "stdout",
     "output_type": "stream",
     "text": [
      "Epoch 3/4 | Train Loss: 0.5268 | Val Loss: 1.9916 | Val Acc: 0.3632 | Time: 1.64s\n"
     ]
    },
    {
     "name": "stderr",
     "output_type": "stream",
     "text": [
      "2025-06-21 00:05:34,713 - Epoch 4/4 | Train Loss: 0.2543 | Val Loss: 2.2914 | Val Acc: 0.3753 | Time: 1.87s\n",
      "2025-06-21 00:05:34,739 - Entrenamiento completo. Guardando modelo final...\n",
      "2025-06-21 00:05:34,739 - ✅ Logging finalizado.\n",
      "[I 2025-06-21 00:05:34,741] Trial 44 finished with value: 0.3753026634382567 and parameters: {'batch_size': 16, 'lr': 0.0004978536036629004, 'epochs': 4}. Best is trial 34 with value: 0.2542372881355932.\n",
      "2025-06-21 00:05:34,745 - 📁 Training log created for model: mobilenet\n",
      "2025-06-21 00:05:34,745 - 📄 Logs will be saved to logs/train/mobilenet/20250621_000534.log\n",
      "2025-06-21 00:05:34,746 - 📄 CSV will be saved to logs/train/mobilenet/20250621_000534.csv\n"
     ]
    },
    {
     "name": "stdout",
     "output_type": "stream",
     "text": [
      "Epoch 4/4 | Train Loss: 0.2543 | Val Loss: 2.2914 | Val Acc: 0.3753 | Time: 1.87s\n"
     ]
    },
    {
     "name": "stderr",
     "output_type": "stream",
     "text": [
      "2025-06-21 00:05:36,408 - Epoch 1/3 | Train Loss: 1.9975 | Val Loss: 2.1904 | Val Acc: 0.2349 | Time: 1.62s\n"
     ]
    },
    {
     "name": "stdout",
     "output_type": "stream",
     "text": [
      "Epoch 1/3 | Train Loss: 1.9975 | Val Loss: 2.1904 | Val Acc: 0.2349 | Time: 1.62s\n"
     ]
    },
    {
     "name": "stderr",
     "output_type": "stream",
     "text": [
      "2025-06-21 00:05:38,025 - Epoch 2/3 | Train Loss: 1.6459 | Val Loss: 2.6292 | Val Acc: 0.2542 | Time: 1.62s\n"
     ]
    },
    {
     "name": "stdout",
     "output_type": "stream",
     "text": [
      "Epoch 2/3 | Train Loss: 1.6459 | Val Loss: 2.6292 | Val Acc: 0.2542 | Time: 1.62s\n"
     ]
    },
    {
     "name": "stderr",
     "output_type": "stream",
     "text": [
      "2025-06-21 00:05:39,656 - Epoch 3/3 | Train Loss: 1.1735 | Val Loss: 2.0234 | Val Acc: 0.3099 | Time: 1.63s\n",
      "2025-06-21 00:05:39,680 - Entrenamiento completo. Guardando modelo final...\n",
      "2025-06-21 00:05:39,681 - ✅ Logging finalizado.\n",
      "[I 2025-06-21 00:05:39,682] Trial 45 finished with value: 0.3099273607748184 and parameters: {'batch_size': 16, 'lr': 0.000983212289263066, 'epochs': 3}. Best is trial 34 with value: 0.2542372881355932.\n",
      "2025-06-21 00:05:39,687 - 📁 Training log created for model: mobilenet\n",
      "2025-06-21 00:05:39,687 - 📄 Logs will be saved to logs/train/mobilenet/20250621_000539.log\n",
      "2025-06-21 00:05:39,687 - 📄 CSV will be saved to logs/train/mobilenet/20250621_000539.csv\n"
     ]
    },
    {
     "name": "stdout",
     "output_type": "stream",
     "text": [
      "Epoch 3/3 | Train Loss: 1.1735 | Val Loss: 2.0234 | Val Acc: 0.3099 | Time: 1.63s\n"
     ]
    },
    {
     "name": "stderr",
     "output_type": "stream",
     "text": [
      "2025-06-21 00:05:41,368 - Epoch 1/3 | Train Loss: 1.9389 | Val Loss: 2.2231 | Val Acc: 0.2228 | Time: 1.64s\n"
     ]
    },
    {
     "name": "stdout",
     "output_type": "stream",
     "text": [
      "Epoch 1/3 | Train Loss: 1.9389 | Val Loss: 2.2231 | Val Acc: 0.2228 | Time: 1.64s\n"
     ]
    },
    {
     "name": "stderr",
     "output_type": "stream",
     "text": [
      "2025-06-21 00:05:43,026 - Epoch 2/3 | Train Loss: 1.5068 | Val Loss: 1.7841 | Val Acc: 0.3801 | Time: 1.66s\n"
     ]
    },
    {
     "name": "stdout",
     "output_type": "stream",
     "text": [
      "Epoch 2/3 | Train Loss: 1.5068 | Val Loss: 1.7841 | Val Acc: 0.3801 | Time: 1.66s\n"
     ]
    },
    {
     "name": "stderr",
     "output_type": "stream",
     "text": [
      "2025-06-21 00:05:44,643 - Epoch 3/3 | Train Loss: 0.9311 | Val Loss: 2.3705 | Val Acc: 0.3366 | Time: 1.62s\n",
      "2025-06-21 00:05:44,669 - Entrenamiento completo. Guardando modelo final...\n",
      "2025-06-21 00:05:44,670 - ✅ Logging finalizado.\n",
      "[I 2025-06-21 00:05:44,671] Trial 46 finished with value: 0.3365617433414044 and parameters: {'batch_size': 16, 'lr': 0.0008021007147108329, 'epochs': 3}. Best is trial 34 with value: 0.2542372881355932.\n",
      "2025-06-21 00:05:44,676 - 📁 Training log created for model: mobilenet\n",
      "2025-06-21 00:05:44,676 - 📄 Logs will be saved to logs/train/mobilenet/20250621_000544.log\n",
      "2025-06-21 00:05:44,677 - 📄 CSV will be saved to logs/train/mobilenet/20250621_000544.csv\n"
     ]
    },
    {
     "name": "stdout",
     "output_type": "stream",
     "text": [
      "Epoch 3/3 | Train Loss: 0.9311 | Val Loss: 2.3705 | Val Acc: 0.3366 | Time: 1.62s\n"
     ]
    },
    {
     "name": "stderr",
     "output_type": "stream",
     "text": [
      "2025-06-21 00:05:46,354 - Epoch 1/3 | Train Loss: 1.9681 | Val Loss: 1.9872 | Val Acc: 0.2881 | Time: 1.64s\n"
     ]
    },
    {
     "name": "stdout",
     "output_type": "stream",
     "text": [
      "Epoch 1/3 | Train Loss: 1.9681 | Val Loss: 1.9872 | Val Acc: 0.2881 | Time: 1.64s\n"
     ]
    },
    {
     "name": "stderr",
     "output_type": "stream",
     "text": [
      "2025-06-21 00:05:48,166 - Epoch 2/3 | Train Loss: 1.5637 | Val Loss: 1.7853 | Val Acc: 0.3366 | Time: 1.81s\n"
     ]
    },
    {
     "name": "stdout",
     "output_type": "stream",
     "text": [
      "Epoch 2/3 | Train Loss: 1.5637 | Val Loss: 1.7853 | Val Acc: 0.3366 | Time: 1.81s\n"
     ]
    },
    {
     "name": "stderr",
     "output_type": "stream",
     "text": [
      "2025-06-21 00:05:49,786 - Epoch 3/3 | Train Loss: 1.0252 | Val Loss: 2.1085 | Val Acc: 0.3293 | Time: 1.62s\n",
      "2025-06-21 00:05:49,810 - Entrenamiento completo. Guardando modelo final...\n",
      "2025-06-21 00:05:49,811 - ✅ Logging finalizado.\n",
      "[I 2025-06-21 00:05:49,812] Trial 47 finished with value: 0.32929782082324455 and parameters: {'batch_size': 16, 'lr': 0.0008762031209456706, 'epochs': 3}. Best is trial 34 with value: 0.2542372881355932.\n",
      "2025-06-21 00:05:49,817 - 📁 Training log created for model: mobilenet\n",
      "2025-06-21 00:05:49,817 - 📄 Logs will be saved to logs/train/mobilenet/20250621_000549.log\n",
      "2025-06-21 00:05:49,817 - 📄 CSV will be saved to logs/train/mobilenet/20250621_000549.csv\n"
     ]
    },
    {
     "name": "stdout",
     "output_type": "stream",
     "text": [
      "Epoch 3/3 | Train Loss: 1.0252 | Val Loss: 2.1085 | Val Acc: 0.3293 | Time: 1.62s\n"
     ]
    },
    {
     "name": "stderr",
     "output_type": "stream",
     "text": [
      "2025-06-21 00:05:51,492 - Epoch 1/4 | Train Loss: 2.0794 | Val Loss: 2.8687 | Val Acc: 0.1864 | Time: 1.63s\n"
     ]
    },
    {
     "name": "stdout",
     "output_type": "stream",
     "text": [
      "Epoch 1/4 | Train Loss: 2.0794 | Val Loss: 2.8687 | Val Acc: 0.1864 | Time: 1.63s\n"
     ]
    },
    {
     "name": "stderr",
     "output_type": "stream",
     "text": [
      "2025-06-21 00:05:53,120 - Epoch 2/4 | Train Loss: 1.5897 | Val Loss: 2.3217 | Val Acc: 0.2663 | Time: 1.63s\n"
     ]
    },
    {
     "name": "stdout",
     "output_type": "stream",
     "text": [
      "Epoch 2/4 | Train Loss: 1.5897 | Val Loss: 2.3217 | Val Acc: 0.2663 | Time: 1.63s\n"
     ]
    },
    {
     "name": "stderr",
     "output_type": "stream",
     "text": [
      "2025-06-21 00:05:54,798 - Epoch 3/4 | Train Loss: 1.2232 | Val Loss: 2.2854 | Val Acc: 0.2760 | Time: 1.68s\n"
     ]
    },
    {
     "name": "stdout",
     "output_type": "stream",
     "text": [
      "Epoch 3/4 | Train Loss: 1.2232 | Val Loss: 2.2854 | Val Acc: 0.2760 | Time: 1.68s\n"
     ]
    },
    {
     "name": "stderr",
     "output_type": "stream",
     "text": [
      "2025-06-21 00:05:56,449 - Epoch 4/4 | Train Loss: 0.8428 | Val Loss: 2.6128 | Val Acc: 0.3269 | Time: 1.65s\n",
      "2025-06-21 00:05:56,472 - Entrenamiento completo. Guardando modelo final...\n",
      "2025-06-21 00:05:56,473 - ✅ Logging finalizado.\n",
      "[I 2025-06-21 00:05:56,474] Trial 48 finished with value: 0.3268765133171913 and parameters: {'batch_size': 16, 'lr': 0.0009660503893218046, 'epochs': 4}. Best is trial 34 with value: 0.2542372881355932.\n",
      "2025-06-21 00:05:56,479 - 📁 Training log created for model: mobilenet\n",
      "2025-06-21 00:05:56,480 - 📄 Logs will be saved to logs/train/mobilenet/20250621_000556.log\n",
      "2025-06-21 00:05:56,480 - 📄 CSV will be saved to logs/train/mobilenet/20250621_000556.csv\n"
     ]
    },
    {
     "name": "stdout",
     "output_type": "stream",
     "text": [
      "Epoch 4/4 | Train Loss: 0.8428 | Val Loss: 2.6128 | Val Acc: 0.3269 | Time: 1.65s\n"
     ]
    },
    {
     "name": "stderr",
     "output_type": "stream",
     "text": [
      "2025-06-21 00:05:58,159 - Epoch 1/3 | Train Loss: 2.0472 | Val Loss: 2.2635 | Val Acc: 0.2518 | Time: 1.64s\n"
     ]
    },
    {
     "name": "stdout",
     "output_type": "stream",
     "text": [
      "Epoch 1/3 | Train Loss: 2.0472 | Val Loss: 2.2635 | Val Acc: 0.2518 | Time: 1.64s\n"
     ]
    },
    {
     "name": "stderr",
     "output_type": "stream",
     "text": [
      "2025-06-21 00:05:59,783 - Epoch 2/3 | Train Loss: 1.5475 | Val Loss: 2.3911 | Val Acc: 0.2470 | Time: 1.62s\n"
     ]
    },
    {
     "name": "stdout",
     "output_type": "stream",
     "text": [
      "Epoch 2/3 | Train Loss: 1.5475 | Val Loss: 2.3911 | Val Acc: 0.2470 | Time: 1.62s\n"
     ]
    },
    {
     "name": "stderr",
     "output_type": "stream",
     "text": [
      "2025-06-21 00:06:01,423 - Epoch 3/3 | Train Loss: 1.1698 | Val Loss: 2.2396 | Val Acc: 0.3317 | Time: 1.64s\n",
      "2025-06-21 00:06:01,448 - Entrenamiento completo. Guardando modelo final...\n",
      "2025-06-21 00:06:01,449 - ✅ Logging finalizado.\n",
      "[I 2025-06-21 00:06:01,450] Trial 49 finished with value: 0.33171912832929784 and parameters: {'batch_size': 16, 'lr': 0.000988282581300366, 'epochs': 3}. Best is trial 34 with value: 0.2542372881355932.\n"
     ]
    },
    {
     "name": "stdout",
     "output_type": "stream",
     "text": [
      "Epoch 3/3 | Train Loss: 1.1698 | Val Loss: 2.2396 | Val Acc: 0.3317 | Time: 1.64s\n",
      "Best value: 0.2542372881355932 (params: {'batch_size': 16, 'lr': 0.0009921316899695002, 'epochs': 3})\n"
     ]
    }
   ],
   "source": [
    "\n",
    "def objective(trial: optuna.Trial) -> float:\n",
    "\tbatch_size = trial.suggest_categorical(\"batch_size\", [16,24])\n",
    "\tlr = trial.suggest_float(\"lr\", 1e-4, 1e-3)\n",
    "\tepochs = trial.suggest_int(\"epochs\", 3, 4)\n",
    "\tval_acc = main(model, batch_size, epochs, lr, data_path)\n",
    "\t\n",
    "\treturn val_acc\n",
    "\n",
    "module = optunahub.load_module(package=\"samplers/auto_sampler\")\n",
    "study = optuna.create_study(sampler=module.AutoSampler())\n",
    "study.optimize(objective, n_trials=50)\n",
    "\n",
    "print(f\"Best value: {study.best_value} (params: {study.best_params})\")"
   ]
  },
  {
   "cell_type": "markdown",
   "id": "f8e48710",
   "metadata": {},
   "source": []
  },
  {
   "cell_type": "code",
   "execution_count": null,
   "id": "59bf093c",
   "metadata": {},
   "outputs": [],
   "source": [
    "\n",
    "# # 📈 Comparativa final\n",
    "# summary = pd.DataFrame([\n",
    "#     {\n",
    "#         'model': r['model'],\n",
    "#         'batch_size': r['batch_size'],\n",
    "#         'lr': r['lr'],\n",
    "#         'val_acc_final': r['history']['val_accuracy'][-1],\n",
    "#         'val_loss_final': r['history']['val_loss'][-1],\n",
    "#     } for r in results\n",
    "# ])\n",
    "# summary.sort_values(by='val_acc_final', ascending=False)\n"
   ]
  }
 ],
 "metadata": {
  "kernelspec": {
   "display_name": "nao_sv",
   "language": "python",
   "name": "python3"
  },
  "language_info": {
   "codemirror_mode": {
    "name": "ipython",
    "version": 3
   },
   "file_extension": ".py",
   "mimetype": "text/x-python",
   "name": "python",
   "nbconvert_exporter": "python",
   "pygments_lexer": "ipython3",
   "version": "3.9.23"
  }
 },
 "nbformat": 4,
 "nbformat_minor": 5
}
