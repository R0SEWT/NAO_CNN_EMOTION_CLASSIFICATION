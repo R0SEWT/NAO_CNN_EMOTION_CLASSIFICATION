{
 "cells": [
  {
   "cell_type": "code",
   "execution_count": 1,
   "id": "b9f626b8",
   "metadata": {},
   "outputs": [
    {
     "data": {
      "text/plain": [
       "'/home/exodia/NAO'"
      ]
     },
     "execution_count": 1,
     "metadata": {},
     "output_type": "execute_result"
    }
   ],
   "source": [
    "import sys\n",
    "from pathlib import Path\n",
    "\n",
    "entry_path =  str(Path().resolve().parents[0])\n",
    "entry_path"
   ]
  },
  {
   "cell_type": "code",
   "execution_count": 2,
   "id": "5ae6d627",
   "metadata": {},
   "outputs": [
    {
     "name": "stdout",
     "output_type": "stream",
     "text": [
      "Requirement already satisfied: optuna in /home/exodia/miniconda3/envs/nao_sv/lib/python3.9/site-packages (4.4.0)\n",
      "Requirement already satisfied: optunahub in /home/exodia/miniconda3/envs/nao_sv/lib/python3.9/site-packages (0.3.0)\n",
      "Requirement already satisfied: cmaes in /home/exodia/miniconda3/envs/nao_sv/lib/python3.9/site-packages (0.11.1)\n",
      "Requirement already satisfied: scipy in /home/exodia/miniconda3/envs/nao_sv/lib/python3.9/site-packages (1.13.1)\n",
      "Requirement already satisfied: alembic>=1.5.0 in /home/exodia/miniconda3/envs/nao_sv/lib/python3.9/site-packages (from optuna) (1.16.2)\n",
      "Requirement already satisfied: colorlog in /home/exodia/miniconda3/envs/nao_sv/lib/python3.9/site-packages (from optuna) (6.9.0)\n",
      "Requirement already satisfied: numpy in /home/exodia/miniconda3/envs/nao_sv/lib/python3.9/site-packages (from optuna) (2.0.2)\n",
      "Requirement already satisfied: packaging>=20.0 in /home/exodia/miniconda3/envs/nao_sv/lib/python3.9/site-packages (from optuna) (25.0)\n",
      "Requirement already satisfied: sqlalchemy>=1.4.2 in /home/exodia/miniconda3/envs/nao_sv/lib/python3.9/site-packages (from optuna) (2.0.41)\n",
      "Requirement already satisfied: tqdm in /home/exodia/miniconda3/envs/nao_sv/lib/python3.9/site-packages (from optuna) (4.67.1)\n",
      "Requirement already satisfied: PyYAML in /home/exodia/miniconda3/envs/nao_sv/lib/python3.9/site-packages (from optuna) (6.0.2)\n",
      "Requirement already satisfied: GitPython in /home/exodia/miniconda3/envs/nao_sv/lib/python3.9/site-packages (from optunahub) (3.1.44)\n",
      "Requirement already satisfied: PyGithub>=1.59 in /home/exodia/miniconda3/envs/nao_sv/lib/python3.9/site-packages (from optunahub) (2.6.1)\n",
      "Requirement already satisfied: Mako in /home/exodia/miniconda3/envs/nao_sv/lib/python3.9/site-packages (from alembic>=1.5.0->optuna) (1.3.10)\n",
      "Requirement already satisfied: typing-extensions>=4.12 in /home/exodia/miniconda3/envs/nao_sv/lib/python3.9/site-packages (from alembic>=1.5.0->optuna) (4.14.0)\n",
      "Requirement already satisfied: tomli in /home/exodia/miniconda3/envs/nao_sv/lib/python3.9/site-packages (from alembic>=1.5.0->optuna) (2.2.1)\n",
      "Requirement already satisfied: pynacl>=1.4.0 in /home/exodia/miniconda3/envs/nao_sv/lib/python3.9/site-packages (from PyGithub>=1.59->optunahub) (1.5.0)\n",
      "Requirement already satisfied: requests>=2.14.0 in /home/exodia/miniconda3/envs/nao_sv/lib/python3.9/site-packages (from PyGithub>=1.59->optunahub) (2.32.4)\n",
      "Requirement already satisfied: pyjwt>=2.4.0 in /home/exodia/miniconda3/envs/nao_sv/lib/python3.9/site-packages (from pyjwt[crypto]>=2.4.0->PyGithub>=1.59->optunahub) (2.10.1)\n",
      "Requirement already satisfied: urllib3>=1.26.0 in /home/exodia/miniconda3/envs/nao_sv/lib/python3.9/site-packages (from PyGithub>=1.59->optunahub) (2.4.0)\n",
      "Requirement already satisfied: Deprecated in /home/exodia/miniconda3/envs/nao_sv/lib/python3.9/site-packages (from PyGithub>=1.59->optunahub) (1.2.18)\n",
      "Requirement already satisfied: cryptography>=3.4.0 in /home/exodia/miniconda3/envs/nao_sv/lib/python3.9/site-packages (from pyjwt[crypto]>=2.4.0->PyGithub>=1.59->optunahub) (45.0.4)\n",
      "Requirement already satisfied: cffi>=1.14 in /home/exodia/miniconda3/envs/nao_sv/lib/python3.9/site-packages (from cryptography>=3.4.0->pyjwt[crypto]>=2.4.0->PyGithub>=1.59->optunahub) (1.17.1)\n",
      "Requirement already satisfied: pycparser in /home/exodia/miniconda3/envs/nao_sv/lib/python3.9/site-packages (from cffi>=1.14->cryptography>=3.4.0->pyjwt[crypto]>=2.4.0->PyGithub>=1.59->optunahub) (2.22)\n",
      "Requirement already satisfied: charset_normalizer<4,>=2 in /home/exodia/miniconda3/envs/nao_sv/lib/python3.9/site-packages (from requests>=2.14.0->PyGithub>=1.59->optunahub) (3.4.2)\n",
      "Requirement already satisfied: idna<4,>=2.5 in /home/exodia/miniconda3/envs/nao_sv/lib/python3.9/site-packages (from requests>=2.14.0->PyGithub>=1.59->optunahub) (3.10)\n",
      "Requirement already satisfied: certifi>=2017.4.17 in /home/exodia/miniconda3/envs/nao_sv/lib/python3.9/site-packages (from requests>=2.14.0->PyGithub>=1.59->optunahub) (2025.4.26)\n",
      "Requirement already satisfied: greenlet>=1 in /home/exodia/miniconda3/envs/nao_sv/lib/python3.9/site-packages (from sqlalchemy>=1.4.2->optuna) (3.2.3)\n",
      "Requirement already satisfied: wrapt<2,>=1.10 in /home/exodia/miniconda3/envs/nao_sv/lib/python3.9/site-packages (from Deprecated->PyGithub>=1.59->optunahub) (1.17.2)\n",
      "Requirement already satisfied: gitdb<5,>=4.0.1 in /home/exodia/miniconda3/envs/nao_sv/lib/python3.9/site-packages (from GitPython->optunahub) (4.0.12)\n",
      "Requirement already satisfied: smmap<6,>=3.0.1 in /home/exodia/miniconda3/envs/nao_sv/lib/python3.9/site-packages (from gitdb<5,>=4.0.1->GitPython->optunahub) (5.0.2)\n",
      "Requirement already satisfied: MarkupSafe>=0.9.2 in /home/exodia/miniconda3/envs/nao_sv/lib/python3.9/site-packages (from Mako->alembic>=1.5.0->optuna) (3.0.2)\n"
     ]
    }
   ],
   "source": [
    "!pip install optuna optunahub cmaes scipy"
   ]
  },
  {
   "cell_type": "code",
   "execution_count": 4,
   "id": "8c40c9a5",
   "metadata": {},
   "outputs": [],
   "source": [
    "import sys\n",
    "import optuna\n",
    "import optunahub\n",
    "from pathlib import Path\n",
    "import torch\n",
    "import os\n",
    "\n",
    "os.environ[\"PYTORCH_CUDA_ALLOC_CONF\"] = \"expandable_segments:True\"\n",
    "\n",
    "\n",
    "\n",
    "sys.path.append(entry_path)\n",
    "\n",
    "\n",
    "from scripts.train.train_cnn import main  \n",
    "import matplotlib.pyplot as plt\n",
    "import itertools\n",
    "import pandas as pd\n",
    "\n",
    "param_grid = {\n",
    "    'model': ['mobilenet', 'vgg19'],\n",
    "    'batch_size': [16, 32],\n",
    "    'lr': [1e-3, 1e-4],\n",
    "    'epochs': [10],\n",
    "}\n",
    "\n",
    "model = 'mobilenet'\n",
    "\n",
    "data_path = entry_path+'/data/kers2013_sample_500_val20/' \n"
   ]
  },
  {
   "cell_type": "code",
   "execution_count": null,
   "id": "1c7d78fd",
   "metadata": {},
   "outputs": [],
   "source": [
    "# batch_size, epochs, lr = 4, 1, 0.3\n",
    "# val_acc = main(model, batch_size, epochs, lr, data_path)\n"
   ]
  },
  {
   "cell_type": "code",
   "execution_count": 6,
   "id": "76a4fa6a",
   "metadata": {},
   "outputs": [
    {
     "name": "stderr",
     "output_type": "stream",
     "text": [
      "[I 2025-06-21 10:59:01,050] A new study created in memory with name: no-name-e339ed91-0e24-4f5f-a693-eb381000999d\n"
     ]
    },
    {
     "name": "stdout",
     "output_type": "stream",
     "text": [
      "\n",
      "🔍 Optimizando para modelo: mobilenet\n"
     ]
    },
    {
     "name": "stderr",
     "output_type": "stream",
     "text": [
      "mobilenet:   0%|          | 0/10 [00:00<?, ?it/s]2025-06-21 10:59:01,153 - 📄 Trial parameters saved to /home/exodia/NAO/data/kers2013/../../notebooks/logs/mobilenet_trial0/20250621_105901_params.txt\n",
      "2025-06-21 10:59:01,154 - 📁 Training log created for model: mobilenet_trial0\n",
      "2025-06-21 10:59:01,154 - 📄 Logs will be saved to /home/exodia/NAO/data/kers2013/../../notebooks/logs/mobilenet_trial0/20250621_105901.log\n",
      "2025-06-21 10:59:01,154 - 📄 CSV will be saved to /home/exodia/NAO/data/kers2013/../../notebooks/logs/mobilenet_trial0/20250621_105901.csv\n",
      "/home/exodia/miniconda3/envs/nao_sv/lib/python3.9/site-packages/torchvision/models/_utils.py:208: UserWarning: The parameter 'pretrained' is deprecated since 0.13 and may be removed in the future, please use 'weights' instead.\n",
      "  warnings.warn(\n",
      "/home/exodia/miniconda3/envs/nao_sv/lib/python3.9/site-packages/torchvision/models/_utils.py:223: UserWarning: Arguments other than a weight enum or `None` for 'weights' are deprecated since 0.13 and may be removed in the future. The current behavior is equivalent to passing `weights=MobileNet_V2_Weights.IMAGENET1K_V1`. You can also use `weights=MobileNet_V2_Weights.DEFAULT` to get the most up-to-date weights.\n",
      "  warnings.warn(msg)\n",
      "2025-06-21 11:01:07,155 - Epoch 1/10 | Train Loss: 1.1602 | Val Loss: 1.0173 | Val Acc: 0.6158 | Time: 125.76s\n"
     ]
    },
    {
     "name": "stdout",
     "output_type": "stream",
     "text": [
      "Epoch 1/10 | Train Loss: 1.1602 | Val Loss: 1.0173 | Val Acc: 0.6158 | Time: 125.76s\n"
     ]
    },
    {
     "name": "stderr",
     "output_type": "stream",
     "text": [
      "2025-06-21 11:02:54,373 - Epoch 2/10 | Train Loss: 0.9468 | Val Loss: 0.9751 | Val Acc: 0.6364 | Time: 107.22s\n"
     ]
    },
    {
     "name": "stdout",
     "output_type": "stream",
     "text": [
      "Epoch 2/10 | Train Loss: 0.9468 | Val Loss: 0.9751 | Val Acc: 0.6364 | Time: 107.22s\n"
     ]
    },
    {
     "name": "stderr",
     "output_type": "stream",
     "text": [
      "2025-06-21 11:04:39,207 - Epoch 3/10 | Train Loss: 0.8459 | Val Loss: 0.9724 | Val Acc: 0.6390 | Time: 104.83s\n"
     ]
    },
    {
     "name": "stdout",
     "output_type": "stream",
     "text": [
      "Epoch 3/10 | Train Loss: 0.8459 | Val Loss: 0.9724 | Val Acc: 0.6390 | Time: 104.83s\n"
     ]
    },
    {
     "name": "stderr",
     "output_type": "stream",
     "text": [
      "2025-06-21 11:06:23,829 - Epoch 4/10 | Train Loss: 0.7576 | Val Loss: 0.9568 | Val Acc: 0.6470 | Time: 104.62s\n"
     ]
    },
    {
     "name": "stdout",
     "output_type": "stream",
     "text": [
      "Epoch 4/10 | Train Loss: 0.7576 | Val Loss: 0.9568 | Val Acc: 0.6470 | Time: 104.62s\n"
     ]
    },
    {
     "name": "stderr",
     "output_type": "stream",
     "text": [
      "2025-06-21 11:08:07,763 - Epoch 5/10 | Train Loss: 0.6704 | Val Loss: 1.0104 | Val Acc: 0.6383 | Time: 103.93s\n"
     ]
    },
    {
     "name": "stdout",
     "output_type": "stream",
     "text": [
      "Epoch 5/10 | Train Loss: 0.6704 | Val Loss: 1.0104 | Val Acc: 0.6383 | Time: 103.93s\n"
     ]
    },
    {
     "name": "stderr",
     "output_type": "stream",
     "text": [
      "2025-06-21 11:09:51,136 - Epoch 6/10 | Train Loss: 0.5903 | Val Loss: 1.0332 | Val Acc: 0.6535 | Time: 103.37s\n"
     ]
    },
    {
     "name": "stdout",
     "output_type": "stream",
     "text": [
      "Epoch 6/10 | Train Loss: 0.5903 | Val Loss: 1.0332 | Val Acc: 0.6535 | Time: 103.37s\n"
     ]
    },
    {
     "name": "stderr",
     "output_type": "stream",
     "text": [
      "2025-06-21 11:11:35,079 - Epoch 7/10 | Train Loss: 0.5128 | Val Loss: 1.1226 | Val Acc: 0.6475 | Time: 103.94s\n"
     ]
    },
    {
     "name": "stdout",
     "output_type": "stream",
     "text": [
      "Epoch 7/10 | Train Loss: 0.5128 | Val Loss: 1.1226 | Val Acc: 0.6475 | Time: 103.94s\n"
     ]
    },
    {
     "name": "stderr",
     "output_type": "stream",
     "text": [
      "2025-06-21 11:13:18,123 - Epoch 8/10 | Train Loss: 0.4336 | Val Loss: 1.1705 | Val Acc: 0.6516 | Time: 103.04s\n"
     ]
    },
    {
     "name": "stdout",
     "output_type": "stream",
     "text": [
      "Epoch 8/10 | Train Loss: 0.4336 | Val Loss: 1.1705 | Val Acc: 0.6516 | Time: 103.04s\n"
     ]
    },
    {
     "name": "stderr",
     "output_type": "stream",
     "text": [
      "2025-06-21 11:15:04,525 - Epoch 9/10 | Train Loss: 0.3647 | Val Loss: 1.2150 | Val Acc: 0.6594 | Time: 106.40s\n"
     ]
    },
    {
     "name": "stdout",
     "output_type": "stream",
     "text": [
      "Epoch 9/10 | Train Loss: 0.3647 | Val Loss: 1.2150 | Val Acc: 0.6594 | Time: 106.40s\n"
     ]
    },
    {
     "name": "stderr",
     "output_type": "stream",
     "text": [
      "2025-06-21 11:16:44,257 - Epoch 10/10 | Train Loss: 0.3189 | Val Loss: 1.3268 | Val Acc: 0.6326 | Time: 99.73s\n",
      "2025-06-21 11:16:44,257 - ✅ Logging finalizado.\n",
      "2025-06-21 11:16:44,277 - Entrenamiento completo. Guardando modelo final...\n",
      "2025-06-21 11:16:44,278 - ✅ Logging finalizado.\n",
      "[I 2025-06-21 11:16:44,279] Trial 0 finished with value: 0.6326274728336585 and parameters: {'batch_size': 64, 'lr': 0.0005039750937665575}. Best is trial 0 with value: 0.6326274728336585.\n",
      "mobilenet:  10%|█         | 1/10 [17:43<2:39:29, 1063.24s/it]/home/exodia/miniconda3/envs/nao_sv/lib/python3.9/site-packages/optuna/_experimental.py:32: ExperimentalWarning: Argument ``multivariate`` is an experimental feature. The interface can change in the future.\n",
      "  warnings.warn(\n",
      "/home/exodia/miniconda3/envs/nao_sv/lib/python3.9/site-packages/optuna/_experimental.py:32: ExperimentalWarning: Argument ``constant_liar`` is an experimental feature. The interface can change in the future.\n",
      "  warnings.warn(\n"
     ]
    },
    {
     "name": "stdout",
     "output_type": "stream",
     "text": [
      "Epoch 10/10 | Train Loss: 0.3189 | Val Loss: 1.3268 | Val Acc: 0.6326 | Time: 99.73s\n"
     ]
    },
    {
     "name": "stderr",
     "output_type": "stream",
     "text": [
      "2025-06-21 11:16:44,466 - 📄 Trial parameters saved to /home/exodia/NAO/data/kers2013/../../notebooks/logs/mobilenet_trial1/20250621_111644_params.txt\n",
      "2025-06-21 11:16:44,466 - 📁 Training log created for model: mobilenet_trial1\n",
      "2025-06-21 11:16:44,467 - 📄 Logs will be saved to /home/exodia/NAO/data/kers2013/../../notebooks/logs/mobilenet_trial1/20250621_111644.log\n",
      "2025-06-21 11:16:44,467 - 📄 CSV will be saved to /home/exodia/NAO/data/kers2013/../../notebooks/logs/mobilenet_trial1/20250621_111644.csv\n",
      "2025-06-21 11:18:21,665 - Epoch 1/10 | Train Loss: 1.1911 | Val Loss: 1.0112 | Val Acc: 0.6199 | Time: 97.12s\n"
     ]
    },
    {
     "name": "stdout",
     "output_type": "stream",
     "text": [
      "Epoch 1/10 | Train Loss: 1.1911 | Val Loss: 1.0112 | Val Acc: 0.6199 | Time: 97.12s\n"
     ]
    },
    {
     "name": "stderr",
     "output_type": "stream",
     "text": [
      "2025-06-21 11:20:00,935 - Epoch 2/10 | Train Loss: 0.9044 | Val Loss: 0.9673 | Val Acc: 0.6438 | Time: 99.27s\n"
     ]
    },
    {
     "name": "stdout",
     "output_type": "stream",
     "text": [
      "Epoch 2/10 | Train Loss: 0.9044 | Val Loss: 0.9673 | Val Acc: 0.6438 | Time: 99.27s\n"
     ]
    },
    {
     "name": "stderr",
     "output_type": "stream",
     "text": [
      "2025-06-21 11:21:38,338 - Epoch 3/10 | Train Loss: 0.7343 | Val Loss: 0.9722 | Val Acc: 0.6530 | Time: 97.40s\n"
     ]
    },
    {
     "name": "stdout",
     "output_type": "stream",
     "text": [
      "Epoch 3/10 | Train Loss: 0.7343 | Val Loss: 0.9722 | Val Acc: 0.6530 | Time: 97.40s\n"
     ]
    },
    {
     "name": "stderr",
     "output_type": "stream",
     "text": [
      "2025-06-21 11:23:15,145 - Epoch 4/10 | Train Loss: 0.5647 | Val Loss: 1.0519 | Val Acc: 0.6495 | Time: 96.81s\n"
     ]
    },
    {
     "name": "stdout",
     "output_type": "stream",
     "text": [
      "Epoch 4/10 | Train Loss: 0.5647 | Val Loss: 1.0519 | Val Acc: 0.6495 | Time: 96.81s\n"
     ]
    },
    {
     "name": "stderr",
     "output_type": "stream",
     "text": [
      "2025-06-21 11:24:52,111 - Epoch 5/10 | Train Loss: 0.3913 | Val Loss: 1.1977 | Val Acc: 0.6368 | Time: 96.96s\n"
     ]
    },
    {
     "name": "stdout",
     "output_type": "stream",
     "text": [
      "Epoch 5/10 | Train Loss: 0.3913 | Val Loss: 1.1977 | Val Acc: 0.6368 | Time: 96.96s\n"
     ]
    },
    {
     "name": "stderr",
     "output_type": "stream",
     "text": [
      "2025-06-21 11:26:34,382 - Epoch 6/10 | Train Loss: 0.2485 | Val Loss: 1.3455 | Val Acc: 0.6425 | Time: 102.27s\n"
     ]
    },
    {
     "name": "stdout",
     "output_type": "stream",
     "text": [
      "Epoch 6/10 | Train Loss: 0.2485 | Val Loss: 1.3455 | Val Acc: 0.6425 | Time: 102.27s\n"
     ]
    },
    {
     "name": "stderr",
     "output_type": "stream",
     "text": [
      "2025-06-21 11:28:15,045 - Epoch 7/10 | Train Loss: 0.1683 | Val Loss: 1.6150 | Val Acc: 0.6367 | Time: 100.66s\n"
     ]
    },
    {
     "name": "stdout",
     "output_type": "stream",
     "text": [
      "Epoch 7/10 | Train Loss: 0.1683 | Val Loss: 1.6150 | Val Acc: 0.6367 | Time: 100.66s\n"
     ]
    },
    {
     "name": "stderr",
     "output_type": "stream",
     "text": [
      "2025-06-21 11:29:56,000 - Epoch 8/10 | Train Loss: 0.1271 | Val Loss: 1.7621 | Val Acc: 0.6361 | Time: 100.95s\n"
     ]
    },
    {
     "name": "stdout",
     "output_type": "stream",
     "text": [
      "Epoch 8/10 | Train Loss: 0.1271 | Val Loss: 1.7621 | Val Acc: 0.6361 | Time: 100.95s\n"
     ]
    },
    {
     "name": "stderr",
     "output_type": "stream",
     "text": [
      "2025-06-21 11:31:36,801 - Epoch 9/10 | Train Loss: 0.1290 | Val Loss: 1.8427 | Val Acc: 0.6353 | Time: 100.80s\n"
     ]
    },
    {
     "name": "stdout",
     "output_type": "stream",
     "text": [
      "Epoch 9/10 | Train Loss: 0.1290 | Val Loss: 1.8427 | Val Acc: 0.6353 | Time: 100.80s\n"
     ]
    },
    {
     "name": "stderr",
     "output_type": "stream",
     "text": [
      "2025-06-21 11:33:17,678 - Epoch 10/10 | Train Loss: 0.0974 | Val Loss: 1.8145 | Val Acc: 0.6425 | Time: 100.87s\n",
      "2025-06-21 11:33:17,679 - ✅ Logging finalizado.\n",
      "2025-06-21 11:33:17,707 - Entrenamiento completo. Guardando modelo final...\n",
      "2025-06-21 11:33:17,708 - ✅ Logging finalizado.\n",
      "[I 2025-06-21 11:33:17,710] Trial 1 finished with value: 0.6425188074672611 and parameters: {'batch_size': 64, 'lr': 0.00011320323818566476}. Best is trial 1 with value: 0.6425188074672611.\n",
      "mobilenet:  20%|██        | 2/10 [34:16<2:16:17, 1022.18s/it]"
     ]
    },
    {
     "name": "stdout",
     "output_type": "stream",
     "text": [
      "Epoch 10/10 | Train Loss: 0.0974 | Val Loss: 1.8145 | Val Acc: 0.6425 | Time: 100.87s\n"
     ]
    },
    {
     "name": "stderr",
     "output_type": "stream",
     "text": [
      "2025-06-21 11:33:17,896 - 📄 Trial parameters saved to /home/exodia/NAO/data/kers2013/../../notebooks/logs/mobilenet_trial2/20250621_113317_params.txt\n",
      "2025-06-21 11:33:17,897 - 📁 Training log created for model: mobilenet_trial2\n",
      "2025-06-21 11:33:17,897 - 📄 Logs will be saved to /home/exodia/NAO/data/kers2013/../../notebooks/logs/mobilenet_trial2/20250621_113317.log\n",
      "2025-06-21 11:33:17,897 - 📄 CSV will be saved to /home/exodia/NAO/data/kers2013/../../notebooks/logs/mobilenet_trial2/20250621_113317.csv\n",
      "2025-06-21 11:35:02,873 - Epoch 1/10 | Train Loss: 1.1480 | Val Loss: 1.0289 | Val Acc: 0.6135 | Time: 104.89s\n"
     ]
    },
    {
     "name": "stdout",
     "output_type": "stream",
     "text": [
      "Epoch 1/10 | Train Loss: 1.1480 | Val Loss: 1.0289 | Val Acc: 0.6135 | Time: 104.89s\n"
     ]
    },
    {
     "name": "stderr",
     "output_type": "stream",
     "text": [
      "2025-06-21 11:36:40,859 - Epoch 2/10 | Train Loss: 0.9416 | Val Loss: 0.9577 | Val Acc: 0.6410 | Time: 97.98s\n"
     ]
    },
    {
     "name": "stdout",
     "output_type": "stream",
     "text": [
      "Epoch 2/10 | Train Loss: 0.9416 | Val Loss: 0.9577 | Val Acc: 0.6410 | Time: 97.98s\n"
     ]
    },
    {
     "name": "stderr",
     "output_type": "stream",
     "text": [
      "2025-06-21 11:38:31,267 - Epoch 3/10 | Train Loss: 0.8298 | Val Loss: 1.0061 | Val Acc: 0.6438 | Time: 110.41s\n"
     ]
    },
    {
     "name": "stdout",
     "output_type": "stream",
     "text": [
      "Epoch 3/10 | Train Loss: 0.8298 | Val Loss: 1.0061 | Val Acc: 0.6438 | Time: 110.41s\n"
     ]
    },
    {
     "name": "stderr",
     "output_type": "stream",
     "text": [
      "2025-06-21 11:40:17,289 - Epoch 4/10 | Train Loss: 0.7348 | Val Loss: 1.0275 | Val Acc: 0.6287 | Time: 106.02s\n"
     ]
    },
    {
     "name": "stdout",
     "output_type": "stream",
     "text": [
      "Epoch 4/10 | Train Loss: 0.7348 | Val Loss: 1.0275 | Val Acc: 0.6287 | Time: 106.02s\n"
     ]
    },
    {
     "name": "stderr",
     "output_type": "stream",
     "text": [
      "2025-06-21 11:41:58,014 - Epoch 5/10 | Train Loss: 0.6419 | Val Loss: 1.0356 | Val Acc: 0.6434 | Time: 100.72s\n"
     ]
    },
    {
     "name": "stdout",
     "output_type": "stream",
     "text": [
      "Epoch 5/10 | Train Loss: 0.6419 | Val Loss: 1.0356 | Val Acc: 0.6434 | Time: 100.72s\n"
     ]
    },
    {
     "name": "stderr",
     "output_type": "stream",
     "text": [
      "2025-06-21 11:43:37,344 - Epoch 6/10 | Train Loss: 0.5544 | Val Loss: 1.0629 | Val Acc: 0.6477 | Time: 99.33s\n"
     ]
    },
    {
     "name": "stdout",
     "output_type": "stream",
     "text": [
      "Epoch 6/10 | Train Loss: 0.5544 | Val Loss: 1.0629 | Val Acc: 0.6477 | Time: 99.33s\n"
     ]
    },
    {
     "name": "stderr",
     "output_type": "stream",
     "text": [
      "2025-06-21 11:45:15,506 - Epoch 7/10 | Train Loss: 0.4735 | Val Loss: 1.0863 | Val Acc: 0.6510 | Time: 98.16s\n"
     ]
    },
    {
     "name": "stdout",
     "output_type": "stream",
     "text": [
      "Epoch 7/10 | Train Loss: 0.4735 | Val Loss: 1.0863 | Val Acc: 0.6510 | Time: 98.16s\n"
     ]
    },
    {
     "name": "stderr",
     "output_type": "stream",
     "text": [
      "2025-06-21 11:46:53,974 - Epoch 8/10 | Train Loss: 0.3893 | Val Loss: 1.2286 | Val Acc: 0.6468 | Time: 98.47s\n"
     ]
    },
    {
     "name": "stdout",
     "output_type": "stream",
     "text": [
      "Epoch 8/10 | Train Loss: 0.3893 | Val Loss: 1.2286 | Val Acc: 0.6468 | Time: 98.47s\n"
     ]
    },
    {
     "name": "stderr",
     "output_type": "stream",
     "text": [
      "2025-06-21 11:48:33,136 - Epoch 9/10 | Train Loss: 0.3320 | Val Loss: 1.3152 | Val Acc: 0.6439 | Time: 99.16s\n"
     ]
    },
    {
     "name": "stdout",
     "output_type": "stream",
     "text": [
      "Epoch 9/10 | Train Loss: 0.3320 | Val Loss: 1.3152 | Val Acc: 0.6439 | Time: 99.16s\n"
     ]
    },
    {
     "name": "stderr",
     "output_type": "stream",
     "text": [
      "2025-06-21 11:50:10,874 - Epoch 10/10 | Train Loss: 0.2758 | Val Loss: 1.3243 | Val Acc: 0.6468 | Time: 97.74s\n",
      "2025-06-21 11:50:10,876 - ✅ Logging finalizado.\n",
      "2025-06-21 11:50:10,896 - Entrenamiento completo. Guardando modelo final...\n",
      "2025-06-21 11:50:10,898 - ✅ Logging finalizado.\n",
      "[I 2025-06-21 11:50:10,904] Trial 2 finished with value: 0.6468375592086932 and parameters: {'batch_size': 64, 'lr': 0.00043794847561630986}. Best is trial 2 with value: 0.6468375592086932.\n",
      "mobilenet:  30%|███       | 3/10 [51:09<1:58:46, 1018.08s/it]"
     ]
    },
    {
     "name": "stdout",
     "output_type": "stream",
     "text": [
      "Epoch 10/10 | Train Loss: 0.2758 | Val Loss: 1.3243 | Val Acc: 0.6468 | Time: 97.74s\n"
     ]
    },
    {
     "name": "stderr",
     "output_type": "stream",
     "text": [
      "2025-06-21 11:50:11,095 - 📄 Trial parameters saved to /home/exodia/NAO/data/kers2013/../../notebooks/logs/mobilenet_trial3/20250621_115011_params.txt\n",
      "2025-06-21 11:50:11,095 - 📁 Training log created for model: mobilenet_trial3\n",
      "2025-06-21 11:50:11,096 - 📄 Logs will be saved to /home/exodia/NAO/data/kers2013/../../notebooks/logs/mobilenet_trial3/20250621_115011.log\n",
      "2025-06-21 11:50:11,096 - 📄 CSV will be saved to /home/exodia/NAO/data/kers2013/../../notebooks/logs/mobilenet_trial3/20250621_115011.csv\n",
      "2025-06-21 11:51:42,812 - Epoch 1/10 | Train Loss: 1.1828 | Val Loss: 1.0855 | Val Acc: 0.5901 | Time: 91.63s\n"
     ]
    },
    {
     "name": "stdout",
     "output_type": "stream",
     "text": [
      "Epoch 1/10 | Train Loss: 1.1828 | Val Loss: 1.0855 | Val Acc: 0.5901 | Time: 91.63s\n"
     ]
    },
    {
     "name": "stderr",
     "output_type": "stream",
     "text": [
      "2025-06-21 11:53:14,798 - Epoch 2/10 | Train Loss: 1.0070 | Val Loss: 1.0447 | Val Acc: 0.5986 | Time: 91.99s\n"
     ]
    },
    {
     "name": "stdout",
     "output_type": "stream",
     "text": [
      "Epoch 2/10 | Train Loss: 1.0070 | Val Loss: 1.0447 | Val Acc: 0.5986 | Time: 91.99s\n"
     ]
    },
    {
     "name": "stderr",
     "output_type": "stream",
     "text": [
      "2025-06-21 11:54:49,736 - Epoch 3/10 | Train Loss: 0.9120 | Val Loss: 1.0342 | Val Acc: 0.6193 | Time: 94.94s\n"
     ]
    },
    {
     "name": "stdout",
     "output_type": "stream",
     "text": [
      "Epoch 3/10 | Train Loss: 0.9120 | Val Loss: 1.0342 | Val Acc: 0.6193 | Time: 94.94s\n"
     ]
    },
    {
     "name": "stderr",
     "output_type": "stream",
     "text": [
      "2025-06-21 11:56:21,391 - Epoch 4/10 | Train Loss: 0.8502 | Val Loss: 0.9922 | Val Acc: 0.6408 | Time: 91.65s\n"
     ]
    },
    {
     "name": "stdout",
     "output_type": "stream",
     "text": [
      "Epoch 4/10 | Train Loss: 0.8502 | Val Loss: 0.9922 | Val Acc: 0.6408 | Time: 91.65s\n"
     ]
    },
    {
     "name": "stderr",
     "output_type": "stream",
     "text": [
      "2025-06-21 11:57:55,304 - Epoch 5/10 | Train Loss: 0.7757 | Val Loss: 0.9780 | Val Acc: 0.6459 | Time: 93.91s\n"
     ]
    },
    {
     "name": "stdout",
     "output_type": "stream",
     "text": [
      "Epoch 5/10 | Train Loss: 0.7757 | Val Loss: 0.9780 | Val Acc: 0.6459 | Time: 93.91s\n"
     ]
    },
    {
     "name": "stderr",
     "output_type": "stream",
     "text": [
      "2025-06-21 11:59:31,775 - Epoch 6/10 | Train Loss: 0.7100 | Val Loss: 1.0111 | Val Acc: 0.6365 | Time: 96.47s\n"
     ]
    },
    {
     "name": "stdout",
     "output_type": "stream",
     "text": [
      "Epoch 6/10 | Train Loss: 0.7100 | Val Loss: 1.0111 | Val Acc: 0.6365 | Time: 96.47s\n"
     ]
    },
    {
     "name": "stderr",
     "output_type": "stream",
     "text": [
      "2025-06-21 12:01:07,953 - Epoch 7/10 | Train Loss: 0.6288 | Val Loss: 1.0713 | Val Acc: 0.6460 | Time: 96.18s\n"
     ]
    },
    {
     "name": "stdout",
     "output_type": "stream",
     "text": [
      "Epoch 7/10 | Train Loss: 0.6288 | Val Loss: 1.0713 | Val Acc: 0.6460 | Time: 96.18s\n"
     ]
    },
    {
     "name": "stderr",
     "output_type": "stream",
     "text": [
      "2025-06-21 12:02:46,413 - Epoch 8/10 | Train Loss: 0.5655 | Val Loss: 1.0346 | Val Acc: 0.6463 | Time: 98.46s\n"
     ]
    },
    {
     "name": "stdout",
     "output_type": "stream",
     "text": [
      "Epoch 8/10 | Train Loss: 0.5655 | Val Loss: 1.0346 | Val Acc: 0.6463 | Time: 98.46s\n"
     ]
    },
    {
     "name": "stderr",
     "output_type": "stream",
     "text": [
      "2025-06-21 12:04:24,686 - Epoch 9/10 | Train Loss: 0.4974 | Val Loss: 1.1107 | Val Acc: 0.6546 | Time: 98.27s\n"
     ]
    },
    {
     "name": "stdout",
     "output_type": "stream",
     "text": [
      "Epoch 9/10 | Train Loss: 0.4974 | Val Loss: 1.1107 | Val Acc: 0.6546 | Time: 98.27s\n"
     ]
    },
    {
     "name": "stderr",
     "output_type": "stream",
     "text": [
      "2025-06-21 12:05:58,500 - Epoch 10/10 | Train Loss: 0.4326 | Val Loss: 1.3117 | Val Acc: 0.6424 | Time: 93.81s\n",
      "2025-06-21 12:05:58,501 - ✅ Logging finalizado.\n",
      "2025-06-21 12:05:58,526 - Entrenamiento completo. Guardando modelo final...\n",
      "2025-06-21 12:05:58,527 - ✅ Logging finalizado.\n",
      "[I 2025-06-21 12:05:58,528] Trial 3 finished with value: 0.6423794928949569 and parameters: {'batch_size': 32, 'lr': 0.0005197826516492797}. Best is trial 2 with value: 0.6468375592086932.\n",
      "mobilenet:  40%|████      | 4/10 [1:06:57<1:39:01, 990.26s/it]2025-06-21 12:05:58,670 - 📄 Trial parameters saved to /home/exodia/NAO/data/kers2013/../../notebooks/logs/mobilenet_trial4/20250621_120558_params.txt\n",
      "2025-06-21 12:05:58,671 - 📁 Training log created for model: mobilenet_trial4\n",
      "2025-06-21 12:05:58,671 - 📄 Logs will be saved to /home/exodia/NAO/data/kers2013/../../notebooks/logs/mobilenet_trial4/20250621_120558.log\n",
      "2025-06-21 12:05:58,672 - 📄 CSV will be saved to /home/exodia/NAO/data/kers2013/../../notebooks/logs/mobilenet_trial4/20250621_120558.csv\n"
     ]
    },
    {
     "name": "stdout",
     "output_type": "stream",
     "text": [
      "Epoch 10/10 | Train Loss: 0.4326 | Val Loss: 1.3117 | Val Acc: 0.6424 | Time: 93.81s\n"
     ]
    },
    {
     "name": "stderr",
     "output_type": "stream",
     "text": [
      "2025-06-21 12:07:30,739 - Epoch 1/10 | Train Loss: 1.1647 | Val Loss: 1.0309 | Val Acc: 0.6048 | Time: 91.99s\n"
     ]
    },
    {
     "name": "stdout",
     "output_type": "stream",
     "text": [
      "Epoch 1/10 | Train Loss: 1.1647 | Val Loss: 1.0309 | Val Acc: 0.6048 | Time: 91.99s\n"
     ]
    },
    {
     "name": "stderr",
     "output_type": "stream",
     "text": [
      "2025-06-21 12:09:02,736 - Epoch 2/10 | Train Loss: 0.9236 | Val Loss: 0.9665 | Val Acc: 0.6385 | Time: 92.00s\n"
     ]
    },
    {
     "name": "stdout",
     "output_type": "stream",
     "text": [
      "Epoch 2/10 | Train Loss: 0.9236 | Val Loss: 0.9665 | Val Acc: 0.6385 | Time: 92.00s\n"
     ]
    },
    {
     "name": "stderr",
     "output_type": "stream",
     "text": [
      "2025-06-21 12:10:34,683 - Epoch 3/10 | Train Loss: 0.7938 | Val Loss: 0.9548 | Val Acc: 0.6509 | Time: 91.95s\n"
     ]
    },
    {
     "name": "stdout",
     "output_type": "stream",
     "text": [
      "Epoch 3/10 | Train Loss: 0.7938 | Val Loss: 0.9548 | Val Acc: 0.6509 | Time: 91.95s\n"
     ]
    },
    {
     "name": "stderr",
     "output_type": "stream",
     "text": [
      "2025-06-21 12:12:06,352 - Epoch 4/10 | Train Loss: 0.6627 | Val Loss: 1.0360 | Val Acc: 0.6364 | Time: 91.67s\n"
     ]
    },
    {
     "name": "stdout",
     "output_type": "stream",
     "text": [
      "Epoch 4/10 | Train Loss: 0.6627 | Val Loss: 1.0360 | Val Acc: 0.6364 | Time: 91.67s\n"
     ]
    },
    {
     "name": "stderr",
     "output_type": "stream",
     "text": [
      "2025-06-21 12:13:38,307 - Epoch 5/10 | Train Loss: 0.5307 | Val Loss: 1.0817 | Val Acc: 0.6599 | Time: 91.95s\n"
     ]
    },
    {
     "name": "stdout",
     "output_type": "stream",
     "text": [
      "Epoch 5/10 | Train Loss: 0.5307 | Val Loss: 1.0817 | Val Acc: 0.6599 | Time: 91.95s\n"
     ]
    },
    {
     "name": "stderr",
     "output_type": "stream",
     "text": [
      "2025-06-21 12:15:10,406 - Epoch 6/10 | Train Loss: 0.4060 | Val Loss: 1.1670 | Val Acc: 0.6549 | Time: 92.10s\n"
     ]
    },
    {
     "name": "stdout",
     "output_type": "stream",
     "text": [
      "Epoch 6/10 | Train Loss: 0.4060 | Val Loss: 1.1670 | Val Acc: 0.6549 | Time: 92.10s\n"
     ]
    },
    {
     "name": "stderr",
     "output_type": "stream",
     "text": [
      "2025-06-21 12:16:42,176 - Epoch 7/10 | Train Loss: 0.3190 | Val Loss: 1.3230 | Val Acc: 0.6484 | Time: 91.77s\n"
     ]
    },
    {
     "name": "stdout",
     "output_type": "stream",
     "text": [
      "Epoch 7/10 | Train Loss: 0.3190 | Val Loss: 1.3230 | Val Acc: 0.6484 | Time: 91.77s\n"
     ]
    },
    {
     "name": "stderr",
     "output_type": "stream",
     "text": [
      "2025-06-21 12:18:14,080 - Epoch 8/10 | Train Loss: 0.2406 | Val Loss: 1.4782 | Val Acc: 0.6411 | Time: 91.90s\n"
     ]
    },
    {
     "name": "stdout",
     "output_type": "stream",
     "text": [
      "Epoch 8/10 | Train Loss: 0.2406 | Val Loss: 1.4782 | Val Acc: 0.6411 | Time: 91.90s\n"
     ]
    },
    {
     "name": "stderr",
     "output_type": "stream",
     "text": [
      "2025-06-21 12:19:46,041 - Epoch 9/10 | Train Loss: 0.2168 | Val Loss: 1.5050 | Val Acc: 0.6514 | Time: 91.96s\n"
     ]
    },
    {
     "name": "stdout",
     "output_type": "stream",
     "text": [
      "Epoch 9/10 | Train Loss: 0.2168 | Val Loss: 1.5050 | Val Acc: 0.6514 | Time: 91.96s\n"
     ]
    },
    {
     "name": "stderr",
     "output_type": "stream",
     "text": [
      "2025-06-21 12:21:18,119 - Epoch 10/10 | Train Loss: 0.1785 | Val Loss: 1.6332 | Val Acc: 0.6520 | Time: 92.08s\n",
      "2025-06-21 12:21:18,120 - ✅ Logging finalizado.\n",
      "2025-06-21 12:21:18,143 - Entrenamiento completo. Guardando modelo final...\n",
      "2025-06-21 12:21:18,143 - ✅ Logging finalizado.\n",
      "[I 2025-06-21 12:21:18,145] Trial 4 finished with value: 0.6519921983839511 and parameters: {'batch_size': 32, 'lr': 0.00016939458548925006}. Best is trial 4 with value: 0.6519921983839511.\n",
      "mobilenet:  50%|█████     | 5/10 [1:22:17<1:20:23, 964.79s/it]2025-06-21 12:21:18,286 - 📄 Trial parameters saved to /home/exodia/NAO/data/kers2013/../../notebooks/logs/mobilenet_trial5/20250621_122118_params.txt\n",
      "2025-06-21 12:21:18,286 - 📁 Training log created for model: mobilenet_trial5\n",
      "2025-06-21 12:21:18,287 - 📄 Logs will be saved to /home/exodia/NAO/data/kers2013/../../notebooks/logs/mobilenet_trial5/20250621_122118.log\n",
      "2025-06-21 12:21:18,287 - 📄 CSV will be saved to /home/exodia/NAO/data/kers2013/../../notebooks/logs/mobilenet_trial5/20250621_122118.csv\n"
     ]
    },
    {
     "name": "stdout",
     "output_type": "stream",
     "text": [
      "Epoch 10/10 | Train Loss: 0.1785 | Val Loss: 1.6332 | Val Acc: 0.6520 | Time: 92.08s\n"
     ]
    },
    {
     "name": "stderr",
     "output_type": "stream",
     "text": [
      "2025-06-21 12:22:59,026 - Epoch 1/10 | Train Loss: 1.1589 | Val Loss: 1.0837 | Val Acc: 0.6011 | Time: 100.66s\n"
     ]
    },
    {
     "name": "stdout",
     "output_type": "stream",
     "text": [
      "Epoch 1/10 | Train Loss: 1.1589 | Val Loss: 1.0837 | Val Acc: 0.6011 | Time: 100.66s\n"
     ]
    },
    {
     "name": "stderr",
     "output_type": "stream",
     "text": [
      "2025-06-21 12:24:39,633 - Epoch 2/10 | Train Loss: 0.9517 | Val Loss: 0.9650 | Val Acc: 0.6400 | Time: 100.60s\n"
     ]
    },
    {
     "name": "stdout",
     "output_type": "stream",
     "text": [
      "Epoch 2/10 | Train Loss: 0.9517 | Val Loss: 0.9650 | Val Acc: 0.6400 | Time: 100.60s\n"
     ]
    },
    {
     "name": "stderr",
     "output_type": "stream",
     "text": [
      "2025-06-21 12:26:20,484 - Epoch 3/10 | Train Loss: 0.8411 | Val Loss: 0.9470 | Val Acc: 0.6415 | Time: 100.85s\n"
     ]
    },
    {
     "name": "stdout",
     "output_type": "stream",
     "text": [
      "Epoch 3/10 | Train Loss: 0.8411 | Val Loss: 0.9470 | Val Acc: 0.6415 | Time: 100.85s\n"
     ]
    },
    {
     "name": "stderr",
     "output_type": "stream",
     "text": [
      "2025-06-21 12:28:01,280 - Epoch 4/10 | Train Loss: 0.7607 | Val Loss: 0.9557 | Val Acc: 0.6505 | Time: 100.80s\n"
     ]
    },
    {
     "name": "stdout",
     "output_type": "stream",
     "text": [
      "Epoch 4/10 | Train Loss: 0.7607 | Val Loss: 0.9557 | Val Acc: 0.6505 | Time: 100.80s\n"
     ]
    },
    {
     "name": "stderr",
     "output_type": "stream",
     "text": [
      "2025-06-21 12:29:42,133 - Epoch 5/10 | Train Loss: 0.6696 | Val Loss: 1.0046 | Val Acc: 0.6502 | Time: 100.85s\n"
     ]
    },
    {
     "name": "stdout",
     "output_type": "stream",
     "text": [
      "Epoch 5/10 | Train Loss: 0.6696 | Val Loss: 1.0046 | Val Acc: 0.6502 | Time: 100.85s\n"
     ]
    },
    {
     "name": "stderr",
     "output_type": "stream",
     "text": [
      "2025-06-21 12:31:23,058 - Epoch 6/10 | Train Loss: 0.5824 | Val Loss: 1.0243 | Val Acc: 0.6493 | Time: 100.92s\n"
     ]
    },
    {
     "name": "stdout",
     "output_type": "stream",
     "text": [
      "Epoch 6/10 | Train Loss: 0.5824 | Val Loss: 1.0243 | Val Acc: 0.6493 | Time: 100.92s\n"
     ]
    },
    {
     "name": "stderr",
     "output_type": "stream",
     "text": [
      "2025-06-21 12:33:04,268 - Epoch 7/10 | Train Loss: 0.4966 | Val Loss: 1.1252 | Val Acc: 0.6445 | Time: 101.21s\n"
     ]
    },
    {
     "name": "stdout",
     "output_type": "stream",
     "text": [
      "Epoch 7/10 | Train Loss: 0.4966 | Val Loss: 1.1252 | Val Acc: 0.6445 | Time: 101.21s\n"
     ]
    },
    {
     "name": "stderr",
     "output_type": "stream",
     "text": [
      "2025-06-21 12:34:45,206 - Epoch 8/10 | Train Loss: 0.4243 | Val Loss: 1.1677 | Val Acc: 0.6553 | Time: 100.94s\n"
     ]
    },
    {
     "name": "stdout",
     "output_type": "stream",
     "text": [
      "Epoch 8/10 | Train Loss: 0.4243 | Val Loss: 1.1677 | Val Acc: 0.6553 | Time: 100.94s\n"
     ]
    },
    {
     "name": "stderr",
     "output_type": "stream",
     "text": [
      "2025-06-21 12:36:25,996 - Epoch 9/10 | Train Loss: 0.3514 | Val Loss: 1.2936 | Val Acc: 0.6495 | Time: 100.79s\n"
     ]
    },
    {
     "name": "stdout",
     "output_type": "stream",
     "text": [
      "Epoch 9/10 | Train Loss: 0.3514 | Val Loss: 1.2936 | Val Acc: 0.6495 | Time: 100.79s\n"
     ]
    },
    {
     "name": "stderr",
     "output_type": "stream",
     "text": [
      "2025-06-21 12:38:07,556 - Epoch 10/10 | Train Loss: 0.2968 | Val Loss: 1.3134 | Val Acc: 0.6459 | Time: 101.56s\n",
      "2025-06-21 12:38:07,561 - ✅ Logging finalizado.\n",
      "2025-06-21 12:38:07,583 - Entrenamiento completo. Guardando modelo final...\n",
      "2025-06-21 12:38:07,584 - ✅ Logging finalizado.\n",
      "[I 2025-06-21 12:38:07,586] Trial 5 finished with value: 0.6458623572025635 and parameters: {'batch_size': 64, 'lr': 0.0004782191803524535}. Best is trial 4 with value: 0.6519921983839511.\n",
      "mobilenet:  60%|██████    | 6/10 [1:39:06<1:05:19, 979.97s/it]"
     ]
    },
    {
     "name": "stdout",
     "output_type": "stream",
     "text": [
      "Epoch 10/10 | Train Loss: 0.2968 | Val Loss: 1.3134 | Val Acc: 0.6459 | Time: 101.56s\n"
     ]
    },
    {
     "name": "stderr",
     "output_type": "stream",
     "text": [
      "2025-06-21 12:38:07,769 - 📄 Trial parameters saved to /home/exodia/NAO/data/kers2013/../../notebooks/logs/mobilenet_trial6/20250621_123807_params.txt\n",
      "2025-06-21 12:38:07,770 - 📁 Training log created for model: mobilenet_trial6\n",
      "2025-06-21 12:38:07,770 - 📄 Logs will be saved to /home/exodia/NAO/data/kers2013/../../notebooks/logs/mobilenet_trial6/20250621_123807.log\n",
      "2025-06-21 12:38:07,770 - 📄 CSV will be saved to /home/exodia/NAO/data/kers2013/../../notebooks/logs/mobilenet_trial6/20250621_123807.csv\n",
      "2025-06-21 12:39:44,917 - Epoch 1/10 | Train Loss: 1.1474 | Val Loss: 1.0288 | Val Acc: 0.6144 | Time: 97.06s\n"
     ]
    },
    {
     "name": "stdout",
     "output_type": "stream",
     "text": [
      "Epoch 1/10 | Train Loss: 1.1474 | Val Loss: 1.0288 | Val Acc: 0.6144 | Time: 97.06s\n"
     ]
    },
    {
     "name": "stderr",
     "output_type": "stream",
     "text": [
      "2025-06-21 12:41:25,495 - Epoch 2/10 | Train Loss: 0.9061 | Val Loss: 0.9394 | Val Acc: 0.6541 | Time: 100.57s\n"
     ]
    },
    {
     "name": "stdout",
     "output_type": "stream",
     "text": [
      "Epoch 2/10 | Train Loss: 0.9061 | Val Loss: 0.9394 | Val Acc: 0.6541 | Time: 100.57s\n"
     ]
    },
    {
     "name": "stderr",
     "output_type": "stream",
     "text": [
      "2025-06-21 12:43:05,178 - Epoch 3/10 | Train Loss: 0.7751 | Val Loss: 1.0211 | Val Acc: 0.6450 | Time: 99.68s\n"
     ]
    },
    {
     "name": "stdout",
     "output_type": "stream",
     "text": [
      "Epoch 3/10 | Train Loss: 0.7751 | Val Loss: 1.0211 | Val Acc: 0.6450 | Time: 99.68s\n"
     ]
    },
    {
     "name": "stderr",
     "output_type": "stream",
     "text": [
      "2025-06-21 12:44:45,274 - Epoch 4/10 | Train Loss: 0.6496 | Val Loss: 1.0103 | Val Acc: 0.6588 | Time: 100.09s\n"
     ]
    },
    {
     "name": "stdout",
     "output_type": "stream",
     "text": [
      "Epoch 4/10 | Train Loss: 0.6496 | Val Loss: 1.0103 | Val Acc: 0.6588 | Time: 100.09s\n"
     ]
    },
    {
     "name": "stderr",
     "output_type": "stream",
     "text": [
      "2025-06-21 12:46:25,294 - Epoch 5/10 | Train Loss: 0.5215 | Val Loss: 1.0689 | Val Acc: 0.6491 | Time: 100.02s\n"
     ]
    },
    {
     "name": "stdout",
     "output_type": "stream",
     "text": [
      "Epoch 5/10 | Train Loss: 0.5215 | Val Loss: 1.0689 | Val Acc: 0.6491 | Time: 100.02s\n"
     ]
    },
    {
     "name": "stderr",
     "output_type": "stream",
     "text": [
      "2025-06-21 12:48:05,680 - Epoch 6/10 | Train Loss: 0.4139 | Val Loss: 1.1782 | Val Acc: 0.6576 | Time: 100.39s\n"
     ]
    },
    {
     "name": "stdout",
     "output_type": "stream",
     "text": [
      "Epoch 6/10 | Train Loss: 0.4139 | Val Loss: 1.1782 | Val Acc: 0.6576 | Time: 100.39s\n"
     ]
    },
    {
     "name": "stderr",
     "output_type": "stream",
     "text": [
      "2025-06-21 12:49:49,919 - Epoch 7/10 | Train Loss: 0.3164 | Val Loss: 1.2408 | Val Acc: 0.6435 | Time: 104.24s\n"
     ]
    },
    {
     "name": "stdout",
     "output_type": "stream",
     "text": [
      "Epoch 7/10 | Train Loss: 0.3164 | Val Loss: 1.2408 | Val Acc: 0.6435 | Time: 104.24s\n"
     ]
    },
    {
     "name": "stderr",
     "output_type": "stream",
     "text": [
      "2025-06-21 12:51:36,555 - Epoch 8/10 | Train Loss: 0.2554 | Val Loss: 1.3643 | Val Acc: 0.6471 | Time: 106.64s\n"
     ]
    },
    {
     "name": "stdout",
     "output_type": "stream",
     "text": [
      "Epoch 8/10 | Train Loss: 0.2554 | Val Loss: 1.3643 | Val Acc: 0.6471 | Time: 106.64s\n"
     ]
    },
    {
     "name": "stderr",
     "output_type": "stream",
     "text": [
      "2025-06-21 12:53:20,711 - Epoch 9/10 | Train Loss: 0.1986 | Val Loss: 1.4676 | Val Acc: 0.6481 | Time: 104.15s\n"
     ]
    },
    {
     "name": "stdout",
     "output_type": "stream",
     "text": [
      "Epoch 9/10 | Train Loss: 0.1986 | Val Loss: 1.4676 | Val Acc: 0.6481 | Time: 104.15s\n"
     ]
    },
    {
     "name": "stderr",
     "output_type": "stream",
     "text": [
      "2025-06-21 12:55:08,946 - Epoch 10/10 | Train Loss: 0.1787 | Val Loss: 1.5945 | Val Acc: 0.6591 | Time: 108.23s\n",
      "2025-06-21 12:55:08,947 - ✅ Logging finalizado.\n",
      "2025-06-21 12:55:08,973 - Entrenamiento completo. Guardando modelo final...\n",
      "2025-06-21 12:55:08,974 - ✅ Logging finalizado.\n",
      "[I 2025-06-21 12:55:08,976] Trial 6 finished with value: 0.6590972415714684 and parameters: {'batch_size': 64, 'lr': 0.0002647020619085978}. Best is trial 6 with value: 0.6590972415714684.\n",
      "mobilenet:  70%|███████   | 7/10 [1:56:07<49:40, 993.51s/it]  "
     ]
    },
    {
     "name": "stdout",
     "output_type": "stream",
     "text": [
      "Epoch 10/10 | Train Loss: 0.1787 | Val Loss: 1.5945 | Val Acc: 0.6591 | Time: 108.23s\n"
     ]
    },
    {
     "name": "stderr",
     "output_type": "stream",
     "text": [
      "2025-06-21 12:55:09,176 - 📄 Trial parameters saved to /home/exodia/NAO/data/kers2013/../../notebooks/logs/mobilenet_trial7/20250621_125509_params.txt\n",
      "2025-06-21 12:55:09,176 - 📁 Training log created for model: mobilenet_trial7\n",
      "2025-06-21 12:55:09,176 - 📄 Logs will be saved to /home/exodia/NAO/data/kers2013/../../notebooks/logs/mobilenet_trial7/20250621_125509.log\n",
      "2025-06-21 12:55:09,177 - 📄 CSV will be saved to /home/exodia/NAO/data/kers2013/../../notebooks/logs/mobilenet_trial7/20250621_125509.csv\n",
      "2025-06-21 12:56:55,441 - Epoch 1/10 | Train Loss: 1.1952 | Val Loss: 1.0650 | Val Acc: 0.6011 | Time: 106.18s\n"
     ]
    },
    {
     "name": "stdout",
     "output_type": "stream",
     "text": [
      "Epoch 1/10 | Train Loss: 1.1952 | Val Loss: 1.0650 | Val Acc: 0.6011 | Time: 106.18s\n"
     ]
    },
    {
     "name": "stderr",
     "output_type": "stream",
     "text": [
      "2025-06-21 12:58:40,403 - Epoch 2/10 | Train Loss: 1.0114 | Val Loss: 1.1003 | Val Acc: 0.6021 | Time: 104.96s\n"
     ]
    },
    {
     "name": "stdout",
     "output_type": "stream",
     "text": [
      "Epoch 2/10 | Train Loss: 1.0114 | Val Loss: 1.1003 | Val Acc: 0.6021 | Time: 104.96s\n"
     ]
    },
    {
     "name": "stderr",
     "output_type": "stream",
     "text": [
      "2025-06-21 13:00:19,009 - Epoch 3/10 | Train Loss: 0.9302 | Val Loss: 0.9785 | Val Acc: 0.6298 | Time: 98.60s\n"
     ]
    },
    {
     "name": "stdout",
     "output_type": "stream",
     "text": [
      "Epoch 3/10 | Train Loss: 0.9302 | Val Loss: 0.9785 | Val Acc: 0.6298 | Time: 98.60s\n"
     ]
    },
    {
     "name": "stderr",
     "output_type": "stream",
     "text": [
      "2025-06-21 13:01:50,199 - Epoch 4/10 | Train Loss: 0.8557 | Val Loss: 0.9793 | Val Acc: 0.6466 | Time: 91.19s\n"
     ]
    },
    {
     "name": "stdout",
     "output_type": "stream",
     "text": [
      "Epoch 4/10 | Train Loss: 0.8557 | Val Loss: 0.9793 | Val Acc: 0.6466 | Time: 91.19s\n"
     ]
    },
    {
     "name": "stderr",
     "output_type": "stream",
     "text": [
      "2025-06-21 13:03:21,270 - Epoch 5/10 | Train Loss: 0.7918 | Val Loss: 1.0107 | Val Acc: 0.6489 | Time: 91.07s\n"
     ]
    },
    {
     "name": "stdout",
     "output_type": "stream",
     "text": [
      "Epoch 5/10 | Train Loss: 0.7918 | Val Loss: 1.0107 | Val Acc: 0.6489 | Time: 91.07s\n"
     ]
    },
    {
     "name": "stderr",
     "output_type": "stream",
     "text": [
      "2025-06-21 13:04:58,802 - Epoch 6/10 | Train Loss: 0.7229 | Val Loss: 0.9901 | Val Acc: 0.6499 | Time: 97.53s\n"
     ]
    },
    {
     "name": "stdout",
     "output_type": "stream",
     "text": [
      "Epoch 6/10 | Train Loss: 0.7229 | Val Loss: 0.9901 | Val Acc: 0.6499 | Time: 97.53s\n"
     ]
    },
    {
     "name": "stderr",
     "output_type": "stream",
     "text": [
      "2025-06-21 13:06:41,547 - Epoch 7/10 | Train Loss: 0.6584 | Val Loss: 1.0110 | Val Acc: 0.6428 | Time: 102.74s\n"
     ]
    },
    {
     "name": "stdout",
     "output_type": "stream",
     "text": [
      "Epoch 7/10 | Train Loss: 0.6584 | Val Loss: 1.0110 | Val Acc: 0.6428 | Time: 102.74s\n"
     ]
    },
    {
     "name": "stderr",
     "output_type": "stream",
     "text": [
      "2025-06-21 13:08:18,470 - Epoch 8/10 | Train Loss: 0.5957 | Val Loss: 1.0377 | Val Acc: 0.6449 | Time: 96.92s\n"
     ]
    },
    {
     "name": "stdout",
     "output_type": "stream",
     "text": [
      "Epoch 8/10 | Train Loss: 0.5957 | Val Loss: 1.0377 | Val Acc: 0.6449 | Time: 96.92s\n"
     ]
    },
    {
     "name": "stderr",
     "output_type": "stream",
     "text": [
      "2025-06-21 13:09:55,117 - Epoch 9/10 | Train Loss: 0.5205 | Val Loss: 1.1103 | Val Acc: 0.6413 | Time: 96.65s\n"
     ]
    },
    {
     "name": "stdout",
     "output_type": "stream",
     "text": [
      "Epoch 9/10 | Train Loss: 0.5205 | Val Loss: 1.1103 | Val Acc: 0.6413 | Time: 96.65s\n"
     ]
    },
    {
     "name": "stderr",
     "output_type": "stream",
     "text": [
      "2025-06-21 13:11:32,046 - Epoch 10/10 | Train Loss: 0.4703 | Val Loss: 1.1345 | Val Acc: 0.6512 | Time: 96.93s\n",
      "2025-06-21 13:11:32,048 - ✅ Logging finalizado.\n",
      "2025-06-21 13:11:32,074 - Entrenamiento completo. Guardando modelo final...\n",
      "2025-06-21 13:11:32,075 - ✅ Logging finalizado.\n",
      "[I 2025-06-21 13:11:32,078] Trial 7 finished with value: 0.6511563109501254 and parameters: {'batch_size': 32, 'lr': 0.0005708601185298057}. Best is trial 6 with value: 0.6590972415714684.\n",
      "mobilenet:  80%|████████  | 8/10 [2:12:31<33:00, 990.20s/it]2025-06-21 13:11:32,233 - 📄 Trial parameters saved to /home/exodia/NAO/data/kers2013/../../notebooks/logs/mobilenet_trial8/20250621_131132_params.txt\n",
      "2025-06-21 13:11:32,234 - 📁 Training log created for model: mobilenet_trial8\n",
      "2025-06-21 13:11:32,234 - 📄 Logs will be saved to /home/exodia/NAO/data/kers2013/../../notebooks/logs/mobilenet_trial8/20250621_131132.log\n",
      "2025-06-21 13:11:32,234 - 📄 CSV will be saved to /home/exodia/NAO/data/kers2013/../../notebooks/logs/mobilenet_trial8/20250621_131132.csv\n"
     ]
    },
    {
     "name": "stdout",
     "output_type": "stream",
     "text": [
      "Epoch 10/10 | Train Loss: 0.4703 | Val Loss: 1.1345 | Val Acc: 0.6512 | Time: 96.93s\n"
     ]
    },
    {
     "name": "stderr",
     "output_type": "stream",
     "text": [
      "2025-06-21 13:13:16,912 - Epoch 1/10 | Train Loss: 1.1677 | Val Loss: 1.0183 | Val Acc: 0.6194 | Time: 104.59s\n"
     ]
    },
    {
     "name": "stdout",
     "output_type": "stream",
     "text": [
      "Epoch 1/10 | Train Loss: 1.1677 | Val Loss: 1.0183 | Val Acc: 0.6194 | Time: 104.59s\n"
     ]
    },
    {
     "name": "stderr",
     "output_type": "stream",
     "text": [
      "2025-06-21 13:15:01,268 - Epoch 2/10 | Train Loss: 0.8961 | Val Loss: 0.9681 | Val Acc: 0.6442 | Time: 104.36s\n"
     ]
    },
    {
     "name": "stdout",
     "output_type": "stream",
     "text": [
      "Epoch 2/10 | Train Loss: 0.8961 | Val Loss: 0.9681 | Val Acc: 0.6442 | Time: 104.36s\n"
     ]
    },
    {
     "name": "stderr",
     "output_type": "stream",
     "text": [
      "2025-06-21 13:16:45,143 - Epoch 3/10 | Train Loss: 0.7385 | Val Loss: 0.9690 | Val Acc: 0.6506 | Time: 103.87s\n"
     ]
    },
    {
     "name": "stdout",
     "output_type": "stream",
     "text": [
      "Epoch 3/10 | Train Loss: 0.7385 | Val Loss: 0.9690 | Val Acc: 0.6506 | Time: 103.87s\n"
     ]
    },
    {
     "name": "stderr",
     "output_type": "stream",
     "text": [
      "2025-06-21 13:18:26,243 - Epoch 4/10 | Train Loss: 0.5728 | Val Loss: 1.0614 | Val Acc: 0.6471 | Time: 101.10s\n"
     ]
    },
    {
     "name": "stdout",
     "output_type": "stream",
     "text": [
      "Epoch 4/10 | Train Loss: 0.5728 | Val Loss: 1.0614 | Val Acc: 0.6471 | Time: 101.10s\n"
     ]
    },
    {
     "name": "stderr",
     "output_type": "stream",
     "text": [
      "2025-06-21 13:20:07,266 - Epoch 5/10 | Train Loss: 0.4130 | Val Loss: 1.1948 | Val Acc: 0.6505 | Time: 101.02s\n"
     ]
    },
    {
     "name": "stdout",
     "output_type": "stream",
     "text": [
      "Epoch 5/10 | Train Loss: 0.4130 | Val Loss: 1.1948 | Val Acc: 0.6505 | Time: 101.02s\n"
     ]
    },
    {
     "name": "stderr",
     "output_type": "stream",
     "text": [
      "2025-06-21 13:21:47,870 - Epoch 6/10 | Train Loss: 0.2896 | Val Loss: 1.3078 | Val Acc: 0.6393 | Time: 100.60s\n"
     ]
    },
    {
     "name": "stdout",
     "output_type": "stream",
     "text": [
      "Epoch 6/10 | Train Loss: 0.2896 | Val Loss: 1.3078 | Val Acc: 0.6393 | Time: 100.60s\n"
     ]
    },
    {
     "name": "stderr",
     "output_type": "stream",
     "text": [
      "2025-06-21 13:23:29,145 - Epoch 7/10 | Train Loss: 0.2152 | Val Loss: 1.4911 | Val Acc: 0.6408 | Time: 101.27s\n"
     ]
    },
    {
     "name": "stdout",
     "output_type": "stream",
     "text": [
      "Epoch 7/10 | Train Loss: 0.2152 | Val Loss: 1.4911 | Val Acc: 0.6408 | Time: 101.27s\n"
     ]
    },
    {
     "name": "stderr",
     "output_type": "stream",
     "text": [
      "2025-06-21 13:25:10,998 - Epoch 8/10 | Train Loss: 0.1550 | Val Loss: 1.6083 | Val Acc: 0.6390 | Time: 101.85s\n"
     ]
    },
    {
     "name": "stdout",
     "output_type": "stream",
     "text": [
      "Epoch 8/10 | Train Loss: 0.1550 | Val Loss: 1.6083 | Val Acc: 0.6390 | Time: 101.85s\n"
     ]
    },
    {
     "name": "stderr",
     "output_type": "stream",
     "text": [
      "2025-06-21 13:26:52,226 - Epoch 9/10 | Train Loss: 0.1440 | Val Loss: 1.6847 | Val Acc: 0.6475 | Time: 101.23s\n"
     ]
    },
    {
     "name": "stdout",
     "output_type": "stream",
     "text": [
      "Epoch 9/10 | Train Loss: 0.1440 | Val Loss: 1.6847 | Val Acc: 0.6475 | Time: 101.23s\n"
     ]
    },
    {
     "name": "stderr",
     "output_type": "stream",
     "text": [
      "2025-06-21 13:28:33,220 - Epoch 10/10 | Train Loss: 0.1264 | Val Loss: 1.8058 | Val Acc: 0.6493 | Time: 100.99s\n",
      "2025-06-21 13:28:33,222 - ✅ Logging finalizado.\n",
      "2025-06-21 13:28:33,249 - Entrenamiento completo. Guardando modelo final...\n",
      "2025-06-21 13:28:33,249 - ✅ Logging finalizado.\n",
      "[I 2025-06-21 13:28:33,251] Trial 8 finished with value: 0.64934522151017 and parameters: {'batch_size': 64, 'lr': 0.00016541913354061548}. Best is trial 6 with value: 0.6590972415714684.\n",
      "mobilenet:  90%|█████████ | 9/10 [2:29:32<16:39, 999.88s/it]"
     ]
    },
    {
     "name": "stdout",
     "output_type": "stream",
     "text": [
      "Epoch 10/10 | Train Loss: 0.1264 | Val Loss: 1.8058 | Val Acc: 0.6493 | Time: 100.99s\n"
     ]
    },
    {
     "name": "stderr",
     "output_type": "stream",
     "text": [
      "2025-06-21 13:28:33,440 - 📄 Trial parameters saved to /home/exodia/NAO/data/kers2013/../../notebooks/logs/mobilenet_trial9/20250621_132833_params.txt\n",
      "2025-06-21 13:28:33,440 - 📁 Training log created for model: mobilenet_trial9\n",
      "2025-06-21 13:28:33,441 - 📄 Logs will be saved to /home/exodia/NAO/data/kers2013/../../notebooks/logs/mobilenet_trial9/20250621_132833.log\n",
      "2025-06-21 13:28:33,441 - 📄 CSV will be saved to /home/exodia/NAO/data/kers2013/../../notebooks/logs/mobilenet_trial9/20250621_132833.csv\n",
      "2025-06-21 13:30:05,333 - Epoch 1/10 | Train Loss: 1.1829 | Val Loss: 1.0438 | Val Acc: 0.6011 | Time: 91.81s\n"
     ]
    },
    {
     "name": "stdout",
     "output_type": "stream",
     "text": [
      "Epoch 1/10 | Train Loss: 1.1829 | Val Loss: 1.0438 | Val Acc: 0.6011 | Time: 91.81s\n"
     ]
    },
    {
     "name": "stderr",
     "output_type": "stream",
     "text": [
      "2025-06-21 13:31:37,352 - Epoch 2/10 | Train Loss: 0.9921 | Val Loss: 1.0499 | Val Acc: 0.6080 | Time: 92.02s\n"
     ]
    },
    {
     "name": "stdout",
     "output_type": "stream",
     "text": [
      "Epoch 2/10 | Train Loss: 0.9921 | Val Loss: 1.0499 | Val Acc: 0.6080 | Time: 92.02s\n"
     ]
    },
    {
     "name": "stderr",
     "output_type": "stream",
     "text": [
      "2025-06-21 13:33:08,994 - Epoch 3/10 | Train Loss: 0.9005 | Val Loss: 0.9818 | Val Acc: 0.6400 | Time: 91.64s\n"
     ]
    },
    {
     "name": "stdout",
     "output_type": "stream",
     "text": [
      "Epoch 3/10 | Train Loss: 0.9005 | Val Loss: 0.9818 | Val Acc: 0.6400 | Time: 91.64s\n"
     ]
    },
    {
     "name": "stderr",
     "output_type": "stream",
     "text": [
      "2025-06-21 13:34:40,865 - Epoch 4/10 | Train Loss: 0.8283 | Val Loss: 0.9869 | Val Acc: 0.6466 | Time: 91.87s\n"
     ]
    },
    {
     "name": "stdout",
     "output_type": "stream",
     "text": [
      "Epoch 4/10 | Train Loss: 0.8283 | Val Loss: 0.9869 | Val Acc: 0.6466 | Time: 91.87s\n"
     ]
    },
    {
     "name": "stderr",
     "output_type": "stream",
     "text": [
      "2025-06-21 13:36:12,477 - Epoch 5/10 | Train Loss: 0.7521 | Val Loss: 0.9590 | Val Acc: 0.6503 | Time: 91.61s\n"
     ]
    },
    {
     "name": "stdout",
     "output_type": "stream",
     "text": [
      "Epoch 5/10 | Train Loss: 0.7521 | Val Loss: 0.9590 | Val Acc: 0.6503 | Time: 91.61s\n"
     ]
    },
    {
     "name": "stderr",
     "output_type": "stream",
     "text": [
      "2025-06-21 13:37:44,471 - Epoch 6/10 | Train Loss: 0.6760 | Val Loss: 0.9767 | Val Acc: 0.6569 | Time: 91.99s\n"
     ]
    },
    {
     "name": "stdout",
     "output_type": "stream",
     "text": [
      "Epoch 6/10 | Train Loss: 0.6760 | Val Loss: 0.9767 | Val Acc: 0.6569 | Time: 91.99s\n"
     ]
    },
    {
     "name": "stderr",
     "output_type": "stream",
     "text": [
      "2025-06-21 13:39:16,213 - Epoch 7/10 | Train Loss: 0.6038 | Val Loss: 1.0075 | Val Acc: 0.6599 | Time: 91.74s\n"
     ]
    },
    {
     "name": "stdout",
     "output_type": "stream",
     "text": [
      "Epoch 7/10 | Train Loss: 0.6038 | Val Loss: 1.0075 | Val Acc: 0.6599 | Time: 91.74s\n"
     ]
    },
    {
     "name": "stderr",
     "output_type": "stream",
     "text": [
      "2025-06-21 13:40:49,364 - Epoch 8/10 | Train Loss: 0.5237 | Val Loss: 1.1050 | Val Acc: 0.6500 | Time: 93.15s\n"
     ]
    },
    {
     "name": "stdout",
     "output_type": "stream",
     "text": [
      "Epoch 8/10 | Train Loss: 0.5237 | Val Loss: 1.1050 | Val Acc: 0.6500 | Time: 93.15s\n"
     ]
    },
    {
     "name": "stderr",
     "output_type": "stream",
     "text": [
      "2025-06-21 13:42:26,187 - Epoch 9/10 | Train Loss: 0.4594 | Val Loss: 1.1985 | Val Acc: 0.6418 | Time: 96.82s\n"
     ]
    },
    {
     "name": "stdout",
     "output_type": "stream",
     "text": [
      "Epoch 9/10 | Train Loss: 0.4594 | Val Loss: 1.1985 | Val Acc: 0.6418 | Time: 96.82s\n"
     ]
    },
    {
     "name": "stderr",
     "output_type": "stream",
     "text": [
      "2025-06-21 13:43:59,822 - Epoch 10/10 | Train Loss: 0.3963 | Val Loss: 1.2322 | Val Acc: 0.6552 | Time: 93.63s\n",
      "2025-06-21 13:43:59,823 - ✅ Logging finalizado.\n",
      "2025-06-21 13:43:59,848 - Entrenamiento completo. Guardando modelo final...\n",
      "2025-06-21 13:43:59,849 - ✅ Logging finalizado.\n",
      "[I 2025-06-21 13:43:59,851] Trial 9 finished with value: 0.655196433546949 and parameters: {'batch_size': 32, 'lr': 0.00046171206277020546}. Best is trial 6 with value: 0.6590972415714684.\n",
      "mobilenet: 100%|██████████| 10/10 [2:44:58<00:00, 989.88s/it]\n"
     ]
    },
    {
     "name": "stdout",
     "output_type": "stream",
     "text": [
      "Epoch 10/10 | Train Loss: 0.3963 | Val Loss: 1.2322 | Val Acc: 0.6552 | Time: 93.63s\n"
     ]
    },
    {
     "name": "stderr",
     "output_type": "stream",
     "text": [
      "[I 2025-06-21 13:44:00,042] A new study created in memory with name: no-name-4f6f61ad-02ed-4f1e-9736-2863233ed407\n"
     ]
    },
    {
     "name": "stdout",
     "output_type": "stream",
     "text": [
      "✅ Mejor modelo guardado en: /home/exodia/NAO/data/kers2013/../models/mobilenet_trial6_best.pt\n",
      "\n",
      "🔍 Optimizando para modelo: vgg19\n"
     ]
    },
    {
     "name": "stderr",
     "output_type": "stream",
     "text": [
      "vgg19:   0%|          | 0/10 [00:00<?, ?it/s]2025-06-21 13:44:00,183 - 📄 Trial parameters saved to /home/exodia/NAO/data/kers2013/../../notebooks/logs/vgg19_trial0/20250621_134400_params.txt\n",
      "2025-06-21 13:44:00,183 - 📁 Training log created for model: vgg19_trial0\n",
      "2025-06-21 13:44:00,183 - 📄 Logs will be saved to /home/exodia/NAO/data/kers2013/../../notebooks/logs/vgg19_trial0/20250621_134400.log\n",
      "2025-06-21 13:44:00,184 - 📄 CSV will be saved to /home/exodia/NAO/data/kers2013/../../notebooks/logs/vgg19_trial0/20250621_134400.csv\n",
      "/home/exodia/miniconda3/envs/nao_sv/lib/python3.9/site-packages/torchvision/models/_utils.py:223: UserWarning: Arguments other than a weight enum or `None` for 'weights' are deprecated since 0.13 and may be removed in the future. The current behavior is equivalent to passing `weights=VGG19_Weights.IMAGENET1K_V1`. You can also use `weights=VGG19_Weights.DEFAULT` to get the most up-to-date weights.\n",
      "  warnings.warn(msg)\n",
      "2025-06-21 13:51:09,976 - Epoch 1/10 | Train Loss: 1.4343 | Val Loss: 1.2239 | Val Acc: 0.5269 | Time: 428.95s\n"
     ]
    },
    {
     "name": "stdout",
     "output_type": "stream",
     "text": [
      "Epoch 1/10 | Train Loss: 1.4343 | Val Loss: 1.2239 | Val Acc: 0.5269 | Time: 428.95s\n"
     ]
    },
    {
     "name": "stderr",
     "output_type": "stream",
     "text": [
      "2025-06-21 13:58:26,953 - Epoch 2/10 | Train Loss: 1.1955 | Val Loss: 1.1683 | Val Acc: 0.5437 | Time: 436.98s\n"
     ]
    },
    {
     "name": "stdout",
     "output_type": "stream",
     "text": [
      "Epoch 2/10 | Train Loss: 1.1955 | Val Loss: 1.1683 | Val Acc: 0.5437 | Time: 436.98s\n"
     ]
    },
    {
     "name": "stderr",
     "output_type": "stream",
     "text": [
      "2025-06-21 14:05:39,828 - Epoch 3/10 | Train Loss: 1.0874 | Val Loss: 1.1085 | Val Acc: 0.5874 | Time: 432.87s\n"
     ]
    },
    {
     "name": "stdout",
     "output_type": "stream",
     "text": [
      "Epoch 3/10 | Train Loss: 1.0874 | Val Loss: 1.1085 | Val Acc: 0.5874 | Time: 432.87s\n"
     ]
    },
    {
     "name": "stderr",
     "output_type": "stream",
     "text": [
      "2025-06-21 14:12:51,682 - Epoch 4/10 | Train Loss: 1.0022 | Val Loss: 1.0938 | Val Acc: 0.5797 | Time: 431.85s\n"
     ]
    },
    {
     "name": "stdout",
     "output_type": "stream",
     "text": [
      "Epoch 4/10 | Train Loss: 1.0022 | Val Loss: 1.0938 | Val Acc: 0.5797 | Time: 431.85s\n"
     ]
    },
    {
     "name": "stderr",
     "output_type": "stream",
     "text": [
      "2025-06-21 14:20:04,070 - Epoch 5/10 | Train Loss: 0.9252 | Val Loss: 1.0667 | Val Acc: 0.6084 | Time: 432.39s\n"
     ]
    },
    {
     "name": "stdout",
     "output_type": "stream",
     "text": [
      "Epoch 5/10 | Train Loss: 0.9252 | Val Loss: 1.0667 | Val Acc: 0.6084 | Time: 432.39s\n"
     ]
    },
    {
     "name": "stderr",
     "output_type": "stream",
     "text": [
      "2025-06-21 14:27:16,168 - Epoch 6/10 | Train Loss: 0.8320 | Val Loss: 1.0485 | Val Acc: 0.6173 | Time: 432.10s\n"
     ]
    },
    {
     "name": "stdout",
     "output_type": "stream",
     "text": [
      "Epoch 6/10 | Train Loss: 0.8320 | Val Loss: 1.0485 | Val Acc: 0.6173 | Time: 432.10s\n"
     ]
    },
    {
     "name": "stderr",
     "output_type": "stream",
     "text": [
      "2025-06-21 14:34:28,575 - Epoch 7/10 | Train Loss: 0.7394 | Val Loss: 1.1120 | Val Acc: 0.6176 | Time: 432.41s\n"
     ]
    },
    {
     "name": "stdout",
     "output_type": "stream",
     "text": [
      "Epoch 7/10 | Train Loss: 0.7394 | Val Loss: 1.1120 | Val Acc: 0.6176 | Time: 432.41s\n"
     ]
    },
    {
     "name": "stderr",
     "output_type": "stream",
     "text": [
      "2025-06-21 14:41:40,878 - Epoch 8/10 | Train Loss: 0.6315 | Val Loss: 1.0965 | Val Acc: 0.6336 | Time: 432.30s\n"
     ]
    },
    {
     "name": "stdout",
     "output_type": "stream",
     "text": [
      "Epoch 8/10 | Train Loss: 0.6315 | Val Loss: 1.0965 | Val Acc: 0.6336 | Time: 432.30s\n"
     ]
    },
    {
     "name": "stderr",
     "output_type": "stream",
     "text": [
      "2025-06-21 14:48:53,179 - Epoch 9/10 | Train Loss: 0.5343 | Val Loss: 1.1967 | Val Acc: 0.6237 | Time: 432.30s\n"
     ]
    },
    {
     "name": "stdout",
     "output_type": "stream",
     "text": [
      "Epoch 9/10 | Train Loss: 0.5343 | Val Loss: 1.1967 | Val Acc: 0.6237 | Time: 432.30s\n"
     ]
    },
    {
     "name": "stderr",
     "output_type": "stream",
     "text": [
      "2025-06-21 14:56:05,156 - Epoch 10/10 | Train Loss: 0.4374 | Val Loss: 1.3074 | Val Acc: 0.6378 | Time: 431.98s\n",
      "2025-06-21 14:56:05,156 - ✅ Logging finalizado.\n"
     ]
    },
    {
     "name": "stdout",
     "output_type": "stream",
     "text": [
      "Epoch 10/10 | Train Loss: 0.4374 | Val Loss: 1.3074 | Val Acc: 0.6378 | Time: 431.98s\n"
     ]
    },
    {
     "name": "stderr",
     "output_type": "stream",
     "text": [
      "2025-06-21 14:56:05,858 - Entrenamiento completo. Guardando modelo final...\n",
      "2025-06-21 14:56:05,858 - ✅ Logging finalizado.\n",
      "[I 2025-06-21 14:56:05,860] Trial 0 finished with value: 0.6377821120089162 and parameters: {'batch_size': 32, 'lr': 0.00024037730243068386}. Best is trial 0 with value: 0.6377821120089162.\n",
      "vgg19:  10%|█         | 1/10 [1:12:05<10:48:52, 4325.81s/it]2025-06-21 14:56:06,028 - 📄 Trial parameters saved to /home/exodia/NAO/data/kers2013/../../notebooks/logs/vgg19_trial1/20250621_145606_params.txt\n",
      "2025-06-21 14:56:06,028 - 📁 Training log created for model: vgg19_trial1\n",
      "2025-06-21 14:56:06,029 - 📄 Logs will be saved to /home/exodia/NAO/data/kers2013/../../notebooks/logs/vgg19_trial1/20250621_145606.log\n",
      "2025-06-21 14:56:06,029 - 📄 CSV will be saved to /home/exodia/NAO/data/kers2013/../../notebooks/logs/vgg19_trial1/20250621_145606.csv\n",
      "2025-06-21 15:03:59,010 - Epoch 1/10 | Train Loss: 1.8266 | Val Loss: 1.8194 | Val Acc: 0.2471 | Time: 472.16s\n"
     ]
    },
    {
     "name": "stdout",
     "output_type": "stream",
     "text": [
      "Epoch 1/10 | Train Loss: 1.8266 | Val Loss: 1.8194 | Val Acc: 0.2471 | Time: 472.16s\n"
     ]
    },
    {
     "name": "stderr",
     "output_type": "stream",
     "text": [
      "2025-06-21 15:11:50,437 - Epoch 2/10 | Train Loss: 1.8162 | Val Loss: 1.8157 | Val Acc: 0.2471 | Time: 471.43s\n"
     ]
    },
    {
     "name": "stdout",
     "output_type": "stream",
     "text": [
      "Epoch 2/10 | Train Loss: 1.8162 | Val Loss: 1.8157 | Val Acc: 0.2471 | Time: 471.43s\n"
     ]
    },
    {
     "name": "stderr",
     "output_type": "stream",
     "text": [
      "2025-06-21 15:19:41,803 - Epoch 3/10 | Train Loss: 1.8142 | Val Loss: 1.8149 | Val Acc: 0.2471 | Time: 471.37s\n"
     ]
    },
    {
     "name": "stdout",
     "output_type": "stream",
     "text": [
      "Epoch 3/10 | Train Loss: 1.8142 | Val Loss: 1.8149 | Val Acc: 0.2471 | Time: 471.37s\n"
     ]
    },
    {
     "name": "stderr",
     "output_type": "stream",
     "text": [
      "2025-06-21 15:27:32,853 - Epoch 4/10 | Train Loss: 1.8138 | Val Loss: 1.8143 | Val Acc: 0.2471 | Time: 471.05s\n"
     ]
    },
    {
     "name": "stdout",
     "output_type": "stream",
     "text": [
      "Epoch 4/10 | Train Loss: 1.8138 | Val Loss: 1.8143 | Val Acc: 0.2471 | Time: 471.05s\n"
     ]
    },
    {
     "name": "stderr",
     "output_type": "stream",
     "text": [
      "2025-06-21 15:35:24,344 - Epoch 5/10 | Train Loss: 1.8131 | Val Loss: 1.8155 | Val Acc: 0.2471 | Time: 471.49s\n"
     ]
    },
    {
     "name": "stdout",
     "output_type": "stream",
     "text": [
      "Epoch 5/10 | Train Loss: 1.8131 | Val Loss: 1.8155 | Val Acc: 0.2471 | Time: 471.49s\n"
     ]
    },
    {
     "name": "stderr",
     "output_type": "stream",
     "text": [
      "2025-06-21 15:43:15,569 - Epoch 6/10 | Train Loss: 1.8130 | Val Loss: 1.8160 | Val Acc: 0.2471 | Time: 471.22s\n"
     ]
    },
    {
     "name": "stdout",
     "output_type": "stream",
     "text": [
      "Epoch 6/10 | Train Loss: 1.8130 | Val Loss: 1.8160 | Val Acc: 0.2471 | Time: 471.22s\n"
     ]
    },
    {
     "name": "stderr",
     "output_type": "stream",
     "text": [
      "2025-06-21 15:51:06,981 - Epoch 7/10 | Train Loss: 1.8119 | Val Loss: 1.8145 | Val Acc: 0.2471 | Time: 471.41s\n"
     ]
    },
    {
     "name": "stdout",
     "output_type": "stream",
     "text": [
      "Epoch 7/10 | Train Loss: 1.8119 | Val Loss: 1.8145 | Val Acc: 0.2471 | Time: 471.41s\n"
     ]
    },
    {
     "name": "stderr",
     "output_type": "stream",
     "text": [
      "2025-06-21 15:58:58,325 - Epoch 8/10 | Train Loss: 1.8117 | Val Loss: 1.8135 | Val Acc: 0.2471 | Time: 471.34s\n"
     ]
    },
    {
     "name": "stdout",
     "output_type": "stream",
     "text": [
      "Epoch 8/10 | Train Loss: 1.8117 | Val Loss: 1.8135 | Val Acc: 0.2471 | Time: 471.34s\n"
     ]
    },
    {
     "name": "stderr",
     "output_type": "stream",
     "text": [
      "2025-06-21 16:06:49,838 - Epoch 9/10 | Train Loss: 1.8119 | Val Loss: 1.8138 | Val Acc: 0.2471 | Time: 471.51s\n"
     ]
    },
    {
     "name": "stdout",
     "output_type": "stream",
     "text": [
      "Epoch 9/10 | Train Loss: 1.8119 | Val Loss: 1.8138 | Val Acc: 0.2471 | Time: 471.51s\n"
     ]
    },
    {
     "name": "stderr",
     "output_type": "stream",
     "text": [
      "2025-06-21 16:14:41,537 - Epoch 10/10 | Train Loss: 1.8125 | Val Loss: 1.8136 | Val Acc: 0.2471 | Time: 471.70s\n",
      "2025-06-21 16:14:41,538 - ✅ Logging finalizado.\n"
     ]
    },
    {
     "name": "stdout",
     "output_type": "stream",
     "text": [
      "Epoch 10/10 | Train Loss: 1.8125 | Val Loss: 1.8136 | Val Acc: 0.2471 | Time: 471.70s\n"
     ]
    },
    {
     "name": "stderr",
     "output_type": "stream",
     "text": [
      "2025-06-21 16:14:42,247 - Entrenamiento completo. Guardando modelo final...\n",
      "2025-06-21 16:14:42,248 - ✅ Logging finalizado.\n",
      "[I 2025-06-21 16:14:42,250] Trial 1 finished with value: 0.24714405126776262 and parameters: {'batch_size': 16, 'lr': 0.0007271615561730911}. Best is trial 0 with value: 0.6377821120089162.\n",
      "vgg19:  20%|██        | 2/10 [2:30:42<10:07:24, 4555.56s/it]2025-06-21 16:14:42,392 - 📄 Trial parameters saved to /home/exodia/NAO/data/kers2013/../../notebooks/logs/vgg19_trial2/20250621_161442_params.txt\n",
      "2025-06-21 16:14:42,392 - 📁 Training log created for model: vgg19_trial2\n",
      "2025-06-21 16:14:42,393 - 📄 Logs will be saved to /home/exodia/NAO/data/kers2013/../../notebooks/logs/vgg19_trial2/20250621_161442.log\n",
      "2025-06-21 16:14:42,393 - 📄 CSV will be saved to /home/exodia/NAO/data/kers2013/../../notebooks/logs/vgg19_trial2/20250621_161442.csv\n",
      "2025-06-21 16:21:55,467 - Epoch 1/10 | Train Loss: 1.8389 | Val Loss: 1.8156 | Val Acc: 0.2471 | Time: 432.26s\n"
     ]
    },
    {
     "name": "stdout",
     "output_type": "stream",
     "text": [
      "Epoch 1/10 | Train Loss: 1.8389 | Val Loss: 1.8156 | Val Acc: 0.2471 | Time: 432.26s\n"
     ]
    },
    {
     "name": "stderr",
     "output_type": "stream",
     "text": [
      "2025-06-21 16:29:06,115 - Epoch 2/10 | Train Loss: 1.8150 | Val Loss: 1.8154 | Val Acc: 0.2471 | Time: 430.65s\n"
     ]
    },
    {
     "name": "stdout",
     "output_type": "stream",
     "text": [
      "Epoch 2/10 | Train Loss: 1.8150 | Val Loss: 1.8154 | Val Acc: 0.2471 | Time: 430.65s\n"
     ]
    },
    {
     "name": "stderr",
     "output_type": "stream",
     "text": [
      "2025-06-21 16:36:17,502 - Epoch 3/10 | Train Loss: 1.8147 | Val Loss: 1.8139 | Val Acc: 0.2471 | Time: 431.39s\n"
     ]
    },
    {
     "name": "stdout",
     "output_type": "stream",
     "text": [
      "Epoch 3/10 | Train Loss: 1.8147 | Val Loss: 1.8139 | Val Acc: 0.2471 | Time: 431.39s\n"
     ]
    },
    {
     "name": "stderr",
     "output_type": "stream",
     "text": [
      "2025-06-21 16:43:27,950 - Epoch 4/10 | Train Loss: 1.8134 | Val Loss: 1.8164 | Val Acc: 0.2471 | Time: 430.45s\n"
     ]
    },
    {
     "name": "stdout",
     "output_type": "stream",
     "text": [
      "Epoch 4/10 | Train Loss: 1.8134 | Val Loss: 1.8164 | Val Acc: 0.2471 | Time: 430.45s\n"
     ]
    },
    {
     "name": "stderr",
     "output_type": "stream",
     "text": [
      "2025-06-21 16:50:38,393 - Epoch 5/10 | Train Loss: 1.8138 | Val Loss: 1.8158 | Val Acc: 0.2471 | Time: 430.44s\n"
     ]
    },
    {
     "name": "stdout",
     "output_type": "stream",
     "text": [
      "Epoch 5/10 | Train Loss: 1.8138 | Val Loss: 1.8158 | Val Acc: 0.2471 | Time: 430.44s\n"
     ]
    },
    {
     "name": "stderr",
     "output_type": "stream",
     "text": [
      "2025-06-21 16:57:48,564 - Epoch 6/10 | Train Loss: 1.8125 | Val Loss: 1.8147 | Val Acc: 0.2471 | Time: 430.17s\n"
     ]
    },
    {
     "name": "stdout",
     "output_type": "stream",
     "text": [
      "Epoch 6/10 | Train Loss: 1.8125 | Val Loss: 1.8147 | Val Acc: 0.2471 | Time: 430.17s\n"
     ]
    },
    {
     "name": "stderr",
     "output_type": "stream",
     "text": [
      "2025-06-21 17:04:59,160 - Epoch 7/10 | Train Loss: 1.8129 | Val Loss: 1.8132 | Val Acc: 0.2471 | Time: 430.60s\n"
     ]
    },
    {
     "name": "stdout",
     "output_type": "stream",
     "text": [
      "Epoch 7/10 | Train Loss: 1.8129 | Val Loss: 1.8132 | Val Acc: 0.2471 | Time: 430.60s\n"
     ]
    },
    {
     "name": "stderr",
     "output_type": "stream",
     "text": [
      "2025-06-21 17:12:10,132 - Epoch 8/10 | Train Loss: 1.8122 | Val Loss: 1.8149 | Val Acc: 0.2471 | Time: 430.97s\n"
     ]
    },
    {
     "name": "stdout",
     "output_type": "stream",
     "text": [
      "Epoch 8/10 | Train Loss: 1.8122 | Val Loss: 1.8149 | Val Acc: 0.2471 | Time: 430.97s\n"
     ]
    },
    {
     "name": "stderr",
     "output_type": "stream",
     "text": [
      "2025-06-21 17:19:21,138 - Epoch 9/10 | Train Loss: 1.8116 | Val Loss: 1.8160 | Val Acc: 0.2471 | Time: 431.01s\n"
     ]
    },
    {
     "name": "stdout",
     "output_type": "stream",
     "text": [
      "Epoch 9/10 | Train Loss: 1.8116 | Val Loss: 1.8160 | Val Acc: 0.2471 | Time: 431.01s\n"
     ]
    },
    {
     "name": "stderr",
     "output_type": "stream",
     "text": [
      "2025-06-21 17:26:32,808 - Epoch 10/10 | Train Loss: 1.8116 | Val Loss: 1.8134 | Val Acc: 0.2471 | Time: 431.67s\n",
      "2025-06-21 17:26:32,808 - ✅ Logging finalizado.\n"
     ]
    },
    {
     "name": "stdout",
     "output_type": "stream",
     "text": [
      "Epoch 10/10 | Train Loss: 1.8116 | Val Loss: 1.8134 | Val Acc: 0.2471 | Time: 431.67s\n"
     ]
    },
    {
     "name": "stderr",
     "output_type": "stream",
     "text": [
      "2025-06-21 17:26:33,532 - Entrenamiento completo. Guardando modelo final...\n",
      "2025-06-21 17:26:33,532 - ✅ Logging finalizado.\n",
      "[I 2025-06-21 17:26:33,534] Trial 2 finished with value: 0.24714405126776262 and parameters: {'batch_size': 32, 'lr': 0.0008364810290311632}. Best is trial 0 with value: 0.6377821120089162.\n",
      "vgg19:  30%|███       | 3/10 [3:42:33<8:38:28, 4444.02s/it] 2025-06-21 17:26:33,700 - 📄 Trial parameters saved to /home/exodia/NAO/data/kers2013/../../notebooks/logs/vgg19_trial3/20250621_172633_params.txt\n",
      "2025-06-21 17:26:33,701 - 📁 Training log created for model: vgg19_trial3\n",
      "2025-06-21 17:26:33,701 - 📄 Logs will be saved to /home/exodia/NAO/data/kers2013/../../notebooks/logs/vgg19_trial3/20250621_172633.log\n",
      "2025-06-21 17:26:33,702 - 📄 CSV will be saved to /home/exodia/NAO/data/kers2013/../../notebooks/logs/vgg19_trial3/20250621_172633.csv\n",
      "2025-06-21 17:26:35,197 - ✅ Logging finalizado.\n",
      "[I 2025-06-21 17:26:35,198] Trial 3 pruned. \n",
      "vgg19:  40%|████      | 4/10 [3:42:35<4:29:01, 2690.23s/it]2025-06-21 17:26:35,287 - 📄 Trial parameters saved to /home/exodia/NAO/data/kers2013/../../notebooks/logs/vgg19_trial4/20250621_172635_params.txt\n",
      "2025-06-21 17:26:35,287 - 📁 Training log created for model: vgg19_trial4\n",
      "2025-06-21 17:26:35,288 - 📄 Logs will be saved to /home/exodia/NAO/data/kers2013/../../notebooks/logs/vgg19_trial4/20250621_172635.log\n",
      "2025-06-21 17:26:35,288 - 📄 CSV will be saved to /home/exodia/NAO/data/kers2013/../../notebooks/logs/vgg19_trial4/20250621_172635.csv\n"
     ]
    },
    {
     "name": "stdout",
     "output_type": "stream",
     "text": [
      "⚠️ Trial falló por falta de memoria\n"
     ]
    },
    {
     "name": "stderr",
     "output_type": "stream",
     "text": [
      "2025-06-21 17:26:36,730 - ✅ Logging finalizado.\n",
      "[I 2025-06-21 17:26:36,731] Trial 4 pruned. \n",
      "vgg19:  50%|█████     | 5/10 [3:42:36<2:23:23, 1720.66s/it]2025-06-21 17:26:36,819 - 📄 Trial parameters saved to /home/exodia/NAO/data/kers2013/../../notebooks/logs/vgg19_trial5/20250621_172636_params.txt\n",
      "2025-06-21 17:26:36,820 - 📁 Training log created for model: vgg19_trial5\n",
      "2025-06-21 17:26:36,820 - 📄 Logs will be saved to /home/exodia/NAO/data/kers2013/../../notebooks/logs/vgg19_trial5/20250621_172636.log\n",
      "2025-06-21 17:26:36,821 - 📄 CSV will be saved to /home/exodia/NAO/data/kers2013/../../notebooks/logs/vgg19_trial5/20250621_172636.csv\n"
     ]
    },
    {
     "name": "stdout",
     "output_type": "stream",
     "text": [
      "⚠️ Trial falló por falta de memoria\n"
     ]
    },
    {
     "name": "stderr",
     "output_type": "stream",
     "text": [
      "2025-06-21 17:26:38,269 - ✅ Logging finalizado.\n",
      "[I 2025-06-21 17:26:38,270] Trial 5 pruned. \n",
      "vgg19:  60%|██████    | 6/10 [3:42:38<1:15:44, 1136.16s/it]2025-06-21 17:26:38,365 - 📄 Trial parameters saved to /home/exodia/NAO/data/kers2013/../../notebooks/logs/vgg19_trial6/20250621_172638_params.txt\n",
      "2025-06-21 17:26:38,366 - 📁 Training log created for model: vgg19_trial6\n",
      "2025-06-21 17:26:38,366 - 📄 Logs will be saved to /home/exodia/NAO/data/kers2013/../../notebooks/logs/vgg19_trial6/20250621_172638.log\n",
      "2025-06-21 17:26:38,366 - 📄 CSV will be saved to /home/exodia/NAO/data/kers2013/../../notebooks/logs/vgg19_trial6/20250621_172638.csv\n"
     ]
    },
    {
     "name": "stdout",
     "output_type": "stream",
     "text": [
      "⚠️ Trial falló por falta de memoria\n"
     ]
    },
    {
     "name": "stderr",
     "output_type": "stream",
     "text": [
      "2025-06-21 17:34:31,233 - Epoch 1/10 | Train Loss: 1.8233 | Val Loss: 1.8177 | Val Acc: 0.2471 | Time: 472.04s\n"
     ]
    },
    {
     "name": "stdout",
     "output_type": "stream",
     "text": [
      "Epoch 1/10 | Train Loss: 1.8233 | Val Loss: 1.8177 | Val Acc: 0.2471 | Time: 472.04s\n"
     ]
    },
    {
     "name": "stderr",
     "output_type": "stream",
     "text": [
      "2025-06-21 17:42:22,109 - Epoch 2/10 | Train Loss: 1.8162 | Val Loss: 1.8160 | Val Acc: 0.2471 | Time: 470.88s\n"
     ]
    },
    {
     "name": "stdout",
     "output_type": "stream",
     "text": [
      "Epoch 2/10 | Train Loss: 1.8162 | Val Loss: 1.8160 | Val Acc: 0.2471 | Time: 470.88s\n"
     ]
    },
    {
     "name": "stderr",
     "output_type": "stream",
     "text": [
      "2025-06-21 17:50:12,822 - Epoch 3/10 | Train Loss: 1.8147 | Val Loss: 1.8146 | Val Acc: 0.2471 | Time: 470.71s\n"
     ]
    },
    {
     "name": "stdout",
     "output_type": "stream",
     "text": [
      "Epoch 3/10 | Train Loss: 1.8147 | Val Loss: 1.8146 | Val Acc: 0.2471 | Time: 470.71s\n"
     ]
    },
    {
     "name": "stderr",
     "output_type": "stream",
     "text": [
      "2025-06-21 17:58:04,286 - Epoch 4/10 | Train Loss: 1.8134 | Val Loss: 1.8161 | Val Acc: 0.2471 | Time: 471.46s\n"
     ]
    },
    {
     "name": "stdout",
     "output_type": "stream",
     "text": [
      "Epoch 4/10 | Train Loss: 1.8134 | Val Loss: 1.8161 | Val Acc: 0.2471 | Time: 471.46s\n"
     ]
    },
    {
     "name": "stderr",
     "output_type": "stream",
     "text": [
      "2025-06-21 18:05:55,727 - Epoch 5/10 | Train Loss: 1.8141 | Val Loss: 1.8147 | Val Acc: 0.2471 | Time: 471.44s\n"
     ]
    },
    {
     "name": "stdout",
     "output_type": "stream",
     "text": [
      "Epoch 5/10 | Train Loss: 1.8141 | Val Loss: 1.8147 | Val Acc: 0.2471 | Time: 471.44s\n"
     ]
    },
    {
     "name": "stderr",
     "output_type": "stream",
     "text": [
      "2025-06-21 18:13:47,233 - Epoch 6/10 | Train Loss: 1.8126 | Val Loss: 1.8152 | Val Acc: 0.2471 | Time: 471.51s\n"
     ]
    },
    {
     "name": "stdout",
     "output_type": "stream",
     "text": [
      "Epoch 6/10 | Train Loss: 1.8126 | Val Loss: 1.8152 | Val Acc: 0.2471 | Time: 471.51s\n"
     ]
    },
    {
     "name": "stderr",
     "output_type": "stream",
     "text": [
      "2025-06-21 18:21:38,445 - Epoch 7/10 | Train Loss: 1.8126 | Val Loss: 1.8155 | Val Acc: 0.2471 | Time: 471.21s\n"
     ]
    },
    {
     "name": "stdout",
     "output_type": "stream",
     "text": [
      "Epoch 7/10 | Train Loss: 1.8126 | Val Loss: 1.8155 | Val Acc: 0.2471 | Time: 471.21s\n"
     ]
    },
    {
     "name": "stderr",
     "output_type": "stream",
     "text": [
      "2025-06-21 18:29:29,523 - Epoch 8/10 | Train Loss: 1.8124 | Val Loss: 1.8140 | Val Acc: 0.2471 | Time: 471.08s\n"
     ]
    },
    {
     "name": "stdout",
     "output_type": "stream",
     "text": [
      "Epoch 8/10 | Train Loss: 1.8124 | Val Loss: 1.8140 | Val Acc: 0.2471 | Time: 471.08s\n"
     ]
    },
    {
     "name": "stderr",
     "output_type": "stream",
     "text": [
      "2025-06-21 18:37:20,620 - Epoch 9/10 | Train Loss: 1.8119 | Val Loss: 1.8155 | Val Acc: 0.2471 | Time: 471.10s\n"
     ]
    },
    {
     "name": "stdout",
     "output_type": "stream",
     "text": [
      "Epoch 9/10 | Train Loss: 1.8119 | Val Loss: 1.8155 | Val Acc: 0.2471 | Time: 471.10s\n"
     ]
    },
    {
     "name": "stderr",
     "output_type": "stream",
     "text": [
      "2025-06-21 18:45:11,731 - Epoch 10/10 | Train Loss: 1.8120 | Val Loss: 1.8155 | Val Acc: 0.2471 | Time: 471.11s\n",
      "2025-06-21 18:45:11,732 - ✅ Logging finalizado.\n"
     ]
    },
    {
     "name": "stdout",
     "output_type": "stream",
     "text": [
      "Epoch 10/10 | Train Loss: 1.8120 | Val Loss: 1.8155 | Val Acc: 0.2471 | Time: 471.11s\n"
     ]
    },
    {
     "name": "stderr",
     "output_type": "stream",
     "text": [
      "2025-06-21 18:45:12,457 - Entrenamiento completo. Guardando modelo final...\n",
      "2025-06-21 18:45:12,458 - ✅ Logging finalizado.\n",
      "[I 2025-06-21 18:45:12,460] Trial 6 finished with value: 0.24714405126776262 and parameters: {'batch_size': 16, 'lr': 0.0007155576265515746}. Best is trial 0 with value: 0.6377821120089162.\n",
      "vgg19:  70%|███████   | 7/10 [5:01:12<1:55:17, 2305.90s/it]2025-06-21 18:45:12,607 - 📄 Trial parameters saved to /home/exodia/NAO/data/kers2013/../../notebooks/logs/vgg19_trial7/20250621_184512_params.txt\n",
      "2025-06-21 18:45:12,608 - 📁 Training log created for model: vgg19_trial7\n",
      "2025-06-21 18:45:12,608 - 📄 Logs will be saved to /home/exodia/NAO/data/kers2013/../../notebooks/logs/vgg19_trial7/20250621_184512.log\n",
      "2025-06-21 18:45:12,608 - 📄 CSV will be saved to /home/exodia/NAO/data/kers2013/../../notebooks/logs/vgg19_trial7/20250621_184512.csv\n",
      "2025-06-21 18:45:13,601 - ✅ Logging finalizado.\n",
      "[I 2025-06-21 18:45:13,602] Trial 7 pruned. \n",
      "vgg19:  80%|████████  | 8/10 [5:01:13<52:24, 1572.18s/it]  2025-06-21 18:45:13,690 - 📄 Trial parameters saved to /home/exodia/NAO/data/kers2013/../../notebooks/logs/vgg19_trial8/20250621_184513_params.txt\n",
      "2025-06-21 18:45:13,690 - 📁 Training log created for model: vgg19_trial8\n",
      "2025-06-21 18:45:13,691 - 📄 Logs will be saved to /home/exodia/NAO/data/kers2013/../../notebooks/logs/vgg19_trial8/20250621_184513.log\n",
      "2025-06-21 18:45:13,691 - 📄 CSV will be saved to /home/exodia/NAO/data/kers2013/../../notebooks/logs/vgg19_trial8/20250621_184513.csv\n"
     ]
    },
    {
     "name": "stdout",
     "output_type": "stream",
     "text": [
      "⚠️ Trial falló por falta de memoria\n"
     ]
    },
    {
     "name": "stderr",
     "output_type": "stream",
     "text": [
      "2025-06-21 18:45:14,880 - ✅ Logging finalizado.\n",
      "[I 2025-06-21 18:45:14,881] Trial 8 pruned. \n",
      "vgg19:  90%|█████████ | 9/10 [5:01:14<18:01, 1081.09s/it]2025-06-21 18:45:14,970 - 📄 Trial parameters saved to /home/exodia/NAO/data/kers2013/../../notebooks/logs/vgg19_trial9/20250621_184514_params.txt\n",
      "2025-06-21 18:45:14,971 - 📁 Training log created for model: vgg19_trial9\n",
      "2025-06-21 18:45:14,971 - 📄 Logs will be saved to /home/exodia/NAO/data/kers2013/../../notebooks/logs/vgg19_trial9/20250621_184514.log\n",
      "2025-06-21 18:45:14,972 - 📄 CSV will be saved to /home/exodia/NAO/data/kers2013/../../notebooks/logs/vgg19_trial9/20250621_184514.csv\n"
     ]
    },
    {
     "name": "stdout",
     "output_type": "stream",
     "text": [
      "⚠️ Trial falló por falta de memoria\n"
     ]
    },
    {
     "name": "stderr",
     "output_type": "stream",
     "text": [
      "2025-06-21 18:45:16,128 - ✅ Logging finalizado.\n",
      "[I 2025-06-21 18:45:16,129] Trial 9 pruned. \n",
      "vgg19: 100%|██████████| 10/10 [5:01:16<00:00, 1807.61s/it]\n"
     ]
    },
    {
     "name": "stdout",
     "output_type": "stream",
     "text": [
      "⚠️ Trial falló por falta de memoria\n"
     ]
    },
    {
     "name": "stderr",
     "output_type": "stream",
     "text": [
      "[I 2025-06-21 18:45:16,601] A new study created in memory with name: no-name-cb6829c8-d298-45dc-943f-0985efef079e\n"
     ]
    },
    {
     "name": "stdout",
     "output_type": "stream",
     "text": [
      "✅ Mejor modelo guardado en: /home/exodia/NAO/data/kers2013/../models/vgg19_trial0_best.pt\n",
      "\n",
      "🔍 Optimizando para modelo: custom\n"
     ]
    },
    {
     "name": "stderr",
     "output_type": "stream",
     "text": [
      "custom:   0%|          | 0/10 [00:00<?, ?it/s]2025-06-21 18:45:16,813 - 📄 Trial parameters saved to /home/exodia/NAO/data/kers2013/../../notebooks/logs/custom_trial0/20250621_184516_params.txt\n",
      "2025-06-21 18:45:16,813 - 📁 Training log created for model: custom_trial0\n",
      "2025-06-21 18:45:16,813 - 📄 Logs will be saved to /home/exodia/NAO/data/kers2013/../../notebooks/logs/custom_trial0/20250621_184516.log\n",
      "2025-06-21 18:45:16,814 - 📄 CSV will be saved to /home/exodia/NAO/data/kers2013/../../notebooks/logs/custom_trial0/20250621_184516.csv\n",
      "2025-06-21 18:45:23,037 - Epoch 1/10 | Train Loss: 1.5615 | Val Loss: 1.4034 | Val Acc: 0.4671 | Time: 6.18s\n"
     ]
    },
    {
     "name": "stdout",
     "output_type": "stream",
     "text": [
      "Epoch 1/10 | Train Loss: 1.5615 | Val Loss: 1.4034 | Val Acc: 0.4671 | Time: 6.18s\n"
     ]
    },
    {
     "name": "stderr",
     "output_type": "stream",
     "text": [
      "2025-06-21 18:45:29,162 - Epoch 2/10 | Train Loss: 1.3269 | Val Loss: 1.2972 | Val Acc: 0.5043 | Time: 6.12s\n"
     ]
    },
    {
     "name": "stdout",
     "output_type": "stream",
     "text": [
      "Epoch 2/10 | Train Loss: 1.3269 | Val Loss: 1.2972 | Val Acc: 0.5043 | Time: 6.12s\n"
     ]
    },
    {
     "name": "stderr",
     "output_type": "stream",
     "text": [
      "2025-06-21 18:45:35,286 - Epoch 3/10 | Train Loss: 1.1932 | Val Loss: 1.2485 | Val Acc: 0.5249 | Time: 6.12s\n"
     ]
    },
    {
     "name": "stdout",
     "output_type": "stream",
     "text": [
      "Epoch 3/10 | Train Loss: 1.1932 | Val Loss: 1.2485 | Val Acc: 0.5249 | Time: 6.12s\n"
     ]
    },
    {
     "name": "stderr",
     "output_type": "stream",
     "text": [
      "2025-06-21 18:45:41,368 - Epoch 4/10 | Train Loss: 1.0699 | Val Loss: 1.2303 | Val Acc: 0.5379 | Time: 6.08s\n"
     ]
    },
    {
     "name": "stdout",
     "output_type": "stream",
     "text": [
      "Epoch 4/10 | Train Loss: 1.0699 | Val Loss: 1.2303 | Val Acc: 0.5379 | Time: 6.08s\n"
     ]
    },
    {
     "name": "stderr",
     "output_type": "stream",
     "text": [
      "2025-06-21 18:45:47,478 - Epoch 5/10 | Train Loss: 0.9487 | Val Loss: 1.2436 | Val Acc: 0.5433 | Time: 6.11s\n"
     ]
    },
    {
     "name": "stdout",
     "output_type": "stream",
     "text": [
      "Epoch 5/10 | Train Loss: 0.9487 | Val Loss: 1.2436 | Val Acc: 0.5433 | Time: 6.11s\n"
     ]
    },
    {
     "name": "stderr",
     "output_type": "stream",
     "text": [
      "2025-06-21 18:45:53,713 - Epoch 6/10 | Train Loss: 0.8174 | Val Loss: 1.2970 | Val Acc: 0.5352 | Time: 6.23s\n"
     ]
    },
    {
     "name": "stdout",
     "output_type": "stream",
     "text": [
      "Epoch 6/10 | Train Loss: 0.8174 | Val Loss: 1.2970 | Val Acc: 0.5352 | Time: 6.23s\n"
     ]
    },
    {
     "name": "stderr",
     "output_type": "stream",
     "text": [
      "2025-06-21 18:45:59,849 - Epoch 7/10 | Train Loss: 0.6842 | Val Loss: 1.3823 | Val Acc: 0.5497 | Time: 6.14s\n"
     ]
    },
    {
     "name": "stdout",
     "output_type": "stream",
     "text": [
      "Epoch 7/10 | Train Loss: 0.6842 | Val Loss: 1.3823 | Val Acc: 0.5497 | Time: 6.14s\n"
     ]
    },
    {
     "name": "stderr",
     "output_type": "stream",
     "text": [
      "2025-06-21 18:46:05,955 - Epoch 8/10 | Train Loss: 0.5418 | Val Loss: 1.4981 | Val Acc: 0.5475 | Time: 6.11s\n"
     ]
    },
    {
     "name": "stdout",
     "output_type": "stream",
     "text": [
      "Epoch 8/10 | Train Loss: 0.5418 | Val Loss: 1.4981 | Val Acc: 0.5475 | Time: 6.11s\n"
     ]
    },
    {
     "name": "stderr",
     "output_type": "stream",
     "text": [
      "2025-06-21 18:46:12,018 - Epoch 9/10 | Train Loss: 0.4158 | Val Loss: 1.7419 | Val Acc: 0.5426 | Time: 6.06s\n"
     ]
    },
    {
     "name": "stdout",
     "output_type": "stream",
     "text": [
      "Epoch 9/10 | Train Loss: 0.4158 | Val Loss: 1.7419 | Val Acc: 0.5426 | Time: 6.06s\n"
     ]
    },
    {
     "name": "stderr",
     "output_type": "stream",
     "text": [
      "2025-06-21 18:46:18,090 - Epoch 10/10 | Train Loss: 0.3086 | Val Loss: 1.9673 | Val Acc: 0.5329 | Time: 6.07s\n",
      "2025-06-21 18:46:18,090 - ✅ Logging finalizado.\n",
      "2025-06-21 18:46:18,095 - Entrenamiento completo. Guardando modelo final...\n",
      "2025-06-21 18:46:18,095 - ✅ Logging finalizado.\n",
      "[I 2025-06-21 18:46:18,097] Trial 0 finished with value: 0.5328782390638062 and parameters: {'batch_size': 64, 'lr': 0.0009883823804486733}. Best is trial 0 with value: 0.5328782390638062.\n",
      "custom:  10%|█         | 1/10 [01:01<09:13, 61.50s/it]2025-06-21 18:46:18,183 - 📄 Trial parameters saved to /home/exodia/NAO/data/kers2013/../../notebooks/logs/custom_trial1/20250621_184618_params.txt\n",
      "2025-06-21 18:46:18,184 - 📁 Training log created for model: custom_trial1\n",
      "2025-06-21 18:46:18,184 - 📄 Logs will be saved to /home/exodia/NAO/data/kers2013/../../notebooks/logs/custom_trial1/20250621_184618.log\n",
      "2025-06-21 18:46:18,185 - 📄 CSV will be saved to /home/exodia/NAO/data/kers2013/../../notebooks/logs/custom_trial1/20250621_184618.csv\n"
     ]
    },
    {
     "name": "stdout",
     "output_type": "stream",
     "text": [
      "Epoch 10/10 | Train Loss: 0.3086 | Val Loss: 1.9673 | Val Acc: 0.5329 | Time: 6.07s\n"
     ]
    },
    {
     "name": "stderr",
     "output_type": "stream",
     "text": [
      "2025-06-21 18:46:24,320 - Epoch 1/10 | Train Loss: 1.5974 | Val Loss: 1.4390 | Val Acc: 0.4441 | Time: 6.09s\n"
     ]
    },
    {
     "name": "stdout",
     "output_type": "stream",
     "text": [
      "Epoch 1/10 | Train Loss: 1.5974 | Val Loss: 1.4390 | Val Acc: 0.4441 | Time: 6.09s\n"
     ]
    },
    {
     "name": "stderr",
     "output_type": "stream",
     "text": [
      "2025-06-21 18:46:30,424 - Epoch 2/10 | Train Loss: 1.3617 | Val Loss: 1.3497 | Val Acc: 0.4837 | Time: 6.10s\n"
     ]
    },
    {
     "name": "stdout",
     "output_type": "stream",
     "text": [
      "Epoch 2/10 | Train Loss: 1.3617 | Val Loss: 1.3497 | Val Acc: 0.4837 | Time: 6.10s\n"
     ]
    },
    {
     "name": "stderr",
     "output_type": "stream",
     "text": [
      "2025-06-21 18:46:36,510 - Epoch 3/10 | Train Loss: 1.2336 | Val Loss: 1.2731 | Val Acc: 0.5118 | Time: 6.09s\n"
     ]
    },
    {
     "name": "stdout",
     "output_type": "stream",
     "text": [
      "Epoch 3/10 | Train Loss: 1.2336 | Val Loss: 1.2731 | Val Acc: 0.5118 | Time: 6.09s\n"
     ]
    },
    {
     "name": "stderr",
     "output_type": "stream",
     "text": [
      "2025-06-21 18:46:42,585 - Epoch 4/10 | Train Loss: 1.1219 | Val Loss: 1.2380 | Val Acc: 0.5309 | Time: 6.07s\n"
     ]
    },
    {
     "name": "stdout",
     "output_type": "stream",
     "text": [
      "Epoch 4/10 | Train Loss: 1.1219 | Val Loss: 1.2380 | Val Acc: 0.5309 | Time: 6.07s\n"
     ]
    },
    {
     "name": "stderr",
     "output_type": "stream",
     "text": [
      "2025-06-21 18:46:48,697 - Epoch 5/10 | Train Loss: 1.0075 | Val Loss: 1.2399 | Val Acc: 0.5390 | Time: 6.11s\n"
     ]
    },
    {
     "name": "stdout",
     "output_type": "stream",
     "text": [
      "Epoch 5/10 | Train Loss: 1.0075 | Val Loss: 1.2399 | Val Acc: 0.5390 | Time: 6.11s\n"
     ]
    },
    {
     "name": "stderr",
     "output_type": "stream",
     "text": [
      "2025-06-21 18:46:54,760 - Epoch 6/10 | Train Loss: 0.8897 | Val Loss: 1.3034 | Val Acc: 0.5390 | Time: 6.06s\n"
     ]
    },
    {
     "name": "stdout",
     "output_type": "stream",
     "text": [
      "Epoch 6/10 | Train Loss: 0.8897 | Val Loss: 1.3034 | Val Acc: 0.5390 | Time: 6.06s\n"
     ]
    },
    {
     "name": "stderr",
     "output_type": "stream",
     "text": [
      "2025-06-21 18:47:00,821 - Epoch 7/10 | Train Loss: 0.7647 | Val Loss: 1.3699 | Val Acc: 0.5323 | Time: 6.06s\n"
     ]
    },
    {
     "name": "stdout",
     "output_type": "stream",
     "text": [
      "Epoch 7/10 | Train Loss: 0.7647 | Val Loss: 1.3699 | Val Acc: 0.5323 | Time: 6.06s\n"
     ]
    },
    {
     "name": "stderr",
     "output_type": "stream",
     "text": [
      "2025-06-21 18:47:06,893 - Epoch 8/10 | Train Loss: 0.6305 | Val Loss: 1.4210 | Val Acc: 0.5318 | Time: 6.07s\n"
     ]
    },
    {
     "name": "stdout",
     "output_type": "stream",
     "text": [
      "Epoch 8/10 | Train Loss: 0.6305 | Val Loss: 1.4210 | Val Acc: 0.5318 | Time: 6.07s\n"
     ]
    },
    {
     "name": "stderr",
     "output_type": "stream",
     "text": [
      "2025-06-21 18:47:12,990 - Epoch 9/10 | Train Loss: 0.4995 | Val Loss: 1.6204 | Val Acc: 0.5329 | Time: 6.10s\n"
     ]
    },
    {
     "name": "stdout",
     "output_type": "stream",
     "text": [
      "Epoch 9/10 | Train Loss: 0.4995 | Val Loss: 1.6204 | Val Acc: 0.5329 | Time: 6.10s\n"
     ]
    },
    {
     "name": "stderr",
     "output_type": "stream",
     "text": [
      "2025-06-21 18:47:19,059 - Epoch 10/10 | Train Loss: 0.3838 | Val Loss: 1.8375 | Val Acc: 0.5389 | Time: 6.07s\n",
      "2025-06-21 18:47:19,060 - ✅ Logging finalizado.\n",
      "2025-06-21 18:47:19,065 - Entrenamiento completo. Guardando modelo final...\n",
      "2025-06-21 18:47:19,065 - ✅ Logging finalizado.\n",
      "[I 2025-06-21 18:47:19,067] Trial 1 finished with value: 0.5388687656728894 and parameters: {'batch_size': 64, 'lr': 0.000977167571920534}. Best is trial 1 with value: 0.5388687656728894.\n",
      "custom:  20%|██        | 2/10 [02:02<08:09, 61.19s/it]2025-06-21 18:47:19,151 - 📄 Trial parameters saved to /home/exodia/NAO/data/kers2013/../../notebooks/logs/custom_trial2/20250621_184719_params.txt\n",
      "2025-06-21 18:47:19,152 - 📁 Training log created for model: custom_trial2\n",
      "2025-06-21 18:47:19,152 - 📄 Logs will be saved to /home/exodia/NAO/data/kers2013/../../notebooks/logs/custom_trial2/20250621_184719.log\n",
      "2025-06-21 18:47:19,153 - 📄 CSV will be saved to /home/exodia/NAO/data/kers2013/../../notebooks/logs/custom_trial2/20250621_184719.csv\n"
     ]
    },
    {
     "name": "stdout",
     "output_type": "stream",
     "text": [
      "Epoch 10/10 | Train Loss: 0.3838 | Val Loss: 1.8375 | Val Acc: 0.5389 | Time: 6.07s\n"
     ]
    },
    {
     "name": "stderr",
     "output_type": "stream",
     "text": [
      "2025-06-21 18:47:25,310 - Epoch 1/10 | Train Loss: 1.6639 | Val Loss: 1.5680 | Val Acc: 0.3884 | Time: 6.11s\n"
     ]
    },
    {
     "name": "stdout",
     "output_type": "stream",
     "text": [
      "Epoch 1/10 | Train Loss: 1.6639 | Val Loss: 1.5680 | Val Acc: 0.3884 | Time: 6.11s\n"
     ]
    },
    {
     "name": "stderr",
     "output_type": "stream",
     "text": [
      "2025-06-21 18:47:31,387 - Epoch 2/10 | Train Loss: 1.5203 | Val Loss: 1.4872 | Val Acc: 0.4351 | Time: 6.08s\n"
     ]
    },
    {
     "name": "stdout",
     "output_type": "stream",
     "text": [
      "Epoch 2/10 | Train Loss: 1.5203 | Val Loss: 1.4872 | Val Acc: 0.4351 | Time: 6.08s\n"
     ]
    },
    {
     "name": "stderr",
     "output_type": "stream",
     "text": [
      "2025-06-21 18:47:37,571 - Epoch 3/10 | Train Loss: 1.4393 | Val Loss: 1.4213 | Val Acc: 0.4596 | Time: 6.18s\n"
     ]
    },
    {
     "name": "stdout",
     "output_type": "stream",
     "text": [
      "Epoch 3/10 | Train Loss: 1.4393 | Val Loss: 1.4213 | Val Acc: 0.4596 | Time: 6.18s\n"
     ]
    },
    {
     "name": "stderr",
     "output_type": "stream",
     "text": [
      "2025-06-21 18:47:43,737 - Epoch 4/10 | Train Loss: 1.3778 | Val Loss: 1.3974 | Val Acc: 0.4627 | Time: 6.17s\n"
     ]
    },
    {
     "name": "stdout",
     "output_type": "stream",
     "text": [
      "Epoch 4/10 | Train Loss: 1.3778 | Val Loss: 1.3974 | Val Acc: 0.4627 | Time: 6.17s\n"
     ]
    },
    {
     "name": "stderr",
     "output_type": "stream",
     "text": [
      "2025-06-21 18:47:49,828 - Epoch 5/10 | Train Loss: 1.3307 | Val Loss: 1.3607 | Val Acc: 0.4788 | Time: 6.09s\n"
     ]
    },
    {
     "name": "stdout",
     "output_type": "stream",
     "text": [
      "Epoch 5/10 | Train Loss: 1.3307 | Val Loss: 1.3607 | Val Acc: 0.4788 | Time: 6.09s\n"
     ]
    },
    {
     "name": "stderr",
     "output_type": "stream",
     "text": [
      "2025-06-21 18:47:55,938 - Epoch 6/10 | Train Loss: 1.2855 | Val Loss: 1.3318 | Val Acc: 0.4985 | Time: 6.11s\n"
     ]
    },
    {
     "name": "stdout",
     "output_type": "stream",
     "text": [
      "Epoch 6/10 | Train Loss: 1.2855 | Val Loss: 1.3318 | Val Acc: 0.4985 | Time: 6.11s\n"
     ]
    },
    {
     "name": "stderr",
     "output_type": "stream",
     "text": [
      "2025-06-21 18:48:02,034 - Epoch 7/10 | Train Loss: 1.2447 | Val Loss: 1.3156 | Val Acc: 0.5007 | Time: 6.09s\n"
     ]
    },
    {
     "name": "stdout",
     "output_type": "stream",
     "text": [
      "Epoch 7/10 | Train Loss: 1.2447 | Val Loss: 1.3156 | Val Acc: 0.5007 | Time: 6.09s\n"
     ]
    },
    {
     "name": "stderr",
     "output_type": "stream",
     "text": [
      "2025-06-21 18:48:08,157 - Epoch 8/10 | Train Loss: 1.2082 | Val Loss: 1.3095 | Val Acc: 0.5013 | Time: 6.12s\n"
     ]
    },
    {
     "name": "stdout",
     "output_type": "stream",
     "text": [
      "Epoch 8/10 | Train Loss: 1.2082 | Val Loss: 1.3095 | Val Acc: 0.5013 | Time: 6.12s\n"
     ]
    },
    {
     "name": "stderr",
     "output_type": "stream",
     "text": [
      "2025-06-21 18:48:14,557 - Epoch 9/10 | Train Loss: 1.1723 | Val Loss: 1.2905 | Val Acc: 0.5145 | Time: 6.40s\n"
     ]
    },
    {
     "name": "stdout",
     "output_type": "stream",
     "text": [
      "Epoch 9/10 | Train Loss: 1.1723 | Val Loss: 1.2905 | Val Acc: 0.5145 | Time: 6.40s\n"
     ]
    },
    {
     "name": "stderr",
     "output_type": "stream",
     "text": [
      "2025-06-21 18:48:21,087 - Epoch 10/10 | Train Loss: 1.1357 | Val Loss: 1.2790 | Val Acc: 0.5139 | Time: 6.53s\n",
      "2025-06-21 18:48:21,087 - ✅ Logging finalizado.\n",
      "2025-06-21 18:48:21,092 - Entrenamiento completo. Guardando modelo final...\n",
      "2025-06-21 18:48:21,093 - ✅ Logging finalizado.\n",
      "[I 2025-06-21 18:48:21,094] Trial 2 finished with value: 0.5139314572304263 and parameters: {'batch_size': 48, 'lr': 0.00015786733641766433}. Best is trial 1 with value: 0.5388687656728894.\n",
      "custom:  30%|███       | 3/10 [03:04<07:10, 61.57s/it]2025-06-21 18:48:21,191 - 📄 Trial parameters saved to /home/exodia/NAO/data/kers2013/../../notebooks/logs/custom_trial3/20250621_184821_params.txt\n",
      "2025-06-21 18:48:21,191 - 📁 Training log created for model: custom_trial3\n",
      "2025-06-21 18:48:21,192 - 📄 Logs will be saved to /home/exodia/NAO/data/kers2013/../../notebooks/logs/custom_trial3/20250621_184821.log\n",
      "2025-06-21 18:48:21,192 - 📄 CSV will be saved to /home/exodia/NAO/data/kers2013/../../notebooks/logs/custom_trial3/20250621_184821.csv\n"
     ]
    },
    {
     "name": "stdout",
     "output_type": "stream",
     "text": [
      "Epoch 10/10 | Train Loss: 1.1357 | Val Loss: 1.2790 | Val Acc: 0.5139 | Time: 6.53s\n"
     ]
    },
    {
     "name": "stderr",
     "output_type": "stream",
     "text": [
      "2025-06-21 18:48:27,978 - Epoch 1/10 | Train Loss: 1.5272 | Val Loss: 1.3791 | Val Acc: 0.4656 | Time: 6.74s\n"
     ]
    },
    {
     "name": "stdout",
     "output_type": "stream",
     "text": [
      "Epoch 1/10 | Train Loss: 1.5272 | Val Loss: 1.3791 | Val Acc: 0.4656 | Time: 6.74s\n"
     ]
    },
    {
     "name": "stderr",
     "output_type": "stream",
     "text": [
      "2025-06-21 18:48:34,698 - Epoch 2/10 | Train Loss: 1.2807 | Val Loss: 1.2640 | Val Acc: 0.5078 | Time: 6.72s\n"
     ]
    },
    {
     "name": "stdout",
     "output_type": "stream",
     "text": [
      "Epoch 2/10 | Train Loss: 1.2807 | Val Loss: 1.2640 | Val Acc: 0.5078 | Time: 6.72s\n"
     ]
    },
    {
     "name": "stderr",
     "output_type": "stream",
     "text": [
      "2025-06-21 18:48:41,584 - Epoch 3/10 | Train Loss: 1.1400 | Val Loss: 1.2570 | Val Acc: 0.5224 | Time: 6.89s\n"
     ]
    },
    {
     "name": "stdout",
     "output_type": "stream",
     "text": [
      "Epoch 3/10 | Train Loss: 1.1400 | Val Loss: 1.2570 | Val Acc: 0.5224 | Time: 6.89s\n"
     ]
    },
    {
     "name": "stderr",
     "output_type": "stream",
     "text": [
      "2025-06-21 18:48:48,398 - Epoch 4/10 | Train Loss: 1.0065 | Val Loss: 1.2234 | Val Acc: 0.5428 | Time: 6.81s\n"
     ]
    },
    {
     "name": "stdout",
     "output_type": "stream",
     "text": [
      "Epoch 4/10 | Train Loss: 1.0065 | Val Loss: 1.2234 | Val Acc: 0.5428 | Time: 6.81s\n"
     ]
    },
    {
     "name": "stderr",
     "output_type": "stream",
     "text": [
      "2025-06-21 18:48:55,169 - Epoch 5/10 | Train Loss: 0.8676 | Val Loss: 1.2786 | Val Acc: 0.5458 | Time: 6.77s\n"
     ]
    },
    {
     "name": "stdout",
     "output_type": "stream",
     "text": [
      "Epoch 5/10 | Train Loss: 0.8676 | Val Loss: 1.2786 | Val Acc: 0.5458 | Time: 6.77s\n"
     ]
    },
    {
     "name": "stderr",
     "output_type": "stream",
     "text": [
      "2025-06-21 18:49:01,891 - Epoch 6/10 | Train Loss: 0.7267 | Val Loss: 1.3536 | Val Acc: 0.5393 | Time: 6.72s\n"
     ]
    },
    {
     "name": "stdout",
     "output_type": "stream",
     "text": [
      "Epoch 6/10 | Train Loss: 0.7267 | Val Loss: 1.3536 | Val Acc: 0.5393 | Time: 6.72s\n"
     ]
    },
    {
     "name": "stderr",
     "output_type": "stream",
     "text": [
      "2025-06-21 18:49:08,672 - Epoch 7/10 | Train Loss: 0.5836 | Val Loss: 1.4991 | Val Acc: 0.5339 | Time: 6.78s\n"
     ]
    },
    {
     "name": "stdout",
     "output_type": "stream",
     "text": [
      "Epoch 7/10 | Train Loss: 0.5836 | Val Loss: 1.4991 | Val Acc: 0.5339 | Time: 6.78s\n"
     ]
    },
    {
     "name": "stderr",
     "output_type": "stream",
     "text": [
      "2025-06-21 18:49:15,550 - Epoch 8/10 | Train Loss: 0.4412 | Val Loss: 1.6318 | Val Acc: 0.5354 | Time: 6.88s\n"
     ]
    },
    {
     "name": "stdout",
     "output_type": "stream",
     "text": [
      "Epoch 8/10 | Train Loss: 0.4412 | Val Loss: 1.6318 | Val Acc: 0.5354 | Time: 6.88s\n"
     ]
    },
    {
     "name": "stderr",
     "output_type": "stream",
     "text": [
      "2025-06-21 18:49:22,337 - Epoch 9/10 | Train Loss: 0.3288 | Val Loss: 1.9314 | Val Acc: 0.5383 | Time: 6.79s\n"
     ]
    },
    {
     "name": "stdout",
     "output_type": "stream",
     "text": [
      "Epoch 9/10 | Train Loss: 0.3288 | Val Loss: 1.9314 | Val Acc: 0.5383 | Time: 6.79s\n"
     ]
    },
    {
     "name": "stderr",
     "output_type": "stream",
     "text": [
      "2025-06-21 18:49:29,166 - Epoch 10/10 | Train Loss: 0.2391 | Val Loss: 2.1803 | Val Acc: 0.5351 | Time: 6.83s\n",
      "2025-06-21 18:49:29,167 - ✅ Logging finalizado.\n",
      "2025-06-21 18:49:29,172 - Entrenamiento completo. Guardando modelo final...\n",
      "2025-06-21 18:49:29,173 - ✅ Logging finalizado.\n",
      "[I 2025-06-21 18:49:29,174] Trial 3 finished with value: 0.5351072722206743 and parameters: {'batch_size': 32, 'lr': 0.0009243114690476573}. Best is trial 1 with value: 0.5388687656728894.\n",
      "custom:  40%|████      | 4/10 [04:12<06:24, 64.14s/it]2025-06-21 18:49:29,260 - 📄 Trial parameters saved to /home/exodia/NAO/data/kers2013/../../notebooks/logs/custom_trial4/20250621_184929_params.txt\n",
      "2025-06-21 18:49:29,261 - 📁 Training log created for model: custom_trial4\n",
      "2025-06-21 18:49:29,261 - 📄 Logs will be saved to /home/exodia/NAO/data/kers2013/../../notebooks/logs/custom_trial4/20250621_184929.log\n",
      "2025-06-21 18:49:29,262 - 📄 CSV will be saved to /home/exodia/NAO/data/kers2013/../../notebooks/logs/custom_trial4/20250621_184929.csv\n"
     ]
    },
    {
     "name": "stdout",
     "output_type": "stream",
     "text": [
      "Epoch 10/10 | Train Loss: 0.2391 | Val Loss: 2.1803 | Val Acc: 0.5351 | Time: 6.83s\n"
     ]
    },
    {
     "name": "stderr",
     "output_type": "stream",
     "text": [
      "2025-06-21 18:49:35,749 - Epoch 1/10 | Train Loss: 1.5841 | Val Loss: 1.4439 | Val Acc: 0.4471 | Time: 6.44s\n"
     ]
    },
    {
     "name": "stdout",
     "output_type": "stream",
     "text": [
      "Epoch 1/10 | Train Loss: 1.5841 | Val Loss: 1.4439 | Val Acc: 0.4471 | Time: 6.44s\n"
     ]
    },
    {
     "name": "stderr",
     "output_type": "stream",
     "text": [
      "2025-06-21 18:49:41,828 - Epoch 2/10 | Train Loss: 1.3740 | Val Loss: 1.3479 | Val Acc: 0.4859 | Time: 6.08s\n"
     ]
    },
    {
     "name": "stdout",
     "output_type": "stream",
     "text": [
      "Epoch 2/10 | Train Loss: 1.3740 | Val Loss: 1.3479 | Val Acc: 0.4859 | Time: 6.08s\n"
     ]
    },
    {
     "name": "stderr",
     "output_type": "stream",
     "text": [
      "2025-06-21 18:49:47,929 - Epoch 3/10 | Train Loss: 1.2556 | Val Loss: 1.2905 | Val Acc: 0.4987 | Time: 6.10s\n"
     ]
    },
    {
     "name": "stdout",
     "output_type": "stream",
     "text": [
      "Epoch 3/10 | Train Loss: 1.2556 | Val Loss: 1.2905 | Val Acc: 0.4987 | Time: 6.10s\n"
     ]
    },
    {
     "name": "stderr",
     "output_type": "stream",
     "text": [
      "2025-06-21 18:49:54,044 - Epoch 4/10 | Train Loss: 1.1564 | Val Loss: 1.2449 | Val Acc: 0.5228 | Time: 6.11s\n"
     ]
    },
    {
     "name": "stdout",
     "output_type": "stream",
     "text": [
      "Epoch 4/10 | Train Loss: 1.1564 | Val Loss: 1.2449 | Val Acc: 0.5228 | Time: 6.11s\n"
     ]
    },
    {
     "name": "stderr",
     "output_type": "stream",
     "text": [
      "2025-06-21 18:50:00,188 - Epoch 5/10 | Train Loss: 1.0637 | Val Loss: 1.2366 | Val Acc: 0.5272 | Time: 6.14s\n"
     ]
    },
    {
     "name": "stdout",
     "output_type": "stream",
     "text": [
      "Epoch 5/10 | Train Loss: 1.0637 | Val Loss: 1.2366 | Val Acc: 0.5272 | Time: 6.14s\n"
     ]
    },
    {
     "name": "stderr",
     "output_type": "stream",
     "text": [
      "2025-06-21 18:50:06,346 - Epoch 6/10 | Train Loss: 0.9677 | Val Loss: 1.2586 | Val Acc: 0.5241 | Time: 6.16s\n"
     ]
    },
    {
     "name": "stdout",
     "output_type": "stream",
     "text": [
      "Epoch 6/10 | Train Loss: 0.9677 | Val Loss: 1.2586 | Val Acc: 0.5241 | Time: 6.16s\n"
     ]
    },
    {
     "name": "stderr",
     "output_type": "stream",
     "text": [
      "2025-06-21 18:50:12,469 - Epoch 7/10 | Train Loss: 0.8619 | Val Loss: 1.2754 | Val Acc: 0.5400 | Time: 6.12s\n"
     ]
    },
    {
     "name": "stdout",
     "output_type": "stream",
     "text": [
      "Epoch 7/10 | Train Loss: 0.8619 | Val Loss: 1.2754 | Val Acc: 0.5400 | Time: 6.12s\n"
     ]
    },
    {
     "name": "stderr",
     "output_type": "stream",
     "text": [
      "2025-06-21 18:50:18,559 - Epoch 8/10 | Train Loss: 0.7598 | Val Loss: 1.3034 | Val Acc: 0.5456 | Time: 6.09s\n"
     ]
    },
    {
     "name": "stdout",
     "output_type": "stream",
     "text": [
      "Epoch 8/10 | Train Loss: 0.7598 | Val Loss: 1.3034 | Val Acc: 0.5456 | Time: 6.09s\n"
     ]
    },
    {
     "name": "stderr",
     "output_type": "stream",
     "text": [
      "2025-06-21 18:50:24,652 - Epoch 9/10 | Train Loss: 0.6481 | Val Loss: 1.3656 | Val Acc: 0.5421 | Time: 6.09s\n"
     ]
    },
    {
     "name": "stdout",
     "output_type": "stream",
     "text": [
      "Epoch 9/10 | Train Loss: 0.6481 | Val Loss: 1.3656 | Val Acc: 0.5421 | Time: 6.09s\n"
     ]
    },
    {
     "name": "stderr",
     "output_type": "stream",
     "text": [
      "2025-06-21 18:50:30,760 - Epoch 10/10 | Train Loss: 0.5437 | Val Loss: 1.4714 | Val Acc: 0.5433 | Time: 6.11s\n",
      "2025-06-21 18:50:30,760 - ✅ Logging finalizado.\n",
      "2025-06-21 18:50:30,765 - Entrenamiento completo. Guardando modelo final...\n",
      "2025-06-21 18:50:30,766 - ✅ Logging finalizado.\n",
      "[I 2025-06-21 18:50:30,767] Trial 4 finished with value: 0.5433268319866258 and parameters: {'batch_size': 64, 'lr': 0.0005326828674628832}. Best is trial 4 with value: 0.5433268319866258.\n",
      "custom:  50%|█████     | 5/10 [05:14<05:16, 63.22s/it]2025-06-21 18:50:30,853 - 📄 Trial parameters saved to /home/exodia/NAO/data/kers2013/../../notebooks/logs/custom_trial5/20250621_185030_params.txt\n",
      "2025-06-21 18:50:30,853 - 📁 Training log created for model: custom_trial5\n",
      "2025-06-21 18:50:30,853 - 📄 Logs will be saved to /home/exodia/NAO/data/kers2013/../../notebooks/logs/custom_trial5/20250621_185030.log\n",
      "2025-06-21 18:50:30,854 - 📄 CSV will be saved to /home/exodia/NAO/data/kers2013/../../notebooks/logs/custom_trial5/20250621_185030.csv\n"
     ]
    },
    {
     "name": "stdout",
     "output_type": "stream",
     "text": [
      "Epoch 10/10 | Train Loss: 0.5437 | Val Loss: 1.4714 | Val Acc: 0.5433 | Time: 6.11s\n"
     ]
    },
    {
     "name": "stderr",
     "output_type": "stream",
     "text": [
      "2025-06-21 18:50:37,026 - Epoch 1/10 | Train Loss: 1.6294 | Val Loss: 1.5105 | Val Acc: 0.4256 | Time: 6.13s\n"
     ]
    },
    {
     "name": "stdout",
     "output_type": "stream",
     "text": [
      "Epoch 1/10 | Train Loss: 1.6294 | Val Loss: 1.5105 | Val Acc: 0.4256 | Time: 6.13s\n"
     ]
    },
    {
     "name": "stderr",
     "output_type": "stream",
     "text": [
      "2025-06-21 18:50:43,133 - Epoch 2/10 | Train Loss: 1.4609 | Val Loss: 1.4216 | Val Acc: 0.4638 | Time: 6.11s\n"
     ]
    },
    {
     "name": "stdout",
     "output_type": "stream",
     "text": [
      "Epoch 2/10 | Train Loss: 1.4609 | Val Loss: 1.4216 | Val Acc: 0.4638 | Time: 6.11s\n"
     ]
    },
    {
     "name": "stderr",
     "output_type": "stream",
     "text": [
      "2025-06-21 18:50:49,212 - Epoch 3/10 | Train Loss: 1.3713 | Val Loss: 1.3663 | Val Acc: 0.4820 | Time: 6.08s\n"
     ]
    },
    {
     "name": "stdout",
     "output_type": "stream",
     "text": [
      "Epoch 3/10 | Train Loss: 1.3713 | Val Loss: 1.3663 | Val Acc: 0.4820 | Time: 6.08s\n"
     ]
    },
    {
     "name": "stderr",
     "output_type": "stream",
     "text": [
      "2025-06-21 18:50:55,333 - Epoch 4/10 | Train Loss: 1.3142 | Val Loss: 1.3334 | Val Acc: 0.4889 | Time: 6.12s\n"
     ]
    },
    {
     "name": "stdout",
     "output_type": "stream",
     "text": [
      "Epoch 4/10 | Train Loss: 1.3142 | Val Loss: 1.3334 | Val Acc: 0.4889 | Time: 6.12s\n"
     ]
    },
    {
     "name": "stderr",
     "output_type": "stream",
     "text": [
      "2025-06-21 18:51:01,411 - Epoch 5/10 | Train Loss: 1.2610 | Val Loss: 1.3109 | Val Acc: 0.4986 | Time: 6.08s\n"
     ]
    },
    {
     "name": "stdout",
     "output_type": "stream",
     "text": [
      "Epoch 5/10 | Train Loss: 1.2610 | Val Loss: 1.3109 | Val Acc: 0.4986 | Time: 6.08s\n"
     ]
    },
    {
     "name": "stderr",
     "output_type": "stream",
     "text": [
      "2025-06-21 18:51:07,601 - Epoch 6/10 | Train Loss: 1.2166 | Val Loss: 1.3011 | Val Acc: 0.5026 | Time: 6.19s\n"
     ]
    },
    {
     "name": "stdout",
     "output_type": "stream",
     "text": [
      "Epoch 6/10 | Train Loss: 1.2166 | Val Loss: 1.3011 | Val Acc: 0.5026 | Time: 6.19s\n"
     ]
    },
    {
     "name": "stderr",
     "output_type": "stream",
     "text": [
      "2025-06-21 18:51:13,761 - Epoch 7/10 | Train Loss: 1.1709 | Val Loss: 1.2836 | Val Acc: 0.5171 | Time: 6.16s\n"
     ]
    },
    {
     "name": "stdout",
     "output_type": "stream",
     "text": [
      "Epoch 7/10 | Train Loss: 1.1709 | Val Loss: 1.2836 | Val Acc: 0.5171 | Time: 6.16s\n"
     ]
    },
    {
     "name": "stderr",
     "output_type": "stream",
     "text": [
      "2025-06-21 18:51:19,986 - Epoch 8/10 | Train Loss: 1.1210 | Val Loss: 1.2732 | Val Acc: 0.5195 | Time: 6.22s\n"
     ]
    },
    {
     "name": "stdout",
     "output_type": "stream",
     "text": [
      "Epoch 8/10 | Train Loss: 1.1210 | Val Loss: 1.2732 | Val Acc: 0.5195 | Time: 6.22s\n"
     ]
    },
    {
     "name": "stderr",
     "output_type": "stream",
     "text": [
      "2025-06-21 18:51:26,181 - Epoch 9/10 | Train Loss: 1.0753 | Val Loss: 1.2636 | Val Acc: 0.5222 | Time: 6.19s\n"
     ]
    },
    {
     "name": "stdout",
     "output_type": "stream",
     "text": [
      "Epoch 9/10 | Train Loss: 1.0753 | Val Loss: 1.2636 | Val Acc: 0.5222 | Time: 6.19s\n"
     ]
    },
    {
     "name": "stderr",
     "output_type": "stream",
     "text": [
      "2025-06-21 18:51:32,383 - Epoch 10/10 | Train Loss: 1.0259 | Val Loss: 1.2854 | Val Acc: 0.5213 | Time: 6.20s\n",
      "2025-06-21 18:51:32,384 - Trial podado.\n",
      "2025-06-21 18:51:32,384 - ✅ Logging finalizado.\n",
      "[W 2025-06-21 18:51:32,385] Trial 5 failed with parameters: {'batch_size': 64, 'lr': 0.00021157245088287074} because of the following error: NameError(\"name 'optuna' is not defined\").\n",
      "Traceback (most recent call last):\n",
      "  File \"/home/exodia/miniconda3/envs/nao_sv/lib/python3.9/site-packages/optuna/study/_optimize.py\", line 201, in _run_trial\n",
      "    value_or_values = func(trial)\n",
      "  File \"/tmp/ipykernel_13043/4076753600.py\", line 27, in objective\n",
      "    history = main(model, batch_size, epochs, lr, data_path, trial=trial)\n",
      "  File \"/home/exodia/NAO/scripts/train/train_cnn.py\", line 110, in main\n",
      "    raise optuna.exceptions.TrialPruned()\n",
      "NameError: name 'optuna' is not defined\n",
      "[W 2025-06-21 18:51:32,386] Trial 5 failed with value None.\n"
     ]
    },
    {
     "name": "stdout",
     "output_type": "stream",
     "text": [
      "Epoch 10/10 | Train Loss: 1.0259 | Val Loss: 1.2854 | Val Acc: 0.5213 | Time: 6.20s\n"
     ]
    },
    {
     "ename": "NameError",
     "evalue": "name 'optuna' is not defined",
     "output_type": "error",
     "traceback": [
      "\u001b[0;31m---------------------------------------------------------------------------\u001b[0m",
      "\u001b[0;31mNameError\u001b[0m                                 Traceback (most recent call last)",
      "Cell \u001b[0;32mIn[6], line 58\u001b[0m\n\u001b[1;32m     55\u001b[0m     pbar\u001b[38;5;241m.\u001b[39mupdate(\u001b[38;5;241m1\u001b[39m)\n\u001b[1;32m     57\u001b[0m \u001b[38;5;66;03m# 🚀 Optimización\u001b[39;00m\n\u001b[0;32m---> 58\u001b[0m \u001b[43mstudy\u001b[49m\u001b[38;5;241;43m.\u001b[39;49m\u001b[43moptimize\u001b[49m\u001b[43m(\u001b[49m\u001b[43mobjective\u001b[49m\u001b[43m,\u001b[49m\u001b[43m \u001b[49m\u001b[43mn_trials\u001b[49m\u001b[38;5;241;43m=\u001b[39;49m\u001b[43mn_trials\u001b[49m\u001b[43m,\u001b[49m\u001b[43m \u001b[49m\u001b[43mcallbacks\u001b[49m\u001b[38;5;241;43m=\u001b[39;49m\u001b[43m[\u001b[49m\u001b[43mtqdm_callback\u001b[49m\u001b[43m]\u001b[49m\u001b[43m)\u001b[49m\n\u001b[1;32m     59\u001b[0m pbar\u001b[38;5;241m.\u001b[39mclose()\n\u001b[1;32m     62\u001b[0m \u001b[38;5;28;01mif\u001b[39;00m \u001b[38;5;28mlen\u001b[39m(study\u001b[38;5;241m.\u001b[39mtrials) \u001b[38;5;241m>\u001b[39m \u001b[38;5;241m0\u001b[39m \u001b[38;5;129;01mand\u001b[39;00m study\u001b[38;5;241m.\u001b[39mbest_trial\u001b[38;5;241m.\u001b[39muser_attrs\u001b[38;5;241m.\u001b[39mget(\u001b[38;5;124m\"\u001b[39m\u001b[38;5;124mmodel\u001b[39m\u001b[38;5;124m\"\u001b[39m):\n",
      "File \u001b[0;32m~/miniconda3/envs/nao_sv/lib/python3.9/site-packages/optuna/study/study.py:489\u001b[0m, in \u001b[0;36mStudy.optimize\u001b[0;34m(self, func, n_trials, timeout, n_jobs, catch, callbacks, gc_after_trial, show_progress_bar)\u001b[0m\n\u001b[1;32m    387\u001b[0m \u001b[38;5;28;01mdef\u001b[39;00m\u001b[38;5;250m \u001b[39m\u001b[38;5;21moptimize\u001b[39m(\n\u001b[1;32m    388\u001b[0m     \u001b[38;5;28mself\u001b[39m,\n\u001b[1;32m    389\u001b[0m     func: ObjectiveFuncType,\n\u001b[0;32m   (...)\u001b[0m\n\u001b[1;32m    396\u001b[0m     show_progress_bar: \u001b[38;5;28mbool\u001b[39m \u001b[38;5;241m=\u001b[39m \u001b[38;5;28;01mFalse\u001b[39;00m,\n\u001b[1;32m    397\u001b[0m ) \u001b[38;5;241m-\u001b[39m\u001b[38;5;241m>\u001b[39m \u001b[38;5;28;01mNone\u001b[39;00m:\n\u001b[1;32m    398\u001b[0m \u001b[38;5;250m    \u001b[39m\u001b[38;5;124;03m\"\"\"Optimize an objective function.\u001b[39;00m\n\u001b[1;32m    399\u001b[0m \n\u001b[1;32m    400\u001b[0m \u001b[38;5;124;03m    Optimization is done by choosing a suitable set of hyperparameter values from a given\u001b[39;00m\n\u001b[0;32m   (...)\u001b[0m\n\u001b[1;32m    487\u001b[0m \u001b[38;5;124;03m            If nested invocation of this method occurs.\u001b[39;00m\n\u001b[1;32m    488\u001b[0m \u001b[38;5;124;03m    \"\"\"\u001b[39;00m\n\u001b[0;32m--> 489\u001b[0m     \u001b[43m_optimize\u001b[49m\u001b[43m(\u001b[49m\n\u001b[1;32m    490\u001b[0m \u001b[43m        \u001b[49m\u001b[43mstudy\u001b[49m\u001b[38;5;241;43m=\u001b[39;49m\u001b[38;5;28;43mself\u001b[39;49m\u001b[43m,\u001b[49m\n\u001b[1;32m    491\u001b[0m \u001b[43m        \u001b[49m\u001b[43mfunc\u001b[49m\u001b[38;5;241;43m=\u001b[39;49m\u001b[43mfunc\u001b[49m\u001b[43m,\u001b[49m\n\u001b[1;32m    492\u001b[0m \u001b[43m        \u001b[49m\u001b[43mn_trials\u001b[49m\u001b[38;5;241;43m=\u001b[39;49m\u001b[43mn_trials\u001b[49m\u001b[43m,\u001b[49m\n\u001b[1;32m    493\u001b[0m \u001b[43m        \u001b[49m\u001b[43mtimeout\u001b[49m\u001b[38;5;241;43m=\u001b[39;49m\u001b[43mtimeout\u001b[49m\u001b[43m,\u001b[49m\n\u001b[1;32m    494\u001b[0m \u001b[43m        \u001b[49m\u001b[43mn_jobs\u001b[49m\u001b[38;5;241;43m=\u001b[39;49m\u001b[43mn_jobs\u001b[49m\u001b[43m,\u001b[49m\n\u001b[1;32m    495\u001b[0m \u001b[43m        \u001b[49m\u001b[43mcatch\u001b[49m\u001b[38;5;241;43m=\u001b[39;49m\u001b[38;5;28;43mtuple\u001b[39;49m\u001b[43m(\u001b[49m\u001b[43mcatch\u001b[49m\u001b[43m)\u001b[49m\u001b[43m \u001b[49m\u001b[38;5;28;43;01mif\u001b[39;49;00m\u001b[43m \u001b[49m\u001b[38;5;28;43misinstance\u001b[39;49m\u001b[43m(\u001b[49m\u001b[43mcatch\u001b[49m\u001b[43m,\u001b[49m\u001b[43m \u001b[49m\u001b[43mIterable\u001b[49m\u001b[43m)\u001b[49m\u001b[43m \u001b[49m\u001b[38;5;28;43;01melse\u001b[39;49;00m\u001b[43m \u001b[49m\u001b[43m(\u001b[49m\u001b[43mcatch\u001b[49m\u001b[43m,\u001b[49m\u001b[43m)\u001b[49m\u001b[43m,\u001b[49m\n\u001b[1;32m    496\u001b[0m \u001b[43m        \u001b[49m\u001b[43mcallbacks\u001b[49m\u001b[38;5;241;43m=\u001b[39;49m\u001b[43mcallbacks\u001b[49m\u001b[43m,\u001b[49m\n\u001b[1;32m    497\u001b[0m \u001b[43m        \u001b[49m\u001b[43mgc_after_trial\u001b[49m\u001b[38;5;241;43m=\u001b[39;49m\u001b[43mgc_after_trial\u001b[49m\u001b[43m,\u001b[49m\n\u001b[1;32m    498\u001b[0m \u001b[43m        \u001b[49m\u001b[43mshow_progress_bar\u001b[49m\u001b[38;5;241;43m=\u001b[39;49m\u001b[43mshow_progress_bar\u001b[49m\u001b[43m,\u001b[49m\n\u001b[1;32m    499\u001b[0m \u001b[43m    \u001b[49m\u001b[43m)\u001b[49m\n",
      "File \u001b[0;32m~/miniconda3/envs/nao_sv/lib/python3.9/site-packages/optuna/study/_optimize.py:64\u001b[0m, in \u001b[0;36m_optimize\u001b[0;34m(study, func, n_trials, timeout, n_jobs, catch, callbacks, gc_after_trial, show_progress_bar)\u001b[0m\n\u001b[1;32m     62\u001b[0m \u001b[38;5;28;01mtry\u001b[39;00m:\n\u001b[1;32m     63\u001b[0m     \u001b[38;5;28;01mif\u001b[39;00m n_jobs \u001b[38;5;241m==\u001b[39m \u001b[38;5;241m1\u001b[39m:\n\u001b[0;32m---> 64\u001b[0m         \u001b[43m_optimize_sequential\u001b[49m\u001b[43m(\u001b[49m\n\u001b[1;32m     65\u001b[0m \u001b[43m            \u001b[49m\u001b[43mstudy\u001b[49m\u001b[43m,\u001b[49m\n\u001b[1;32m     66\u001b[0m \u001b[43m            \u001b[49m\u001b[43mfunc\u001b[49m\u001b[43m,\u001b[49m\n\u001b[1;32m     67\u001b[0m \u001b[43m            \u001b[49m\u001b[43mn_trials\u001b[49m\u001b[43m,\u001b[49m\n\u001b[1;32m     68\u001b[0m \u001b[43m            \u001b[49m\u001b[43mtimeout\u001b[49m\u001b[43m,\u001b[49m\n\u001b[1;32m     69\u001b[0m \u001b[43m            \u001b[49m\u001b[43mcatch\u001b[49m\u001b[43m,\u001b[49m\n\u001b[1;32m     70\u001b[0m \u001b[43m            \u001b[49m\u001b[43mcallbacks\u001b[49m\u001b[43m,\u001b[49m\n\u001b[1;32m     71\u001b[0m \u001b[43m            \u001b[49m\u001b[43mgc_after_trial\u001b[49m\u001b[43m,\u001b[49m\n\u001b[1;32m     72\u001b[0m \u001b[43m            \u001b[49m\u001b[43mreseed_sampler_rng\u001b[49m\u001b[38;5;241;43m=\u001b[39;49m\u001b[38;5;28;43;01mFalse\u001b[39;49;00m\u001b[43m,\u001b[49m\n\u001b[1;32m     73\u001b[0m \u001b[43m            \u001b[49m\u001b[43mtime_start\u001b[49m\u001b[38;5;241;43m=\u001b[39;49m\u001b[38;5;28;43;01mNone\u001b[39;49;00m\u001b[43m,\u001b[49m\n\u001b[1;32m     74\u001b[0m \u001b[43m            \u001b[49m\u001b[43mprogress_bar\u001b[49m\u001b[38;5;241;43m=\u001b[39;49m\u001b[43mprogress_bar\u001b[49m\u001b[43m,\u001b[49m\n\u001b[1;32m     75\u001b[0m \u001b[43m        \u001b[49m\u001b[43m)\u001b[49m\n\u001b[1;32m     76\u001b[0m     \u001b[38;5;28;01melse\u001b[39;00m:\n\u001b[1;32m     77\u001b[0m         \u001b[38;5;28;01mif\u001b[39;00m n_jobs \u001b[38;5;241m==\u001b[39m \u001b[38;5;241m-\u001b[39m\u001b[38;5;241m1\u001b[39m:\n",
      "File \u001b[0;32m~/miniconda3/envs/nao_sv/lib/python3.9/site-packages/optuna/study/_optimize.py:161\u001b[0m, in \u001b[0;36m_optimize_sequential\u001b[0;34m(study, func, n_trials, timeout, catch, callbacks, gc_after_trial, reseed_sampler_rng, time_start, progress_bar)\u001b[0m\n\u001b[1;32m    158\u001b[0m         \u001b[38;5;28;01mbreak\u001b[39;00m\n\u001b[1;32m    160\u001b[0m \u001b[38;5;28;01mtry\u001b[39;00m:\n\u001b[0;32m--> 161\u001b[0m     frozen_trial \u001b[38;5;241m=\u001b[39m \u001b[43m_run_trial\u001b[49m\u001b[43m(\u001b[49m\u001b[43mstudy\u001b[49m\u001b[43m,\u001b[49m\u001b[43m \u001b[49m\u001b[43mfunc\u001b[49m\u001b[43m,\u001b[49m\u001b[43m \u001b[49m\u001b[43mcatch\u001b[49m\u001b[43m)\u001b[49m\n\u001b[1;32m    162\u001b[0m \u001b[38;5;28;01mfinally\u001b[39;00m:\n\u001b[1;32m    163\u001b[0m     \u001b[38;5;66;03m# The following line mitigates memory problems that can be occurred in some\u001b[39;00m\n\u001b[1;32m    164\u001b[0m     \u001b[38;5;66;03m# environments (e.g., services that use computing containers such as GitHub Actions).\u001b[39;00m\n\u001b[1;32m    165\u001b[0m     \u001b[38;5;66;03m# Please refer to the following PR for further details:\u001b[39;00m\n\u001b[1;32m    166\u001b[0m     \u001b[38;5;66;03m# https://github.com/optuna/optuna/pull/325.\u001b[39;00m\n\u001b[1;32m    167\u001b[0m     \u001b[38;5;28;01mif\u001b[39;00m gc_after_trial:\n",
      "File \u001b[0;32m~/miniconda3/envs/nao_sv/lib/python3.9/site-packages/optuna/study/_optimize.py:253\u001b[0m, in \u001b[0;36m_run_trial\u001b[0;34m(study, func, catch)\u001b[0m\n\u001b[1;32m    246\u001b[0m         \u001b[38;5;28;01massert\u001b[39;00m \u001b[38;5;28;01mFalse\u001b[39;00m, \u001b[38;5;124m\"\u001b[39m\u001b[38;5;124mShould not reach.\u001b[39m\u001b[38;5;124m\"\u001b[39m\n\u001b[1;32m    248\u001b[0m \u001b[38;5;28;01mif\u001b[39;00m (\n\u001b[1;32m    249\u001b[0m     frozen_trial\u001b[38;5;241m.\u001b[39mstate \u001b[38;5;241m==\u001b[39m TrialState\u001b[38;5;241m.\u001b[39mFAIL\n\u001b[1;32m    250\u001b[0m     \u001b[38;5;129;01mand\u001b[39;00m func_err \u001b[38;5;129;01mis\u001b[39;00m \u001b[38;5;129;01mnot\u001b[39;00m \u001b[38;5;28;01mNone\u001b[39;00m\n\u001b[1;32m    251\u001b[0m     \u001b[38;5;129;01mand\u001b[39;00m \u001b[38;5;129;01mnot\u001b[39;00m \u001b[38;5;28misinstance\u001b[39m(func_err, catch)\n\u001b[1;32m    252\u001b[0m ):\n\u001b[0;32m--> 253\u001b[0m     \u001b[38;5;28;01mraise\u001b[39;00m func_err\n\u001b[1;32m    254\u001b[0m \u001b[38;5;28;01mreturn\u001b[39;00m frozen_trial\n",
      "File \u001b[0;32m~/miniconda3/envs/nao_sv/lib/python3.9/site-packages/optuna/study/_optimize.py:201\u001b[0m, in \u001b[0;36m_run_trial\u001b[0;34m(study, func, catch)\u001b[0m\n\u001b[1;32m    199\u001b[0m \u001b[38;5;28;01mwith\u001b[39;00m get_heartbeat_thread(trial\u001b[38;5;241m.\u001b[39m_trial_id, study\u001b[38;5;241m.\u001b[39m_storage):\n\u001b[1;32m    200\u001b[0m     \u001b[38;5;28;01mtry\u001b[39;00m:\n\u001b[0;32m--> 201\u001b[0m         value_or_values \u001b[38;5;241m=\u001b[39m \u001b[43mfunc\u001b[49m\u001b[43m(\u001b[49m\u001b[43mtrial\u001b[49m\u001b[43m)\u001b[49m\n\u001b[1;32m    202\u001b[0m     \u001b[38;5;28;01mexcept\u001b[39;00m exceptions\u001b[38;5;241m.\u001b[39mTrialPruned \u001b[38;5;28;01mas\u001b[39;00m e:\n\u001b[1;32m    203\u001b[0m         \u001b[38;5;66;03m# TODO(mamu): Handle multi-objective cases.\u001b[39;00m\n\u001b[1;32m    204\u001b[0m         state \u001b[38;5;241m=\u001b[39m TrialState\u001b[38;5;241m.\u001b[39mPRUNED\n",
      "Cell \u001b[0;32mIn[6], line 27\u001b[0m, in \u001b[0;36mobjective\u001b[0;34m(trial)\u001b[0m\n\u001b[1;32m     24\u001b[0m lr \u001b[38;5;241m=\u001b[39m trial\u001b[38;5;241m.\u001b[39msuggest_float(\u001b[38;5;124m\"\u001b[39m\u001b[38;5;124mlr\u001b[39m\u001b[38;5;124m\"\u001b[39m, \u001b[38;5;241m1e-4\u001b[39m, \u001b[38;5;241m1e-3\u001b[39m)\n\u001b[1;32m     26\u001b[0m \u001b[38;5;28;01mtry\u001b[39;00m:\n\u001b[0;32m---> 27\u001b[0m     history \u001b[38;5;241m=\u001b[39m \u001b[43mmain\u001b[49m\u001b[43m(\u001b[49m\u001b[43mmodel\u001b[49m\u001b[43m,\u001b[49m\u001b[43m \u001b[49m\u001b[43mbatch_size\u001b[49m\u001b[43m,\u001b[49m\u001b[43m \u001b[49m\u001b[43mepochs\u001b[49m\u001b[43m,\u001b[49m\u001b[43m \u001b[49m\u001b[43mlr\u001b[49m\u001b[43m,\u001b[49m\u001b[43m \u001b[49m\u001b[43mdata_path\u001b[49m\u001b[43m,\u001b[49m\u001b[43m \u001b[49m\u001b[43mtrial\u001b[49m\u001b[38;5;241;43m=\u001b[39;49m\u001b[43mtrial\u001b[49m\u001b[43m)\u001b[49m\n\u001b[1;32m     29\u001b[0m     \u001b[38;5;28;01mfor\u001b[39;00m epoch, val_acc \u001b[38;5;129;01min\u001b[39;00m \u001b[38;5;28menumerate\u001b[39m(history[\u001b[38;5;124m'\u001b[39m\u001b[38;5;124mval_accuracy\u001b[39m\u001b[38;5;124m'\u001b[39m]):\n\u001b[1;32m     30\u001b[0m         trial\u001b[38;5;241m.\u001b[39mreport(val_acc, step\u001b[38;5;241m=\u001b[39mepoch)\n",
      "File \u001b[0;32m~/NAO/scripts/train/train_cnn.py:110\u001b[0m, in \u001b[0;36mmain\u001b[0;34m(model_name, batch_size, epochs, lr, data_path, trial)\u001b[0m\n\u001b[1;32m    108\u001b[0m         \u001b[38;5;28;01mif\u001b[39;00m trial\u001b[38;5;241m.\u001b[39mshould_prune():\n\u001b[1;32m    109\u001b[0m             logger\u001b[38;5;241m.\u001b[39mlog_message(\u001b[38;5;124m\"\u001b[39m\u001b[38;5;124mTrial podado.\u001b[39m\u001b[38;5;124m\"\u001b[39m)\n\u001b[0;32m--> 110\u001b[0m             \u001b[38;5;28;01mraise\u001b[39;00m \u001b[43moptuna\u001b[49m\u001b[38;5;241m.\u001b[39mexceptions\u001b[38;5;241m.\u001b[39mTrialPruned()  \n\u001b[1;32m    111\u001b[0m         val_accuracies\u001b[38;5;241m.\u001b[39mappend(val_acc)\n\u001b[1;32m    112\u001b[0m \u001b[38;5;28;01mfinally\u001b[39;00m:\n",
      "\u001b[0;31mNameError\u001b[0m: name 'optuna' is not defined"
     ]
    }
   ],
   "source": [
    "from tqdm import tqdm\n",
    "import optuna\n",
    "from optuna.pruners import MedianPruner\n",
    "import gc\n",
    "\n",
    "n_trials = 10\n",
    "epochs = 10\n",
    "models = ['mobilenet', 'vgg19', 'custom']\n",
    "data_path = entry_path + '/data/kers2013/'\n",
    "\n",
    "for model in models:\n",
    "    print(f\"\\n🔍 Optimizando para modelo: {model}\")\n",
    "\n",
    "    # 🎯 Función objetivo con soporte para pruning\n",
    "    def objective(trial: optuna.Trial) -> float:\n",
    "        torch.cuda.empty_cache()\n",
    "        gc.collect()\n",
    "        if model == 'vgg19':\n",
    "            batch_size_options = [16, 32]\n",
    "        else:\n",
    "            batch_size_options = [32, 48, 64]\n",
    "        batch_size = trial.suggest_categorical(\"batch_size\", batch_size_options)\n",
    "\n",
    "        lr = trial.suggest_float(\"lr\", 1e-4, 1e-3)\n",
    "\n",
    "        try:\n",
    "            history = main(model, batch_size, epochs, lr, data_path, trial=trial)\n",
    "\n",
    "            for epoch, val_acc in enumerate(history['val_accuracy']):\n",
    "                trial.report(val_acc, step=epoch)\n",
    "                if trial.should_prune():\n",
    "                    raise optuna.exceptions.TrialPruned()\n",
    "                \n",
    "            trial.set_user_attr(\"model\", history[\"model\"])\n",
    "\n",
    "        except RuntimeError as e:\n",
    "            if \"out of memory\" in str(e):\n",
    "                print(\"⚠️ Trial falló por falta de memoria\")\n",
    "                torch.cuda.empty_cache()\n",
    "                raise optuna.exceptions.TrialPruned()\n",
    "            else:\n",
    "                raise\n",
    "\n",
    "\n",
    "        return history['val_accuracy'][-1]\n",
    "\n",
    "    # 🔧 Carga módulo + pruning\n",
    "    module = optunahub.load_module(package=\"samplers/auto_sampler\")\n",
    "    pruner = MedianPruner(n_startup_trials=5, n_warmup_steps=3)\n",
    "    study = optuna.create_study(sampler=module.AutoSampler(), pruner=pruner, direction=\"maximize\")\n",
    "\n",
    "    # 📊 tqdm callback\n",
    "    pbar = tqdm(total=n_trials, desc=f\"{model}\")\n",
    "    def tqdm_callback(study, trial):\n",
    "        pbar.update(1)\n",
    "\n",
    "    # 🚀 Optimización\n",
    "    study.optimize(objective, n_trials=n_trials, callbacks=[tqdm_callback])\n",
    "    pbar.close()\n",
    "\n",
    "\n",
    "    if len(study.trials) > 0 and study.best_trial.user_attrs.get(\"model\"):\n",
    "        best_model = study.best_trial.user_attrs[\"model\"]\n",
    "        trial_num = study.best_trial.number\n",
    "        best_model_path = f\"{data_path}../models/{model}_trial{trial_num}_best.pt\"\n",
    "        torch.save(best_model.state_dict(), best_model_path)\n",
    "        print(f\"✅ Mejor modelo guardado en: {best_model_path}\")\n",
    "    else:\n",
    "        print(f\"⚠️ No se pudo guardar modelo para {model}. Todos los trials fallaron o fueron podados.\")\n",
    "\n",
    "\n"
   ]
  },
  {
   "cell_type": "markdown",
   "id": "f8e48710",
   "metadata": {},
   "source": []
  }
 ],
 "metadata": {
  "kernelspec": {
   "display_name": "nao_sv",
   "language": "python",
   "name": "python3"
  },
  "language_info": {
   "codemirror_mode": {
    "name": "ipython",
    "version": 3
   },
   "file_extension": ".py",
   "mimetype": "text/x-python",
   "name": "python",
   "nbconvert_exporter": "python",
   "pygments_lexer": "ipython3",
   "version": "3.9.23"
  }
 },
 "nbformat": 4,
 "nbformat_minor": 5
}
