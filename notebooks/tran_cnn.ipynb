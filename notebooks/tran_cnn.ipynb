{
 "cells": [
  {
   "cell_type": "code",
   "execution_count": 1,
   "id": "b9f626b8",
   "metadata": {},
   "outputs": [
    {
     "data": {
      "text/plain": [
       "'/home/exodia/NAO'"
      ]
     },
     "execution_count": 1,
     "metadata": {},
     "output_type": "execute_result"
    }
   ],
   "source": [
    "import sys\n",
    "from pathlib import Path\n",
    "\n",
    "entry_path =  str(Path().resolve().parents[0])\n",
    "entry_path"
   ]
  },
  {
   "cell_type": "code",
   "execution_count": 2,
   "id": "5ae6d627",
   "metadata": {},
   "outputs": [
    {
     "name": "stdout",
     "output_type": "stream",
     "text": [
      "Requirement already satisfied: optuna in /home/exodia/miniconda3/envs/nao_sv/lib/python3.9/site-packages (4.4.0)\n",
      "Requirement already satisfied: optunahub in /home/exodia/miniconda3/envs/nao_sv/lib/python3.9/site-packages (0.3.0)\n",
      "Requirement already satisfied: cmaes in /home/exodia/miniconda3/envs/nao_sv/lib/python3.9/site-packages (0.11.1)\n",
      "Requirement already satisfied: scipy in /home/exodia/miniconda3/envs/nao_sv/lib/python3.9/site-packages (1.13.1)\n",
      "Requirement already satisfied: alembic>=1.5.0 in /home/exodia/miniconda3/envs/nao_sv/lib/python3.9/site-packages (from optuna) (1.16.2)\n",
      "Requirement already satisfied: colorlog in /home/exodia/miniconda3/envs/nao_sv/lib/python3.9/site-packages (from optuna) (6.9.0)\n",
      "Requirement already satisfied: numpy in /home/exodia/miniconda3/envs/nao_sv/lib/python3.9/site-packages (from optuna) (2.0.2)\n",
      "Requirement already satisfied: packaging>=20.0 in /home/exodia/miniconda3/envs/nao_sv/lib/python3.9/site-packages (from optuna) (25.0)\n",
      "Requirement already satisfied: sqlalchemy>=1.4.2 in /home/exodia/miniconda3/envs/nao_sv/lib/python3.9/site-packages (from optuna) (2.0.41)\n",
      "Requirement already satisfied: tqdm in /home/exodia/miniconda3/envs/nao_sv/lib/python3.9/site-packages (from optuna) (4.67.1)\n",
      "Requirement already satisfied: PyYAML in /home/exodia/miniconda3/envs/nao_sv/lib/python3.9/site-packages (from optuna) (6.0.2)\n",
      "Requirement already satisfied: GitPython in /home/exodia/miniconda3/envs/nao_sv/lib/python3.9/site-packages (from optunahub) (3.1.44)\n",
      "Requirement already satisfied: PyGithub>=1.59 in /home/exodia/miniconda3/envs/nao_sv/lib/python3.9/site-packages (from optunahub) (2.6.1)\n",
      "Requirement already satisfied: Mako in /home/exodia/miniconda3/envs/nao_sv/lib/python3.9/site-packages (from alembic>=1.5.0->optuna) (1.3.10)\n",
      "Requirement already satisfied: typing-extensions>=4.12 in /home/exodia/miniconda3/envs/nao_sv/lib/python3.9/site-packages (from alembic>=1.5.0->optuna) (4.14.0)\n",
      "Requirement already satisfied: tomli in /home/exodia/miniconda3/envs/nao_sv/lib/python3.9/site-packages (from alembic>=1.5.0->optuna) (2.2.1)\n",
      "Requirement already satisfied: pynacl>=1.4.0 in /home/exodia/miniconda3/envs/nao_sv/lib/python3.9/site-packages (from PyGithub>=1.59->optunahub) (1.5.0)\n",
      "Requirement already satisfied: requests>=2.14.0 in /home/exodia/miniconda3/envs/nao_sv/lib/python3.9/site-packages (from PyGithub>=1.59->optunahub) (2.32.4)\n",
      "Requirement already satisfied: pyjwt>=2.4.0 in /home/exodia/miniconda3/envs/nao_sv/lib/python3.9/site-packages (from pyjwt[crypto]>=2.4.0->PyGithub>=1.59->optunahub) (2.10.1)\n",
      "Requirement already satisfied: urllib3>=1.26.0 in /home/exodia/miniconda3/envs/nao_sv/lib/python3.9/site-packages (from PyGithub>=1.59->optunahub) (2.4.0)\n",
      "Requirement already satisfied: Deprecated in /home/exodia/miniconda3/envs/nao_sv/lib/python3.9/site-packages (from PyGithub>=1.59->optunahub) (1.2.18)\n",
      "Requirement already satisfied: cryptography>=3.4.0 in /home/exodia/miniconda3/envs/nao_sv/lib/python3.9/site-packages (from pyjwt[crypto]>=2.4.0->PyGithub>=1.59->optunahub) (45.0.4)\n",
      "Requirement already satisfied: cffi>=1.14 in /home/exodia/miniconda3/envs/nao_sv/lib/python3.9/site-packages (from cryptography>=3.4.0->pyjwt[crypto]>=2.4.0->PyGithub>=1.59->optunahub) (1.17.1)\n",
      "Requirement already satisfied: pycparser in /home/exodia/miniconda3/envs/nao_sv/lib/python3.9/site-packages (from cffi>=1.14->cryptography>=3.4.0->pyjwt[crypto]>=2.4.0->PyGithub>=1.59->optunahub) (2.22)\n",
      "Requirement already satisfied: charset_normalizer<4,>=2 in /home/exodia/miniconda3/envs/nao_sv/lib/python3.9/site-packages (from requests>=2.14.0->PyGithub>=1.59->optunahub) (3.4.2)\n",
      "Requirement already satisfied: idna<4,>=2.5 in /home/exodia/miniconda3/envs/nao_sv/lib/python3.9/site-packages (from requests>=2.14.0->PyGithub>=1.59->optunahub) (3.10)\n",
      "Requirement already satisfied: certifi>=2017.4.17 in /home/exodia/miniconda3/envs/nao_sv/lib/python3.9/site-packages (from requests>=2.14.0->PyGithub>=1.59->optunahub) (2025.4.26)\n",
      "Requirement already satisfied: greenlet>=1 in /home/exodia/miniconda3/envs/nao_sv/lib/python3.9/site-packages (from sqlalchemy>=1.4.2->optuna) (3.2.3)\n",
      "Requirement already satisfied: wrapt<2,>=1.10 in /home/exodia/miniconda3/envs/nao_sv/lib/python3.9/site-packages (from Deprecated->PyGithub>=1.59->optunahub) (1.17.2)\n",
      "Requirement already satisfied: gitdb<5,>=4.0.1 in /home/exodia/miniconda3/envs/nao_sv/lib/python3.9/site-packages (from GitPython->optunahub) (4.0.12)\n",
      "Requirement already satisfied: smmap<6,>=3.0.1 in /home/exodia/miniconda3/envs/nao_sv/lib/python3.9/site-packages (from gitdb<5,>=4.0.1->GitPython->optunahub) (5.0.2)\n",
      "Requirement already satisfied: MarkupSafe>=0.9.2 in /home/exodia/miniconda3/envs/nao_sv/lib/python3.9/site-packages (from Mako->alembic>=1.5.0->optuna) (3.0.2)\n"
     ]
    }
   ],
   "source": [
    "!pip install optuna optunahub cmaes scipy"
   ]
  },
  {
   "cell_type": "code",
   "execution_count": 4,
   "id": "8c40c9a5",
   "metadata": {},
   "outputs": [],
   "source": [
    "import sys\n",
    "import optuna\n",
    "import optunahub\n",
    "from pathlib import Path\n",
    "import torch\n",
    "import os\n",
    "\n",
    "os.environ[\"PYTORCH_CUDA_ALLOC_CONF\"] = \"expandable_segments:True\"\n",
    "\n",
    "\n",
    "\n",
    "sys.path.append(entry_path)\n",
    "\n",
    "\n",
    "from scripts.train.train_cnn import main  \n",
    "import matplotlib.pyplot as plt\n",
    "import itertools\n",
    "import pandas as pd\n",
    "\n",
    "param_grid = {\n",
    "    'model': ['mobilenet', 'vgg19'],\n",
    "    'batch_size': [16, 32],\n",
    "    'lr': [1e-3, 1e-4],\n",
    "    'epochs': [10],\n",
    "}\n",
    "\n",
    "model = 'mobilenet'\n",
    "\n",
    "data_path = entry_path+'/data/kers2013_sample_500_val20/' \n"
   ]
  },
  {
   "cell_type": "code",
   "execution_count": null,
   "id": "1c7d78fd",
   "metadata": {},
   "outputs": [],
   "source": [
    "# batch_size, epochs, lr = 4, 1, 0.3\n",
    "# val_acc = main(model, batch_size, epochs, lr, data_path)\n"
   ]
  },
  {
   "cell_type": "code",
   "execution_count": null,
   "id": "76a4fa6a",
   "metadata": {},
   "outputs": [
    {
     "name": "stderr",
     "output_type": "stream",
     "text": [
      "[I 2025-06-21 10:59:01,050] A new study created in memory with name: no-name-e339ed91-0e24-4f5f-a693-eb381000999d\n"
     ]
    },
    {
     "name": "stdout",
     "output_type": "stream",
     "text": [
      "\n",
      "🔍 Optimizando para modelo: mobilenet\n"
     ]
    },
    {
     "name": "stderr",
     "output_type": "stream",
     "text": [
      "mobilenet:   0%|          | 0/10 [00:00<?, ?it/s]2025-06-21 10:59:01,153 - 📄 Trial parameters saved to /home/exodia/NAO/data/kers2013/../../notebooks/logs/mobilenet_trial0/20250621_105901_params.txt\n",
      "2025-06-21 10:59:01,154 - 📁 Training log created for model: mobilenet_trial0\n",
      "2025-06-21 10:59:01,154 - 📄 Logs will be saved to /home/exodia/NAO/data/kers2013/../../notebooks/logs/mobilenet_trial0/20250621_105901.log\n",
      "2025-06-21 10:59:01,154 - 📄 CSV will be saved to /home/exodia/NAO/data/kers2013/../../notebooks/logs/mobilenet_trial0/20250621_105901.csv\n",
      "/home/exodia/miniconda3/envs/nao_sv/lib/python3.9/site-packages/torchvision/models/_utils.py:208: UserWarning: The parameter 'pretrained' is deprecated since 0.13 and may be removed in the future, please use 'weights' instead.\n",
      "  warnings.warn(\n",
      "/home/exodia/miniconda3/envs/nao_sv/lib/python3.9/site-packages/torchvision/models/_utils.py:223: UserWarning: Arguments other than a weight enum or `None` for 'weights' are deprecated since 0.13 and may be removed in the future. The current behavior is equivalent to passing `weights=MobileNet_V2_Weights.IMAGENET1K_V1`. You can also use `weights=MobileNet_V2_Weights.DEFAULT` to get the most up-to-date weights.\n",
      "  warnings.warn(msg)\n",
      "2025-06-21 11:01:07,155 - Epoch 1/10 | Train Loss: 1.1602 | Val Loss: 1.0173 | Val Acc: 0.6158 | Time: 125.76s\n"
     ]
    },
    {
     "name": "stdout",
     "output_type": "stream",
     "text": [
      "Epoch 1/10 | Train Loss: 1.1602 | Val Loss: 1.0173 | Val Acc: 0.6158 | Time: 125.76s\n"
     ]
    },
    {
     "name": "stderr",
     "output_type": "stream",
     "text": [
      "2025-06-21 11:02:54,373 - Epoch 2/10 | Train Loss: 0.9468 | Val Loss: 0.9751 | Val Acc: 0.6364 | Time: 107.22s\n"
     ]
    },
    {
     "name": "stdout",
     "output_type": "stream",
     "text": [
      "Epoch 2/10 | Train Loss: 0.9468 | Val Loss: 0.9751 | Val Acc: 0.6364 | Time: 107.22s\n"
     ]
    },
    {
     "name": "stderr",
     "output_type": "stream",
     "text": [
      "2025-06-21 11:04:39,207 - Epoch 3/10 | Train Loss: 0.8459 | Val Loss: 0.9724 | Val Acc: 0.6390 | Time: 104.83s\n"
     ]
    },
    {
     "name": "stdout",
     "output_type": "stream",
     "text": [
      "Epoch 3/10 | Train Loss: 0.8459 | Val Loss: 0.9724 | Val Acc: 0.6390 | Time: 104.83s\n"
     ]
    },
    {
     "name": "stderr",
     "output_type": "stream",
     "text": [
      "2025-06-21 11:06:23,829 - Epoch 4/10 | Train Loss: 0.7576 | Val Loss: 0.9568 | Val Acc: 0.6470 | Time: 104.62s\n"
     ]
    },
    {
     "name": "stdout",
     "output_type": "stream",
     "text": [
      "Epoch 4/10 | Train Loss: 0.7576 | Val Loss: 0.9568 | Val Acc: 0.6470 | Time: 104.62s\n"
     ]
    },
    {
     "name": "stderr",
     "output_type": "stream",
     "text": [
      "2025-06-21 11:08:07,763 - Epoch 5/10 | Train Loss: 0.6704 | Val Loss: 1.0104 | Val Acc: 0.6383 | Time: 103.93s\n"
     ]
    },
    {
     "name": "stdout",
     "output_type": "stream",
     "text": [
      "Epoch 5/10 | Train Loss: 0.6704 | Val Loss: 1.0104 | Val Acc: 0.6383 | Time: 103.93s\n"
     ]
    },
    {
     "name": "stderr",
     "output_type": "stream",
     "text": [
      "2025-06-21 11:09:51,136 - Epoch 6/10 | Train Loss: 0.5903 | Val Loss: 1.0332 | Val Acc: 0.6535 | Time: 103.37s\n"
     ]
    },
    {
     "name": "stdout",
     "output_type": "stream",
     "text": [
      "Epoch 6/10 | Train Loss: 0.5903 | Val Loss: 1.0332 | Val Acc: 0.6535 | Time: 103.37s\n"
     ]
    },
    {
     "name": "stderr",
     "output_type": "stream",
     "text": [
      "2025-06-21 11:11:35,079 - Epoch 7/10 | Train Loss: 0.5128 | Val Loss: 1.1226 | Val Acc: 0.6475 | Time: 103.94s\n"
     ]
    },
    {
     "name": "stdout",
     "output_type": "stream",
     "text": [
      "Epoch 7/10 | Train Loss: 0.5128 | Val Loss: 1.1226 | Val Acc: 0.6475 | Time: 103.94s\n"
     ]
    },
    {
     "name": "stderr",
     "output_type": "stream",
     "text": [
      "2025-06-21 11:13:18,123 - Epoch 8/10 | Train Loss: 0.4336 | Val Loss: 1.1705 | Val Acc: 0.6516 | Time: 103.04s\n"
     ]
    },
    {
     "name": "stdout",
     "output_type": "stream",
     "text": [
      "Epoch 8/10 | Train Loss: 0.4336 | Val Loss: 1.1705 | Val Acc: 0.6516 | Time: 103.04s\n"
     ]
    },
    {
     "name": "stderr",
     "output_type": "stream",
     "text": [
      "2025-06-21 11:15:04,525 - Epoch 9/10 | Train Loss: 0.3647 | Val Loss: 1.2150 | Val Acc: 0.6594 | Time: 106.40s\n"
     ]
    },
    {
     "name": "stdout",
     "output_type": "stream",
     "text": [
      "Epoch 9/10 | Train Loss: 0.3647 | Val Loss: 1.2150 | Val Acc: 0.6594 | Time: 106.40s\n"
     ]
    },
    {
     "name": "stderr",
     "output_type": "stream",
     "text": [
      "2025-06-21 11:16:44,257 - Epoch 10/10 | Train Loss: 0.3189 | Val Loss: 1.3268 | Val Acc: 0.6326 | Time: 99.73s\n",
      "2025-06-21 11:16:44,257 - ✅ Logging finalizado.\n",
      "2025-06-21 11:16:44,277 - Entrenamiento completo. Guardando modelo final...\n",
      "2025-06-21 11:16:44,278 - ✅ Logging finalizado.\n",
      "[I 2025-06-21 11:16:44,279] Trial 0 finished with value: 0.6326274728336585 and parameters: {'batch_size': 64, 'lr': 0.0005039750937665575}. Best is trial 0 with value: 0.6326274728336585.\n",
      "mobilenet:  10%|█         | 1/10 [17:43<2:39:29, 1063.24s/it]/home/exodia/miniconda3/envs/nao_sv/lib/python3.9/site-packages/optuna/_experimental.py:32: ExperimentalWarning: Argument ``multivariate`` is an experimental feature. The interface can change in the future.\n",
      "  warnings.warn(\n",
      "/home/exodia/miniconda3/envs/nao_sv/lib/python3.9/site-packages/optuna/_experimental.py:32: ExperimentalWarning: Argument ``constant_liar`` is an experimental feature. The interface can change in the future.\n",
      "  warnings.warn(\n"
     ]
    },
    {
     "name": "stdout",
     "output_type": "stream",
     "text": [
      "Epoch 10/10 | Train Loss: 0.3189 | Val Loss: 1.3268 | Val Acc: 0.6326 | Time: 99.73s\n"
     ]
    },
    {
     "name": "stderr",
     "output_type": "stream",
     "text": [
      "2025-06-21 11:16:44,466 - 📄 Trial parameters saved to /home/exodia/NAO/data/kers2013/../../notebooks/logs/mobilenet_trial1/20250621_111644_params.txt\n",
      "2025-06-21 11:16:44,466 - 📁 Training log created for model: mobilenet_trial1\n",
      "2025-06-21 11:16:44,467 - 📄 Logs will be saved to /home/exodia/NAO/data/kers2013/../../notebooks/logs/mobilenet_trial1/20250621_111644.log\n",
      "2025-06-21 11:16:44,467 - 📄 CSV will be saved to /home/exodia/NAO/data/kers2013/../../notebooks/logs/mobilenet_trial1/20250621_111644.csv\n",
      "2025-06-21 11:18:21,665 - Epoch 1/10 | Train Loss: 1.1911 | Val Loss: 1.0112 | Val Acc: 0.6199 | Time: 97.12s\n"
     ]
    },
    {
     "name": "stdout",
     "output_type": "stream",
     "text": [
      "Epoch 1/10 | Train Loss: 1.1911 | Val Loss: 1.0112 | Val Acc: 0.6199 | Time: 97.12s\n"
     ]
    },
    {
     "name": "stderr",
     "output_type": "stream",
     "text": [
      "2025-06-21 11:20:00,935 - Epoch 2/10 | Train Loss: 0.9044 | Val Loss: 0.9673 | Val Acc: 0.6438 | Time: 99.27s\n"
     ]
    },
    {
     "name": "stdout",
     "output_type": "stream",
     "text": [
      "Epoch 2/10 | Train Loss: 0.9044 | Val Loss: 0.9673 | Val Acc: 0.6438 | Time: 99.27s\n"
     ]
    },
    {
     "name": "stderr",
     "output_type": "stream",
     "text": [
      "2025-06-21 11:21:38,338 - Epoch 3/10 | Train Loss: 0.7343 | Val Loss: 0.9722 | Val Acc: 0.6530 | Time: 97.40s\n"
     ]
    },
    {
     "name": "stdout",
     "output_type": "stream",
     "text": [
      "Epoch 3/10 | Train Loss: 0.7343 | Val Loss: 0.9722 | Val Acc: 0.6530 | Time: 97.40s\n"
     ]
    },
    {
     "name": "stderr",
     "output_type": "stream",
     "text": [
      "2025-06-21 11:23:15,145 - Epoch 4/10 | Train Loss: 0.5647 | Val Loss: 1.0519 | Val Acc: 0.6495 | Time: 96.81s\n"
     ]
    },
    {
     "name": "stdout",
     "output_type": "stream",
     "text": [
      "Epoch 4/10 | Train Loss: 0.5647 | Val Loss: 1.0519 | Val Acc: 0.6495 | Time: 96.81s\n"
     ]
    },
    {
     "name": "stderr",
     "output_type": "stream",
     "text": [
      "2025-06-21 11:24:52,111 - Epoch 5/10 | Train Loss: 0.3913 | Val Loss: 1.1977 | Val Acc: 0.6368 | Time: 96.96s\n"
     ]
    },
    {
     "name": "stdout",
     "output_type": "stream",
     "text": [
      "Epoch 5/10 | Train Loss: 0.3913 | Val Loss: 1.1977 | Val Acc: 0.6368 | Time: 96.96s\n"
     ]
    },
    {
     "name": "stderr",
     "output_type": "stream",
     "text": [
      "2025-06-21 11:26:34,382 - Epoch 6/10 | Train Loss: 0.2485 | Val Loss: 1.3455 | Val Acc: 0.6425 | Time: 102.27s\n"
     ]
    },
    {
     "name": "stdout",
     "output_type": "stream",
     "text": [
      "Epoch 6/10 | Train Loss: 0.2485 | Val Loss: 1.3455 | Val Acc: 0.6425 | Time: 102.27s\n"
     ]
    },
    {
     "name": "stderr",
     "output_type": "stream",
     "text": [
      "2025-06-21 11:28:15,045 - Epoch 7/10 | Train Loss: 0.1683 | Val Loss: 1.6150 | Val Acc: 0.6367 | Time: 100.66s\n"
     ]
    },
    {
     "name": "stdout",
     "output_type": "stream",
     "text": [
      "Epoch 7/10 | Train Loss: 0.1683 | Val Loss: 1.6150 | Val Acc: 0.6367 | Time: 100.66s\n"
     ]
    },
    {
     "name": "stderr",
     "output_type": "stream",
     "text": [
      "2025-06-21 11:29:56,000 - Epoch 8/10 | Train Loss: 0.1271 | Val Loss: 1.7621 | Val Acc: 0.6361 | Time: 100.95s\n"
     ]
    },
    {
     "name": "stdout",
     "output_type": "stream",
     "text": [
      "Epoch 8/10 | Train Loss: 0.1271 | Val Loss: 1.7621 | Val Acc: 0.6361 | Time: 100.95s\n"
     ]
    },
    {
     "name": "stderr",
     "output_type": "stream",
     "text": [
      "2025-06-21 11:31:36,801 - Epoch 9/10 | Train Loss: 0.1290 | Val Loss: 1.8427 | Val Acc: 0.6353 | Time: 100.80s\n"
     ]
    },
    {
     "name": "stdout",
     "output_type": "stream",
     "text": [
      "Epoch 9/10 | Train Loss: 0.1290 | Val Loss: 1.8427 | Val Acc: 0.6353 | Time: 100.80s\n"
     ]
    },
    {
     "name": "stderr",
     "output_type": "stream",
     "text": [
      "2025-06-21 11:33:17,678 - Epoch 10/10 | Train Loss: 0.0974 | Val Loss: 1.8145 | Val Acc: 0.6425 | Time: 100.87s\n",
      "2025-06-21 11:33:17,679 - ✅ Logging finalizado.\n",
      "2025-06-21 11:33:17,707 - Entrenamiento completo. Guardando modelo final...\n",
      "2025-06-21 11:33:17,708 - ✅ Logging finalizado.\n",
      "[I 2025-06-21 11:33:17,710] Trial 1 finished with value: 0.6425188074672611 and parameters: {'batch_size': 64, 'lr': 0.00011320323818566476}. Best is trial 1 with value: 0.6425188074672611.\n",
      "mobilenet:  20%|██        | 2/10 [34:16<2:16:17, 1022.18s/it]"
     ]
    },
    {
     "name": "stdout",
     "output_type": "stream",
     "text": [
      "Epoch 10/10 | Train Loss: 0.0974 | Val Loss: 1.8145 | Val Acc: 0.6425 | Time: 100.87s\n"
     ]
    },
    {
     "name": "stderr",
     "output_type": "stream",
     "text": [
      "2025-06-21 11:33:17,896 - 📄 Trial parameters saved to /home/exodia/NAO/data/kers2013/../../notebooks/logs/mobilenet_trial2/20250621_113317_params.txt\n",
      "2025-06-21 11:33:17,897 - 📁 Training log created for model: mobilenet_trial2\n",
      "2025-06-21 11:33:17,897 - 📄 Logs will be saved to /home/exodia/NAO/data/kers2013/../../notebooks/logs/mobilenet_trial2/20250621_113317.log\n",
      "2025-06-21 11:33:17,897 - 📄 CSV will be saved to /home/exodia/NAO/data/kers2013/../../notebooks/logs/mobilenet_trial2/20250621_113317.csv\n",
      "2025-06-21 11:35:02,873 - Epoch 1/10 | Train Loss: 1.1480 | Val Loss: 1.0289 | Val Acc: 0.6135 | Time: 104.89s\n"
     ]
    },
    {
     "name": "stdout",
     "output_type": "stream",
     "text": [
      "Epoch 1/10 | Train Loss: 1.1480 | Val Loss: 1.0289 | Val Acc: 0.6135 | Time: 104.89s\n"
     ]
    },
    {
     "name": "stderr",
     "output_type": "stream",
     "text": [
      "2025-06-21 11:36:40,859 - Epoch 2/10 | Train Loss: 0.9416 | Val Loss: 0.9577 | Val Acc: 0.6410 | Time: 97.98s\n"
     ]
    },
    {
     "name": "stdout",
     "output_type": "stream",
     "text": [
      "Epoch 2/10 | Train Loss: 0.9416 | Val Loss: 0.9577 | Val Acc: 0.6410 | Time: 97.98s\n"
     ]
    },
    {
     "name": "stderr",
     "output_type": "stream",
     "text": [
      "2025-06-21 11:38:31,267 - Epoch 3/10 | Train Loss: 0.8298 | Val Loss: 1.0061 | Val Acc: 0.6438 | Time: 110.41s\n"
     ]
    },
    {
     "name": "stdout",
     "output_type": "stream",
     "text": [
      "Epoch 3/10 | Train Loss: 0.8298 | Val Loss: 1.0061 | Val Acc: 0.6438 | Time: 110.41s\n"
     ]
    },
    {
     "name": "stderr",
     "output_type": "stream",
     "text": [
      "2025-06-21 11:40:17,289 - Epoch 4/10 | Train Loss: 0.7348 | Val Loss: 1.0275 | Val Acc: 0.6287 | Time: 106.02s\n"
     ]
    },
    {
     "name": "stdout",
     "output_type": "stream",
     "text": [
      "Epoch 4/10 | Train Loss: 0.7348 | Val Loss: 1.0275 | Val Acc: 0.6287 | Time: 106.02s\n"
     ]
    },
    {
     "name": "stderr",
     "output_type": "stream",
     "text": [
      "2025-06-21 11:41:58,014 - Epoch 5/10 | Train Loss: 0.6419 | Val Loss: 1.0356 | Val Acc: 0.6434 | Time: 100.72s\n"
     ]
    },
    {
     "name": "stdout",
     "output_type": "stream",
     "text": [
      "Epoch 5/10 | Train Loss: 0.6419 | Val Loss: 1.0356 | Val Acc: 0.6434 | Time: 100.72s\n"
     ]
    },
    {
     "name": "stderr",
     "output_type": "stream",
     "text": [
      "2025-06-21 11:43:37,344 - Epoch 6/10 | Train Loss: 0.5544 | Val Loss: 1.0629 | Val Acc: 0.6477 | Time: 99.33s\n"
     ]
    },
    {
     "name": "stdout",
     "output_type": "stream",
     "text": [
      "Epoch 6/10 | Train Loss: 0.5544 | Val Loss: 1.0629 | Val Acc: 0.6477 | Time: 99.33s\n"
     ]
    },
    {
     "name": "stderr",
     "output_type": "stream",
     "text": [
      "2025-06-21 11:45:15,506 - Epoch 7/10 | Train Loss: 0.4735 | Val Loss: 1.0863 | Val Acc: 0.6510 | Time: 98.16s\n"
     ]
    },
    {
     "name": "stdout",
     "output_type": "stream",
     "text": [
      "Epoch 7/10 | Train Loss: 0.4735 | Val Loss: 1.0863 | Val Acc: 0.6510 | Time: 98.16s\n"
     ]
    },
    {
     "name": "stderr",
     "output_type": "stream",
     "text": [
      "2025-06-21 11:46:53,974 - Epoch 8/10 | Train Loss: 0.3893 | Val Loss: 1.2286 | Val Acc: 0.6468 | Time: 98.47s\n"
     ]
    },
    {
     "name": "stdout",
     "output_type": "stream",
     "text": [
      "Epoch 8/10 | Train Loss: 0.3893 | Val Loss: 1.2286 | Val Acc: 0.6468 | Time: 98.47s\n"
     ]
    },
    {
     "name": "stderr",
     "output_type": "stream",
     "text": [
      "2025-06-21 11:48:33,136 - Epoch 9/10 | Train Loss: 0.3320 | Val Loss: 1.3152 | Val Acc: 0.6439 | Time: 99.16s\n"
     ]
    },
    {
     "name": "stdout",
     "output_type": "stream",
     "text": [
      "Epoch 9/10 | Train Loss: 0.3320 | Val Loss: 1.3152 | Val Acc: 0.6439 | Time: 99.16s\n"
     ]
    },
    {
     "name": "stderr",
     "output_type": "stream",
     "text": [
      "2025-06-21 11:50:10,874 - Epoch 10/10 | Train Loss: 0.2758 | Val Loss: 1.3243 | Val Acc: 0.6468 | Time: 97.74s\n",
      "2025-06-21 11:50:10,876 - ✅ Logging finalizado.\n",
      "2025-06-21 11:50:10,896 - Entrenamiento completo. Guardando modelo final...\n",
      "2025-06-21 11:50:10,898 - ✅ Logging finalizado.\n",
      "[I 2025-06-21 11:50:10,904] Trial 2 finished with value: 0.6468375592086932 and parameters: {'batch_size': 64, 'lr': 0.00043794847561630986}. Best is trial 2 with value: 0.6468375592086932.\n",
      "mobilenet:  30%|███       | 3/10 [51:09<1:58:46, 1018.08s/it]"
     ]
    },
    {
     "name": "stdout",
     "output_type": "stream",
     "text": [
      "Epoch 10/10 | Train Loss: 0.2758 | Val Loss: 1.3243 | Val Acc: 0.6468 | Time: 97.74s\n"
     ]
    },
    {
     "name": "stderr",
     "output_type": "stream",
     "text": [
      "2025-06-21 11:50:11,095 - 📄 Trial parameters saved to /home/exodia/NAO/data/kers2013/../../notebooks/logs/mobilenet_trial3/20250621_115011_params.txt\n",
      "2025-06-21 11:50:11,095 - 📁 Training log created for model: mobilenet_trial3\n",
      "2025-06-21 11:50:11,096 - 📄 Logs will be saved to /home/exodia/NAO/data/kers2013/../../notebooks/logs/mobilenet_trial3/20250621_115011.log\n",
      "2025-06-21 11:50:11,096 - 📄 CSV will be saved to /home/exodia/NAO/data/kers2013/../../notebooks/logs/mobilenet_trial3/20250621_115011.csv\n",
      "2025-06-21 11:51:42,812 - Epoch 1/10 | Train Loss: 1.1828 | Val Loss: 1.0855 | Val Acc: 0.5901 | Time: 91.63s\n"
     ]
    },
    {
     "name": "stdout",
     "output_type": "stream",
     "text": [
      "Epoch 1/10 | Train Loss: 1.1828 | Val Loss: 1.0855 | Val Acc: 0.5901 | Time: 91.63s\n"
     ]
    },
    {
     "name": "stderr",
     "output_type": "stream",
     "text": [
      "2025-06-21 11:53:14,798 - Epoch 2/10 | Train Loss: 1.0070 | Val Loss: 1.0447 | Val Acc: 0.5986 | Time: 91.99s\n"
     ]
    },
    {
     "name": "stdout",
     "output_type": "stream",
     "text": [
      "Epoch 2/10 | Train Loss: 1.0070 | Val Loss: 1.0447 | Val Acc: 0.5986 | Time: 91.99s\n"
     ]
    },
    {
     "name": "stderr",
     "output_type": "stream",
     "text": [
      "2025-06-21 11:54:49,736 - Epoch 3/10 | Train Loss: 0.9120 | Val Loss: 1.0342 | Val Acc: 0.6193 | Time: 94.94s\n"
     ]
    },
    {
     "name": "stdout",
     "output_type": "stream",
     "text": [
      "Epoch 3/10 | Train Loss: 0.9120 | Val Loss: 1.0342 | Val Acc: 0.6193 | Time: 94.94s\n"
     ]
    },
    {
     "name": "stderr",
     "output_type": "stream",
     "text": [
      "2025-06-21 11:56:21,391 - Epoch 4/10 | Train Loss: 0.8502 | Val Loss: 0.9922 | Val Acc: 0.6408 | Time: 91.65s\n"
     ]
    },
    {
     "name": "stdout",
     "output_type": "stream",
     "text": [
      "Epoch 4/10 | Train Loss: 0.8502 | Val Loss: 0.9922 | Val Acc: 0.6408 | Time: 91.65s\n"
     ]
    },
    {
     "name": "stderr",
     "output_type": "stream",
     "text": [
      "2025-06-21 11:57:55,304 - Epoch 5/10 | Train Loss: 0.7757 | Val Loss: 0.9780 | Val Acc: 0.6459 | Time: 93.91s\n"
     ]
    },
    {
     "name": "stdout",
     "output_type": "stream",
     "text": [
      "Epoch 5/10 | Train Loss: 0.7757 | Val Loss: 0.9780 | Val Acc: 0.6459 | Time: 93.91s\n"
     ]
    },
    {
     "name": "stderr",
     "output_type": "stream",
     "text": [
      "2025-06-21 11:59:31,775 - Epoch 6/10 | Train Loss: 0.7100 | Val Loss: 1.0111 | Val Acc: 0.6365 | Time: 96.47s\n"
     ]
    },
    {
     "name": "stdout",
     "output_type": "stream",
     "text": [
      "Epoch 6/10 | Train Loss: 0.7100 | Val Loss: 1.0111 | Val Acc: 0.6365 | Time: 96.47s\n"
     ]
    },
    {
     "name": "stderr",
     "output_type": "stream",
     "text": [
      "2025-06-21 12:01:07,953 - Epoch 7/10 | Train Loss: 0.6288 | Val Loss: 1.0713 | Val Acc: 0.6460 | Time: 96.18s\n"
     ]
    },
    {
     "name": "stdout",
     "output_type": "stream",
     "text": [
      "Epoch 7/10 | Train Loss: 0.6288 | Val Loss: 1.0713 | Val Acc: 0.6460 | Time: 96.18s\n"
     ]
    },
    {
     "name": "stderr",
     "output_type": "stream",
     "text": [
      "2025-06-21 12:02:46,413 - Epoch 8/10 | Train Loss: 0.5655 | Val Loss: 1.0346 | Val Acc: 0.6463 | Time: 98.46s\n"
     ]
    },
    {
     "name": "stdout",
     "output_type": "stream",
     "text": [
      "Epoch 8/10 | Train Loss: 0.5655 | Val Loss: 1.0346 | Val Acc: 0.6463 | Time: 98.46s\n"
     ]
    },
    {
     "name": "stderr",
     "output_type": "stream",
     "text": [
      "2025-06-21 12:04:24,686 - Epoch 9/10 | Train Loss: 0.4974 | Val Loss: 1.1107 | Val Acc: 0.6546 | Time: 98.27s\n"
     ]
    },
    {
     "name": "stdout",
     "output_type": "stream",
     "text": [
      "Epoch 9/10 | Train Loss: 0.4974 | Val Loss: 1.1107 | Val Acc: 0.6546 | Time: 98.27s\n"
     ]
    },
    {
     "name": "stderr",
     "output_type": "stream",
     "text": [
      "2025-06-21 12:05:58,500 - Epoch 10/10 | Train Loss: 0.4326 | Val Loss: 1.3117 | Val Acc: 0.6424 | Time: 93.81s\n",
      "2025-06-21 12:05:58,501 - ✅ Logging finalizado.\n",
      "2025-06-21 12:05:58,526 - Entrenamiento completo. Guardando modelo final...\n",
      "2025-06-21 12:05:58,527 - ✅ Logging finalizado.\n",
      "[I 2025-06-21 12:05:58,528] Trial 3 finished with value: 0.6423794928949569 and parameters: {'batch_size': 32, 'lr': 0.0005197826516492797}. Best is trial 2 with value: 0.6468375592086932.\n",
      "mobilenet:  40%|████      | 4/10 [1:06:57<1:39:01, 990.26s/it]2025-06-21 12:05:58,670 - 📄 Trial parameters saved to /home/exodia/NAO/data/kers2013/../../notebooks/logs/mobilenet_trial4/20250621_120558_params.txt\n",
      "2025-06-21 12:05:58,671 - 📁 Training log created for model: mobilenet_trial4\n",
      "2025-06-21 12:05:58,671 - 📄 Logs will be saved to /home/exodia/NAO/data/kers2013/../../notebooks/logs/mobilenet_trial4/20250621_120558.log\n",
      "2025-06-21 12:05:58,672 - 📄 CSV will be saved to /home/exodia/NAO/data/kers2013/../../notebooks/logs/mobilenet_trial4/20250621_120558.csv\n"
     ]
    },
    {
     "name": "stdout",
     "output_type": "stream",
     "text": [
      "Epoch 10/10 | Train Loss: 0.4326 | Val Loss: 1.3117 | Val Acc: 0.6424 | Time: 93.81s\n"
     ]
    },
    {
     "name": "stderr",
     "output_type": "stream",
     "text": [
      "2025-06-21 12:07:30,739 - Epoch 1/10 | Train Loss: 1.1647 | Val Loss: 1.0309 | Val Acc: 0.6048 | Time: 91.99s\n"
     ]
    },
    {
     "name": "stdout",
     "output_type": "stream",
     "text": [
      "Epoch 1/10 | Train Loss: 1.1647 | Val Loss: 1.0309 | Val Acc: 0.6048 | Time: 91.99s\n"
     ]
    },
    {
     "name": "stderr",
     "output_type": "stream",
     "text": [
      "2025-06-21 12:09:02,736 - Epoch 2/10 | Train Loss: 0.9236 | Val Loss: 0.9665 | Val Acc: 0.6385 | Time: 92.00s\n"
     ]
    },
    {
     "name": "stdout",
     "output_type": "stream",
     "text": [
      "Epoch 2/10 | Train Loss: 0.9236 | Val Loss: 0.9665 | Val Acc: 0.6385 | Time: 92.00s\n"
     ]
    },
    {
     "name": "stderr",
     "output_type": "stream",
     "text": [
      "2025-06-21 12:10:34,683 - Epoch 3/10 | Train Loss: 0.7938 | Val Loss: 0.9548 | Val Acc: 0.6509 | Time: 91.95s\n"
     ]
    },
    {
     "name": "stdout",
     "output_type": "stream",
     "text": [
      "Epoch 3/10 | Train Loss: 0.7938 | Val Loss: 0.9548 | Val Acc: 0.6509 | Time: 91.95s\n"
     ]
    },
    {
     "name": "stderr",
     "output_type": "stream",
     "text": [
      "2025-06-21 12:12:06,352 - Epoch 4/10 | Train Loss: 0.6627 | Val Loss: 1.0360 | Val Acc: 0.6364 | Time: 91.67s\n"
     ]
    },
    {
     "name": "stdout",
     "output_type": "stream",
     "text": [
      "Epoch 4/10 | Train Loss: 0.6627 | Val Loss: 1.0360 | Val Acc: 0.6364 | Time: 91.67s\n"
     ]
    },
    {
     "name": "stderr",
     "output_type": "stream",
     "text": [
      "2025-06-21 12:13:38,307 - Epoch 5/10 | Train Loss: 0.5307 | Val Loss: 1.0817 | Val Acc: 0.6599 | Time: 91.95s\n"
     ]
    },
    {
     "name": "stdout",
     "output_type": "stream",
     "text": [
      "Epoch 5/10 | Train Loss: 0.5307 | Val Loss: 1.0817 | Val Acc: 0.6599 | Time: 91.95s\n"
     ]
    },
    {
     "name": "stderr",
     "output_type": "stream",
     "text": [
      "2025-06-21 12:15:10,406 - Epoch 6/10 | Train Loss: 0.4060 | Val Loss: 1.1670 | Val Acc: 0.6549 | Time: 92.10s\n"
     ]
    },
    {
     "name": "stdout",
     "output_type": "stream",
     "text": [
      "Epoch 6/10 | Train Loss: 0.4060 | Val Loss: 1.1670 | Val Acc: 0.6549 | Time: 92.10s\n"
     ]
    },
    {
     "name": "stderr",
     "output_type": "stream",
     "text": [
      "2025-06-21 12:16:42,176 - Epoch 7/10 | Train Loss: 0.3190 | Val Loss: 1.3230 | Val Acc: 0.6484 | Time: 91.77s\n"
     ]
    },
    {
     "name": "stdout",
     "output_type": "stream",
     "text": [
      "Epoch 7/10 | Train Loss: 0.3190 | Val Loss: 1.3230 | Val Acc: 0.6484 | Time: 91.77s\n"
     ]
    },
    {
     "name": "stderr",
     "output_type": "stream",
     "text": [
      "2025-06-21 12:18:14,080 - Epoch 8/10 | Train Loss: 0.2406 | Val Loss: 1.4782 | Val Acc: 0.6411 | Time: 91.90s\n"
     ]
    },
    {
     "name": "stdout",
     "output_type": "stream",
     "text": [
      "Epoch 8/10 | Train Loss: 0.2406 | Val Loss: 1.4782 | Val Acc: 0.6411 | Time: 91.90s\n"
     ]
    },
    {
     "name": "stderr",
     "output_type": "stream",
     "text": [
      "2025-06-21 12:19:46,041 - Epoch 9/10 | Train Loss: 0.2168 | Val Loss: 1.5050 | Val Acc: 0.6514 | Time: 91.96s\n"
     ]
    },
    {
     "name": "stdout",
     "output_type": "stream",
     "text": [
      "Epoch 9/10 | Train Loss: 0.2168 | Val Loss: 1.5050 | Val Acc: 0.6514 | Time: 91.96s\n"
     ]
    },
    {
     "name": "stderr",
     "output_type": "stream",
     "text": [
      "2025-06-21 12:21:18,119 - Epoch 10/10 | Train Loss: 0.1785 | Val Loss: 1.6332 | Val Acc: 0.6520 | Time: 92.08s\n",
      "2025-06-21 12:21:18,120 - ✅ Logging finalizado.\n",
      "2025-06-21 12:21:18,143 - Entrenamiento completo. Guardando modelo final...\n",
      "2025-06-21 12:21:18,143 - ✅ Logging finalizado.\n",
      "[I 2025-06-21 12:21:18,145] Trial 4 finished with value: 0.6519921983839511 and parameters: {'batch_size': 32, 'lr': 0.00016939458548925006}. Best is trial 4 with value: 0.6519921983839511.\n",
      "mobilenet:  50%|█████     | 5/10 [1:22:17<1:20:23, 964.79s/it]2025-06-21 12:21:18,286 - 📄 Trial parameters saved to /home/exodia/NAO/data/kers2013/../../notebooks/logs/mobilenet_trial5/20250621_122118_params.txt\n",
      "2025-06-21 12:21:18,286 - 📁 Training log created for model: mobilenet_trial5\n",
      "2025-06-21 12:21:18,287 - 📄 Logs will be saved to /home/exodia/NAO/data/kers2013/../../notebooks/logs/mobilenet_trial5/20250621_122118.log\n",
      "2025-06-21 12:21:18,287 - 📄 CSV will be saved to /home/exodia/NAO/data/kers2013/../../notebooks/logs/mobilenet_trial5/20250621_122118.csv\n"
     ]
    },
    {
     "name": "stdout",
     "output_type": "stream",
     "text": [
      "Epoch 10/10 | Train Loss: 0.1785 | Val Loss: 1.6332 | Val Acc: 0.6520 | Time: 92.08s\n"
     ]
    },
    {
     "name": "stderr",
     "output_type": "stream",
     "text": [
      "2025-06-21 12:22:59,026 - Epoch 1/10 | Train Loss: 1.1589 | Val Loss: 1.0837 | Val Acc: 0.6011 | Time: 100.66s\n"
     ]
    },
    {
     "name": "stdout",
     "output_type": "stream",
     "text": [
      "Epoch 1/10 | Train Loss: 1.1589 | Val Loss: 1.0837 | Val Acc: 0.6011 | Time: 100.66s\n"
     ]
    },
    {
     "name": "stderr",
     "output_type": "stream",
     "text": [
      "2025-06-21 12:24:39,633 - Epoch 2/10 | Train Loss: 0.9517 | Val Loss: 0.9650 | Val Acc: 0.6400 | Time: 100.60s\n"
     ]
    },
    {
     "name": "stdout",
     "output_type": "stream",
     "text": [
      "Epoch 2/10 | Train Loss: 0.9517 | Val Loss: 0.9650 | Val Acc: 0.6400 | Time: 100.60s\n"
     ]
    },
    {
     "name": "stderr",
     "output_type": "stream",
     "text": [
      "2025-06-21 12:26:20,484 - Epoch 3/10 | Train Loss: 0.8411 | Val Loss: 0.9470 | Val Acc: 0.6415 | Time: 100.85s\n"
     ]
    },
    {
     "name": "stdout",
     "output_type": "stream",
     "text": [
      "Epoch 3/10 | Train Loss: 0.8411 | Val Loss: 0.9470 | Val Acc: 0.6415 | Time: 100.85s\n"
     ]
    },
    {
     "name": "stderr",
     "output_type": "stream",
     "text": [
      "2025-06-21 12:28:01,280 - Epoch 4/10 | Train Loss: 0.7607 | Val Loss: 0.9557 | Val Acc: 0.6505 | Time: 100.80s\n"
     ]
    },
    {
     "name": "stdout",
     "output_type": "stream",
     "text": [
      "Epoch 4/10 | Train Loss: 0.7607 | Val Loss: 0.9557 | Val Acc: 0.6505 | Time: 100.80s\n"
     ]
    },
    {
     "name": "stderr",
     "output_type": "stream",
     "text": [
      "2025-06-21 12:29:42,133 - Epoch 5/10 | Train Loss: 0.6696 | Val Loss: 1.0046 | Val Acc: 0.6502 | Time: 100.85s\n"
     ]
    },
    {
     "name": "stdout",
     "output_type": "stream",
     "text": [
      "Epoch 5/10 | Train Loss: 0.6696 | Val Loss: 1.0046 | Val Acc: 0.6502 | Time: 100.85s\n"
     ]
    },
    {
     "name": "stderr",
     "output_type": "stream",
     "text": [
      "2025-06-21 12:31:23,058 - Epoch 6/10 | Train Loss: 0.5824 | Val Loss: 1.0243 | Val Acc: 0.6493 | Time: 100.92s\n"
     ]
    },
    {
     "name": "stdout",
     "output_type": "stream",
     "text": [
      "Epoch 6/10 | Train Loss: 0.5824 | Val Loss: 1.0243 | Val Acc: 0.6493 | Time: 100.92s\n"
     ]
    },
    {
     "name": "stderr",
     "output_type": "stream",
     "text": [
      "2025-06-21 12:33:04,268 - Epoch 7/10 | Train Loss: 0.4966 | Val Loss: 1.1252 | Val Acc: 0.6445 | Time: 101.21s\n"
     ]
    },
    {
     "name": "stdout",
     "output_type": "stream",
     "text": [
      "Epoch 7/10 | Train Loss: 0.4966 | Val Loss: 1.1252 | Val Acc: 0.6445 | Time: 101.21s\n"
     ]
    },
    {
     "name": "stderr",
     "output_type": "stream",
     "text": [
      "2025-06-21 12:34:45,206 - Epoch 8/10 | Train Loss: 0.4243 | Val Loss: 1.1677 | Val Acc: 0.6553 | Time: 100.94s\n"
     ]
    },
    {
     "name": "stdout",
     "output_type": "stream",
     "text": [
      "Epoch 8/10 | Train Loss: 0.4243 | Val Loss: 1.1677 | Val Acc: 0.6553 | Time: 100.94s\n"
     ]
    },
    {
     "name": "stderr",
     "output_type": "stream",
     "text": [
      "2025-06-21 12:36:25,996 - Epoch 9/10 | Train Loss: 0.3514 | Val Loss: 1.2936 | Val Acc: 0.6495 | Time: 100.79s\n"
     ]
    },
    {
     "name": "stdout",
     "output_type": "stream",
     "text": [
      "Epoch 9/10 | Train Loss: 0.3514 | Val Loss: 1.2936 | Val Acc: 0.6495 | Time: 100.79s\n"
     ]
    },
    {
     "name": "stderr",
     "output_type": "stream",
     "text": [
      "2025-06-21 12:38:07,556 - Epoch 10/10 | Train Loss: 0.2968 | Val Loss: 1.3134 | Val Acc: 0.6459 | Time: 101.56s\n",
      "2025-06-21 12:38:07,561 - ✅ Logging finalizado.\n",
      "2025-06-21 12:38:07,583 - Entrenamiento completo. Guardando modelo final...\n",
      "2025-06-21 12:38:07,584 - ✅ Logging finalizado.\n",
      "[I 2025-06-21 12:38:07,586] Trial 5 finished with value: 0.6458623572025635 and parameters: {'batch_size': 64, 'lr': 0.0004782191803524535}. Best is trial 4 with value: 0.6519921983839511.\n",
      "mobilenet:  60%|██████    | 6/10 [1:39:06<1:05:19, 979.97s/it]"
     ]
    },
    {
     "name": "stdout",
     "output_type": "stream",
     "text": [
      "Epoch 10/10 | Train Loss: 0.2968 | Val Loss: 1.3134 | Val Acc: 0.6459 | Time: 101.56s\n"
     ]
    },
    {
     "name": "stderr",
     "output_type": "stream",
     "text": [
      "2025-06-21 12:38:07,769 - 📄 Trial parameters saved to /home/exodia/NAO/data/kers2013/../../notebooks/logs/mobilenet_trial6/20250621_123807_params.txt\n",
      "2025-06-21 12:38:07,770 - 📁 Training log created for model: mobilenet_trial6\n",
      "2025-06-21 12:38:07,770 - 📄 Logs will be saved to /home/exodia/NAO/data/kers2013/../../notebooks/logs/mobilenet_trial6/20250621_123807.log\n",
      "2025-06-21 12:38:07,770 - 📄 CSV will be saved to /home/exodia/NAO/data/kers2013/../../notebooks/logs/mobilenet_trial6/20250621_123807.csv\n",
      "2025-06-21 12:39:44,917 - Epoch 1/10 | Train Loss: 1.1474 | Val Loss: 1.0288 | Val Acc: 0.6144 | Time: 97.06s\n"
     ]
    },
    {
     "name": "stdout",
     "output_type": "stream",
     "text": [
      "Epoch 1/10 | Train Loss: 1.1474 | Val Loss: 1.0288 | Val Acc: 0.6144 | Time: 97.06s\n"
     ]
    },
    {
     "name": "stderr",
     "output_type": "stream",
     "text": [
      "2025-06-21 12:41:25,495 - Epoch 2/10 | Train Loss: 0.9061 | Val Loss: 0.9394 | Val Acc: 0.6541 | Time: 100.57s\n"
     ]
    },
    {
     "name": "stdout",
     "output_type": "stream",
     "text": [
      "Epoch 2/10 | Train Loss: 0.9061 | Val Loss: 0.9394 | Val Acc: 0.6541 | Time: 100.57s\n"
     ]
    },
    {
     "name": "stderr",
     "output_type": "stream",
     "text": [
      "2025-06-21 12:43:05,178 - Epoch 3/10 | Train Loss: 0.7751 | Val Loss: 1.0211 | Val Acc: 0.6450 | Time: 99.68s\n"
     ]
    },
    {
     "name": "stdout",
     "output_type": "stream",
     "text": [
      "Epoch 3/10 | Train Loss: 0.7751 | Val Loss: 1.0211 | Val Acc: 0.6450 | Time: 99.68s\n"
     ]
    },
    {
     "name": "stderr",
     "output_type": "stream",
     "text": [
      "2025-06-21 12:44:45,274 - Epoch 4/10 | Train Loss: 0.6496 | Val Loss: 1.0103 | Val Acc: 0.6588 | Time: 100.09s\n"
     ]
    },
    {
     "name": "stdout",
     "output_type": "stream",
     "text": [
      "Epoch 4/10 | Train Loss: 0.6496 | Val Loss: 1.0103 | Val Acc: 0.6588 | Time: 100.09s\n"
     ]
    },
    {
     "name": "stderr",
     "output_type": "stream",
     "text": [
      "2025-06-21 12:46:25,294 - Epoch 5/10 | Train Loss: 0.5215 | Val Loss: 1.0689 | Val Acc: 0.6491 | Time: 100.02s\n"
     ]
    },
    {
     "name": "stdout",
     "output_type": "stream",
     "text": [
      "Epoch 5/10 | Train Loss: 0.5215 | Val Loss: 1.0689 | Val Acc: 0.6491 | Time: 100.02s\n"
     ]
    },
    {
     "name": "stderr",
     "output_type": "stream",
     "text": [
      "2025-06-21 12:48:05,680 - Epoch 6/10 | Train Loss: 0.4139 | Val Loss: 1.1782 | Val Acc: 0.6576 | Time: 100.39s\n"
     ]
    },
    {
     "name": "stdout",
     "output_type": "stream",
     "text": [
      "Epoch 6/10 | Train Loss: 0.4139 | Val Loss: 1.1782 | Val Acc: 0.6576 | Time: 100.39s\n"
     ]
    },
    {
     "name": "stderr",
     "output_type": "stream",
     "text": [
      "2025-06-21 12:49:49,919 - Epoch 7/10 | Train Loss: 0.3164 | Val Loss: 1.2408 | Val Acc: 0.6435 | Time: 104.24s\n"
     ]
    },
    {
     "name": "stdout",
     "output_type": "stream",
     "text": [
      "Epoch 7/10 | Train Loss: 0.3164 | Val Loss: 1.2408 | Val Acc: 0.6435 | Time: 104.24s\n"
     ]
    },
    {
     "name": "stderr",
     "output_type": "stream",
     "text": [
      "2025-06-21 12:51:36,555 - Epoch 8/10 | Train Loss: 0.2554 | Val Loss: 1.3643 | Val Acc: 0.6471 | Time: 106.64s\n"
     ]
    },
    {
     "name": "stdout",
     "output_type": "stream",
     "text": [
      "Epoch 8/10 | Train Loss: 0.2554 | Val Loss: 1.3643 | Val Acc: 0.6471 | Time: 106.64s\n"
     ]
    },
    {
     "name": "stderr",
     "output_type": "stream",
     "text": [
      "2025-06-21 12:53:20,711 - Epoch 9/10 | Train Loss: 0.1986 | Val Loss: 1.4676 | Val Acc: 0.6481 | Time: 104.15s\n"
     ]
    },
    {
     "name": "stdout",
     "output_type": "stream",
     "text": [
      "Epoch 9/10 | Train Loss: 0.1986 | Val Loss: 1.4676 | Val Acc: 0.6481 | Time: 104.15s\n"
     ]
    },
    {
     "name": "stderr",
     "output_type": "stream",
     "text": [
      "2025-06-21 12:55:08,946 - Epoch 10/10 | Train Loss: 0.1787 | Val Loss: 1.5945 | Val Acc: 0.6591 | Time: 108.23s\n",
      "2025-06-21 12:55:08,947 - ✅ Logging finalizado.\n",
      "2025-06-21 12:55:08,973 - Entrenamiento completo. Guardando modelo final...\n",
      "2025-06-21 12:55:08,974 - ✅ Logging finalizado.\n",
      "[I 2025-06-21 12:55:08,976] Trial 6 finished with value: 0.6590972415714684 and parameters: {'batch_size': 64, 'lr': 0.0002647020619085978}. Best is trial 6 with value: 0.6590972415714684.\n",
      "mobilenet:  70%|███████   | 7/10 [1:56:07<49:40, 993.51s/it]  "
     ]
    },
    {
     "name": "stdout",
     "output_type": "stream",
     "text": [
      "Epoch 10/10 | Train Loss: 0.1787 | Val Loss: 1.5945 | Val Acc: 0.6591 | Time: 108.23s\n"
     ]
    },
    {
     "name": "stderr",
     "output_type": "stream",
     "text": [
      "2025-06-21 12:55:09,176 - 📄 Trial parameters saved to /home/exodia/NAO/data/kers2013/../../notebooks/logs/mobilenet_trial7/20250621_125509_params.txt\n",
      "2025-06-21 12:55:09,176 - 📁 Training log created for model: mobilenet_trial7\n",
      "2025-06-21 12:55:09,176 - 📄 Logs will be saved to /home/exodia/NAO/data/kers2013/../../notebooks/logs/mobilenet_trial7/20250621_125509.log\n",
      "2025-06-21 12:55:09,177 - 📄 CSV will be saved to /home/exodia/NAO/data/kers2013/../../notebooks/logs/mobilenet_trial7/20250621_125509.csv\n",
      "2025-06-21 12:56:55,441 - Epoch 1/10 | Train Loss: 1.1952 | Val Loss: 1.0650 | Val Acc: 0.6011 | Time: 106.18s\n"
     ]
    },
    {
     "name": "stdout",
     "output_type": "stream",
     "text": [
      "Epoch 1/10 | Train Loss: 1.1952 | Val Loss: 1.0650 | Val Acc: 0.6011 | Time: 106.18s\n"
     ]
    },
    {
     "name": "stderr",
     "output_type": "stream",
     "text": [
      "2025-06-21 12:58:40,403 - Epoch 2/10 | Train Loss: 1.0114 | Val Loss: 1.1003 | Val Acc: 0.6021 | Time: 104.96s\n"
     ]
    },
    {
     "name": "stdout",
     "output_type": "stream",
     "text": [
      "Epoch 2/10 | Train Loss: 1.0114 | Val Loss: 1.1003 | Val Acc: 0.6021 | Time: 104.96s\n"
     ]
    },
    {
     "name": "stderr",
     "output_type": "stream",
     "text": [
      "2025-06-21 13:00:19,009 - Epoch 3/10 | Train Loss: 0.9302 | Val Loss: 0.9785 | Val Acc: 0.6298 | Time: 98.60s\n"
     ]
    },
    {
     "name": "stdout",
     "output_type": "stream",
     "text": [
      "Epoch 3/10 | Train Loss: 0.9302 | Val Loss: 0.9785 | Val Acc: 0.6298 | Time: 98.60s\n"
     ]
    },
    {
     "name": "stderr",
     "output_type": "stream",
     "text": [
      "2025-06-21 13:01:50,199 - Epoch 4/10 | Train Loss: 0.8557 | Val Loss: 0.9793 | Val Acc: 0.6466 | Time: 91.19s\n"
     ]
    },
    {
     "name": "stdout",
     "output_type": "stream",
     "text": [
      "Epoch 4/10 | Train Loss: 0.8557 | Val Loss: 0.9793 | Val Acc: 0.6466 | Time: 91.19s\n"
     ]
    },
    {
     "name": "stderr",
     "output_type": "stream",
     "text": [
      "2025-06-21 13:03:21,270 - Epoch 5/10 | Train Loss: 0.7918 | Val Loss: 1.0107 | Val Acc: 0.6489 | Time: 91.07s\n"
     ]
    },
    {
     "name": "stdout",
     "output_type": "stream",
     "text": [
      "Epoch 5/10 | Train Loss: 0.7918 | Val Loss: 1.0107 | Val Acc: 0.6489 | Time: 91.07s\n"
     ]
    },
    {
     "name": "stderr",
     "output_type": "stream",
     "text": [
      "2025-06-21 13:04:58,802 - Epoch 6/10 | Train Loss: 0.7229 | Val Loss: 0.9901 | Val Acc: 0.6499 | Time: 97.53s\n"
     ]
    },
    {
     "name": "stdout",
     "output_type": "stream",
     "text": [
      "Epoch 6/10 | Train Loss: 0.7229 | Val Loss: 0.9901 | Val Acc: 0.6499 | Time: 97.53s\n"
     ]
    },
    {
     "name": "stderr",
     "output_type": "stream",
     "text": [
      "2025-06-21 13:06:41,547 - Epoch 7/10 | Train Loss: 0.6584 | Val Loss: 1.0110 | Val Acc: 0.6428 | Time: 102.74s\n"
     ]
    },
    {
     "name": "stdout",
     "output_type": "stream",
     "text": [
      "Epoch 7/10 | Train Loss: 0.6584 | Val Loss: 1.0110 | Val Acc: 0.6428 | Time: 102.74s\n"
     ]
    },
    {
     "name": "stderr",
     "output_type": "stream",
     "text": [
      "2025-06-21 13:08:18,470 - Epoch 8/10 | Train Loss: 0.5957 | Val Loss: 1.0377 | Val Acc: 0.6449 | Time: 96.92s\n"
     ]
    },
    {
     "name": "stdout",
     "output_type": "stream",
     "text": [
      "Epoch 8/10 | Train Loss: 0.5957 | Val Loss: 1.0377 | Val Acc: 0.6449 | Time: 96.92s\n"
     ]
    },
    {
     "name": "stderr",
     "output_type": "stream",
     "text": [
      "2025-06-21 13:09:55,117 - Epoch 9/10 | Train Loss: 0.5205 | Val Loss: 1.1103 | Val Acc: 0.6413 | Time: 96.65s\n"
     ]
    },
    {
     "name": "stdout",
     "output_type": "stream",
     "text": [
      "Epoch 9/10 | Train Loss: 0.5205 | Val Loss: 1.1103 | Val Acc: 0.6413 | Time: 96.65s\n"
     ]
    },
    {
     "name": "stderr",
     "output_type": "stream",
     "text": [
      "2025-06-21 13:11:32,046 - Epoch 10/10 | Train Loss: 0.4703 | Val Loss: 1.1345 | Val Acc: 0.6512 | Time: 96.93s\n",
      "2025-06-21 13:11:32,048 - ✅ Logging finalizado.\n",
      "2025-06-21 13:11:32,074 - Entrenamiento completo. Guardando modelo final...\n",
      "2025-06-21 13:11:32,075 - ✅ Logging finalizado.\n",
      "[I 2025-06-21 13:11:32,078] Trial 7 finished with value: 0.6511563109501254 and parameters: {'batch_size': 32, 'lr': 0.0005708601185298057}. Best is trial 6 with value: 0.6590972415714684.\n",
      "mobilenet:  80%|████████  | 8/10 [2:12:31<33:00, 990.20s/it]2025-06-21 13:11:32,233 - 📄 Trial parameters saved to /home/exodia/NAO/data/kers2013/../../notebooks/logs/mobilenet_trial8/20250621_131132_params.txt\n",
      "2025-06-21 13:11:32,234 - 📁 Training log created for model: mobilenet_trial8\n",
      "2025-06-21 13:11:32,234 - 📄 Logs will be saved to /home/exodia/NAO/data/kers2013/../../notebooks/logs/mobilenet_trial8/20250621_131132.log\n",
      "2025-06-21 13:11:32,234 - 📄 CSV will be saved to /home/exodia/NAO/data/kers2013/../../notebooks/logs/mobilenet_trial8/20250621_131132.csv\n"
     ]
    },
    {
     "name": "stdout",
     "output_type": "stream",
     "text": [
      "Epoch 10/10 | Train Loss: 0.4703 | Val Loss: 1.1345 | Val Acc: 0.6512 | Time: 96.93s\n"
     ]
    },
    {
     "name": "stderr",
     "output_type": "stream",
     "text": [
      "2025-06-21 13:13:16,912 - Epoch 1/10 | Train Loss: 1.1677 | Val Loss: 1.0183 | Val Acc: 0.6194 | Time: 104.59s\n"
     ]
    },
    {
     "name": "stdout",
     "output_type": "stream",
     "text": [
      "Epoch 1/10 | Train Loss: 1.1677 | Val Loss: 1.0183 | Val Acc: 0.6194 | Time: 104.59s\n"
     ]
    },
    {
     "name": "stderr",
     "output_type": "stream",
     "text": [
      "2025-06-21 13:15:01,268 - Epoch 2/10 | Train Loss: 0.8961 | Val Loss: 0.9681 | Val Acc: 0.6442 | Time: 104.36s\n"
     ]
    },
    {
     "name": "stdout",
     "output_type": "stream",
     "text": [
      "Epoch 2/10 | Train Loss: 0.8961 | Val Loss: 0.9681 | Val Acc: 0.6442 | Time: 104.36s\n"
     ]
    },
    {
     "name": "stderr",
     "output_type": "stream",
     "text": [
      "2025-06-21 13:16:45,143 - Epoch 3/10 | Train Loss: 0.7385 | Val Loss: 0.9690 | Val Acc: 0.6506 | Time: 103.87s\n"
     ]
    },
    {
     "name": "stdout",
     "output_type": "stream",
     "text": [
      "Epoch 3/10 | Train Loss: 0.7385 | Val Loss: 0.9690 | Val Acc: 0.6506 | Time: 103.87s\n"
     ]
    },
    {
     "name": "stderr",
     "output_type": "stream",
     "text": [
      "2025-06-21 13:18:26,243 - Epoch 4/10 | Train Loss: 0.5728 | Val Loss: 1.0614 | Val Acc: 0.6471 | Time: 101.10s\n"
     ]
    },
    {
     "name": "stdout",
     "output_type": "stream",
     "text": [
      "Epoch 4/10 | Train Loss: 0.5728 | Val Loss: 1.0614 | Val Acc: 0.6471 | Time: 101.10s\n"
     ]
    },
    {
     "name": "stderr",
     "output_type": "stream",
     "text": [
      "2025-06-21 13:20:07,266 - Epoch 5/10 | Train Loss: 0.4130 | Val Loss: 1.1948 | Val Acc: 0.6505 | Time: 101.02s\n"
     ]
    },
    {
     "name": "stdout",
     "output_type": "stream",
     "text": [
      "Epoch 5/10 | Train Loss: 0.4130 | Val Loss: 1.1948 | Val Acc: 0.6505 | Time: 101.02s\n"
     ]
    },
    {
     "name": "stderr",
     "output_type": "stream",
     "text": [
      "2025-06-21 13:21:47,870 - Epoch 6/10 | Train Loss: 0.2896 | Val Loss: 1.3078 | Val Acc: 0.6393 | Time: 100.60s\n"
     ]
    },
    {
     "name": "stdout",
     "output_type": "stream",
     "text": [
      "Epoch 6/10 | Train Loss: 0.2896 | Val Loss: 1.3078 | Val Acc: 0.6393 | Time: 100.60s\n"
     ]
    },
    {
     "name": "stderr",
     "output_type": "stream",
     "text": [
      "2025-06-21 13:23:29,145 - Epoch 7/10 | Train Loss: 0.2152 | Val Loss: 1.4911 | Val Acc: 0.6408 | Time: 101.27s\n"
     ]
    },
    {
     "name": "stdout",
     "output_type": "stream",
     "text": [
      "Epoch 7/10 | Train Loss: 0.2152 | Val Loss: 1.4911 | Val Acc: 0.6408 | Time: 101.27s\n"
     ]
    },
    {
     "name": "stderr",
     "output_type": "stream",
     "text": [
      "2025-06-21 13:25:10,998 - Epoch 8/10 | Train Loss: 0.1550 | Val Loss: 1.6083 | Val Acc: 0.6390 | Time: 101.85s\n"
     ]
    },
    {
     "name": "stdout",
     "output_type": "stream",
     "text": [
      "Epoch 8/10 | Train Loss: 0.1550 | Val Loss: 1.6083 | Val Acc: 0.6390 | Time: 101.85s\n"
     ]
    },
    {
     "name": "stderr",
     "output_type": "stream",
     "text": [
      "2025-06-21 13:26:52,226 - Epoch 9/10 | Train Loss: 0.1440 | Val Loss: 1.6847 | Val Acc: 0.6475 | Time: 101.23s\n"
     ]
    },
    {
     "name": "stdout",
     "output_type": "stream",
     "text": [
      "Epoch 9/10 | Train Loss: 0.1440 | Val Loss: 1.6847 | Val Acc: 0.6475 | Time: 101.23s\n"
     ]
    },
    {
     "name": "stderr",
     "output_type": "stream",
     "text": [
      "2025-06-21 13:28:33,220 - Epoch 10/10 | Train Loss: 0.1264 | Val Loss: 1.8058 | Val Acc: 0.6493 | Time: 100.99s\n",
      "2025-06-21 13:28:33,222 - ✅ Logging finalizado.\n",
      "2025-06-21 13:28:33,249 - Entrenamiento completo. Guardando modelo final...\n",
      "2025-06-21 13:28:33,249 - ✅ Logging finalizado.\n",
      "[I 2025-06-21 13:28:33,251] Trial 8 finished with value: 0.64934522151017 and parameters: {'batch_size': 64, 'lr': 0.00016541913354061548}. Best is trial 6 with value: 0.6590972415714684.\n",
      "mobilenet:  90%|█████████ | 9/10 [2:29:32<16:39, 999.88s/it]"
     ]
    },
    {
     "name": "stdout",
     "output_type": "stream",
     "text": [
      "Epoch 10/10 | Train Loss: 0.1264 | Val Loss: 1.8058 | Val Acc: 0.6493 | Time: 100.99s\n"
     ]
    },
    {
     "name": "stderr",
     "output_type": "stream",
     "text": [
      "2025-06-21 13:28:33,440 - 📄 Trial parameters saved to /home/exodia/NAO/data/kers2013/../../notebooks/logs/mobilenet_trial9/20250621_132833_params.txt\n",
      "2025-06-21 13:28:33,440 - 📁 Training log created for model: mobilenet_trial9\n",
      "2025-06-21 13:28:33,441 - 📄 Logs will be saved to /home/exodia/NAO/data/kers2013/../../notebooks/logs/mobilenet_trial9/20250621_132833.log\n",
      "2025-06-21 13:28:33,441 - 📄 CSV will be saved to /home/exodia/NAO/data/kers2013/../../notebooks/logs/mobilenet_trial9/20250621_132833.csv\n",
      "2025-06-21 13:30:05,333 - Epoch 1/10 | Train Loss: 1.1829 | Val Loss: 1.0438 | Val Acc: 0.6011 | Time: 91.81s\n"
     ]
    },
    {
     "name": "stdout",
     "output_type": "stream",
     "text": [
      "Epoch 1/10 | Train Loss: 1.1829 | Val Loss: 1.0438 | Val Acc: 0.6011 | Time: 91.81s\n"
     ]
    },
    {
     "name": "stderr",
     "output_type": "stream",
     "text": [
      "2025-06-21 13:31:37,352 - Epoch 2/10 | Train Loss: 0.9921 | Val Loss: 1.0499 | Val Acc: 0.6080 | Time: 92.02s\n"
     ]
    },
    {
     "name": "stdout",
     "output_type": "stream",
     "text": [
      "Epoch 2/10 | Train Loss: 0.9921 | Val Loss: 1.0499 | Val Acc: 0.6080 | Time: 92.02s\n"
     ]
    },
    {
     "name": "stderr",
     "output_type": "stream",
     "text": [
      "2025-06-21 13:33:08,994 - Epoch 3/10 | Train Loss: 0.9005 | Val Loss: 0.9818 | Val Acc: 0.6400 | Time: 91.64s\n"
     ]
    },
    {
     "name": "stdout",
     "output_type": "stream",
     "text": [
      "Epoch 3/10 | Train Loss: 0.9005 | Val Loss: 0.9818 | Val Acc: 0.6400 | Time: 91.64s\n"
     ]
    },
    {
     "name": "stderr",
     "output_type": "stream",
     "text": [
      "2025-06-21 13:34:40,865 - Epoch 4/10 | Train Loss: 0.8283 | Val Loss: 0.9869 | Val Acc: 0.6466 | Time: 91.87s\n"
     ]
    },
    {
     "name": "stdout",
     "output_type": "stream",
     "text": [
      "Epoch 4/10 | Train Loss: 0.8283 | Val Loss: 0.9869 | Val Acc: 0.6466 | Time: 91.87s\n"
     ]
    },
    {
     "name": "stderr",
     "output_type": "stream",
     "text": [
      "2025-06-21 13:36:12,477 - Epoch 5/10 | Train Loss: 0.7521 | Val Loss: 0.9590 | Val Acc: 0.6503 | Time: 91.61s\n"
     ]
    },
    {
     "name": "stdout",
     "output_type": "stream",
     "text": [
      "Epoch 5/10 | Train Loss: 0.7521 | Val Loss: 0.9590 | Val Acc: 0.6503 | Time: 91.61s\n"
     ]
    },
    {
     "name": "stderr",
     "output_type": "stream",
     "text": [
      "2025-06-21 13:37:44,471 - Epoch 6/10 | Train Loss: 0.6760 | Val Loss: 0.9767 | Val Acc: 0.6569 | Time: 91.99s\n"
     ]
    },
    {
     "name": "stdout",
     "output_type": "stream",
     "text": [
      "Epoch 6/10 | Train Loss: 0.6760 | Val Loss: 0.9767 | Val Acc: 0.6569 | Time: 91.99s\n"
     ]
    },
    {
     "name": "stderr",
     "output_type": "stream",
     "text": [
      "2025-06-21 13:39:16,213 - Epoch 7/10 | Train Loss: 0.6038 | Val Loss: 1.0075 | Val Acc: 0.6599 | Time: 91.74s\n"
     ]
    },
    {
     "name": "stdout",
     "output_type": "stream",
     "text": [
      "Epoch 7/10 | Train Loss: 0.6038 | Val Loss: 1.0075 | Val Acc: 0.6599 | Time: 91.74s\n"
     ]
    },
    {
     "name": "stderr",
     "output_type": "stream",
     "text": [
      "2025-06-21 13:40:49,364 - Epoch 8/10 | Train Loss: 0.5237 | Val Loss: 1.1050 | Val Acc: 0.6500 | Time: 93.15s\n"
     ]
    },
    {
     "name": "stdout",
     "output_type": "stream",
     "text": [
      "Epoch 8/10 | Train Loss: 0.5237 | Val Loss: 1.1050 | Val Acc: 0.6500 | Time: 93.15s\n"
     ]
    },
    {
     "name": "stderr",
     "output_type": "stream",
     "text": [
      "2025-06-21 13:42:26,187 - Epoch 9/10 | Train Loss: 0.4594 | Val Loss: 1.1985 | Val Acc: 0.6418 | Time: 96.82s\n"
     ]
    },
    {
     "name": "stdout",
     "output_type": "stream",
     "text": [
      "Epoch 9/10 | Train Loss: 0.4594 | Val Loss: 1.1985 | Val Acc: 0.6418 | Time: 96.82s\n"
     ]
    }
   ],
   "source": [
    "from tqdm import tqdm\n",
    "import optuna\n",
    "from optuna.pruners import MedianPruner\n",
    "import gc\n",
    "\n",
    "n_trials = 10\n",
    "epochs = 10\n",
    "models = ['mobilenet', 'vgg19', 'custom']\n",
    "data_path = entry_path + '/data/kers2013/'\n",
    "\n",
    "for model in models:\n",
    "    print(f\"\\n🔍 Optimizando para modelo: {model}\")\n",
    "\n",
    "    # 🎯 Función objetivo con soporte para pruning\n",
    "    def objective(trial: optuna.Trial) -> float:\n",
    "        torch.cuda.empty_cache()\n",
    "        gc.collect()\n",
    "        if model == 'vgg19':\n",
    "            batch_size_options = [16, 32]\n",
    "        else:\n",
    "            batch_size_options = [32, 48, 64]\n",
    "        batch_size = trial.suggest_categorical(\"batch_size\", batch_size_options)\n",
    "\n",
    "        lr = trial.suggest_float(\"lr\", 1e-4, 1e-3)\n",
    "\n",
    "        try:\n",
    "            history = main(model, batch_size, epochs, lr, data_path, trial=trial)\n",
    "\n",
    "            for epoch, val_acc in enumerate(history['val_accuracy']):\n",
    "                trial.report(val_acc, step=epoch)\n",
    "                if trial.should_prune():\n",
    "                    raise optuna.exceptions.TrialPruned()\n",
    "                \n",
    "            trial.set_user_attr(\"model\", history[\"model\"])\n",
    "\n",
    "        except RuntimeError as e:\n",
    "            if \"out of memory\" in str(e):\n",
    "                print(\"⚠️ Trial falló por falta de memoria\")\n",
    "                torch.cuda.empty_cache()\n",
    "                raise optuna.exceptions.TrialPruned()\n",
    "            else:\n",
    "                raise\n",
    "\n",
    "\n",
    "        return history['val_accuracy'][-1]\n",
    "\n",
    "    # 🔧 Carga módulo + pruning\n",
    "    module = optunahub.load_module(package=\"samplers/auto_sampler\")\n",
    "    pruner = MedianPruner(n_startup_trials=5, n_warmup_steps=3)\n",
    "    study = optuna.create_study(sampler=module.AutoSampler(), pruner=pruner, direction=\"maximize\")\n",
    "\n",
    "    # 📊 tqdm callback\n",
    "    pbar = tqdm(total=n_trials, desc=f\"{model}\")\n",
    "    def tqdm_callback(study, trial):\n",
    "        pbar.update(1)\n",
    "\n",
    "    # 🚀 Optimización\n",
    "    study.optimize(objective, n_trials=n_trials, callbacks=[tqdm_callback])\n",
    "    pbar.close()\n",
    "\n",
    "\n",
    "    if len(study.trials) > 0 and study.best_trial.user_attrs.get(\"model\"):\n",
    "        best_model = study.best_trial.user_attrs[\"model\"]\n",
    "        trial_num = study.best_trial.number\n",
    "        best_model_path = f\"{data_path}../models/{model}_trial{trial_num}_best.pt\"\n",
    "        torch.save(best_model.state_dict(), best_model_path)\n",
    "        print(f\"✅ Mejor modelo guardado en: {best_model_path}\")\n",
    "    else:\n",
    "        print(f\"⚠️ No se pudo guardar modelo para {model}. Todos los trials fallaron o fueron podados.\")\n",
    "\n",
    "\n"
   ]
  },
  {
   "cell_type": "markdown",
   "id": "f8e48710",
   "metadata": {},
   "source": []
  }
 ],
 "metadata": {
  "kernelspec": {
   "display_name": "nao_sv",
   "language": "python",
   "name": "python3"
  },
  "language_info": {
   "codemirror_mode": {
    "name": "ipython",
    "version": 3
   },
   "file_extension": ".py",
   "mimetype": "text/x-python",
   "name": "python",
   "nbconvert_exporter": "python",
   "pygments_lexer": "ipython3",
   "version": "3.9.23"
  }
 },
 "nbformat": 4,
 "nbformat_minor": 5
}
