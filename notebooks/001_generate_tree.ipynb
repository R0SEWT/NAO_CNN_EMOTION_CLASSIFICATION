{
 "cells": [
  {
   "cell_type": "code",
   "execution_count": null,
   "id": "c134ac44",
   "metadata": {},
   "outputs": [],
   "source": [
    "!TERM=dumb tree .. --noreport -I '__pycache__|checkpoints|pynaoqi-python2.7-2.8.6.23-linux64-20191127_152327' > ../doc/arbol.txt"
   ]
  },
  {
   "cell_type": "code",
   "execution_count": 28,
   "id": "aa8c3141",
   "metadata": {},
   "outputs": [],
   "source": [
    "with open(\"../doc/arbol.txt\", \"r\") as file:\n",
    "    contenido = file.readlines()\n"
   ]
  },
  {
   "cell_type": "code",
   "execution_count": 29,
   "id": "22254078",
   "metadata": {},
   "outputs": [
    {
     "data": {
      "text/plain": [
       "['.\\n',\n",
       " '├── apiflask\\n',\n",
       " '│\\xa0\\xa0 ├── api_emocion.py\\n',\n",
       " '│\\xa0\\xa0 ├── detectar_emocion.py\\n',\n",
       " '│\\xa0\\xa0 ├── logs_img\\n',\n",
       " '│\\xa0\\xa0 │\\xa0\\xa0 ├── 20250612_142409_neutral.jpg\\n',\n",
       " '│\\xa0\\xa0 │\\xa0\\xa0 ├── 20250612_142440_neutral.jpg\\n',\n",
       " '│\\xa0\\xa0 │\\xa0\\xa0 ├── 20250612_142627_no_face.jpg\\n',\n",
       " '│\\xa0\\xa0 │\\xa0\\xa0 ├── 20250612_142703_neutral.jpg\\n',\n",
       " '│\\xa0\\xa0 │\\xa0\\xa0 ├── 20250612_142829_happy.jpg\\n']"
      ]
     },
     "execution_count": 29,
     "metadata": {},
     "output_type": "execute_result"
    }
   ],
   "source": [
    "contenido[:10]"
   ]
  },
  {
   "cell_type": "code",
   "execution_count": 30,
   "id": "38f8d35b",
   "metadata": {},
   "outputs": [],
   "source": [
    "contenido = [l for l in contenido if not l.endswith(\".jpg\\n\")]"
   ]
  },
  {
   "cell_type": "code",
   "execution_count": 31,
   "id": "4bf6bfae",
   "metadata": {},
   "outputs": [],
   "source": [
    "with open(\"../doc/arbol.txt\", \"w\") as file:\n",
    "    file.writelines(contenido)"
   ]
  }
 ],
 "metadata": {
  "kernelspec": {
   "display_name": "nao_sv",
   "language": "python",
   "name": "python3"
  },
  "language_info": {
   "codemirror_mode": {
    "name": "ipython",
    "version": 3
   },
   "file_extension": ".py",
   "mimetype": "text/x-python",
   "name": "python",
   "nbconvert_exporter": "python",
   "pygments_lexer": "ipython3",
   "version": "3.9.23"
  }
 },
 "nbformat": 4,
 "nbformat_minor": 5
}
